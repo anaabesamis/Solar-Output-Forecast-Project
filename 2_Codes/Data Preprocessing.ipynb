{
 "cells": [
  {
   "cell_type": "code",
   "execution_count": 1,
   "id": "d898ae8f",
   "metadata": {},
   "outputs": [
    {
     "name": "stdout",
     "output_type": "stream",
     "text": [
      "Defaulting to user installation because normal site-packages is not writeable\n",
      "Requirement already satisfied: scikit-learn in c:\\users\\ana.abesamis\\appdata\\roaming\\python\\python39\\site-packages (1.1.3)\n",
      "Requirement already satisfied: numpy>=1.17.3 in c:\\programdata\\anaconda3\\lib\\site-packages (from scikit-learn) (1.21.5)\n",
      "Requirement already satisfied: scipy>=1.3.2 in c:\\programdata\\anaconda3\\lib\\site-packages (from scikit-learn) (1.7.3)\n",
      "Requirement already satisfied: threadpoolctl>=2.0.0 in c:\\programdata\\anaconda3\\lib\\site-packages (from scikit-learn) (2.2.0)\n",
      "Requirement already satisfied: joblib>=1.0.0 in c:\\programdata\\anaconda3\\lib\\site-packages (from scikit-learn) (1.1.0)\n",
      "Note: you may need to restart the kernel to use updated packages.\n"
     ]
    }
   ],
   "source": [
    "pip install -U scikit-learn"
   ]
  },
  {
   "cell_type": "code",
   "execution_count": 2,
   "id": "19007cec",
   "metadata": {},
   "outputs": [],
   "source": [
    "import pandas as pd\n",
    "import matplotlib\n",
    "import matplotlib.pyplot as plt\n",
    "import numpy as np\n",
    "import seaborn as sns"
   ]
  },
  {
   "cell_type": "code",
   "execution_count": 3,
   "id": "e1582ca2",
   "metadata": {},
   "outputs": [
    {
     "data": {
      "text/html": [
       "<div>\n",
       "<style scoped>\n",
       "    .dataframe tbody tr th:only-of-type {\n",
       "        vertical-align: middle;\n",
       "    }\n",
       "\n",
       "    .dataframe tbody tr th {\n",
       "        vertical-align: top;\n",
       "    }\n",
       "\n",
       "    .dataframe thead th {\n",
       "        text-align: right;\n",
       "    }\n",
       "</style>\n",
       "<table border=\"1\" class=\"dataframe\">\n",
       "  <thead>\n",
       "    <tr style=\"text-align: right;\">\n",
       "      <th></th>\n",
       "      <th>Location</th>\n",
       "      <th>Date</th>\n",
       "      <th>Time</th>\n",
       "      <th>Latitude</th>\n",
       "      <th>Longitude</th>\n",
       "      <th>Altitude</th>\n",
       "      <th>YRMODAHRMI</th>\n",
       "      <th>Month</th>\n",
       "      <th>Hour</th>\n",
       "      <th>Season</th>\n",
       "      <th>Humidity</th>\n",
       "      <th>AmbientTemp</th>\n",
       "      <th>PolyPwr</th>\n",
       "      <th>Wind.Speed</th>\n",
       "      <th>Visibility</th>\n",
       "      <th>Pressure</th>\n",
       "      <th>Cloud.Ceiling</th>\n",
       "    </tr>\n",
       "  </thead>\n",
       "  <tbody>\n",
       "    <tr>\n",
       "      <th>0</th>\n",
       "      <td>Camp Murray</td>\n",
       "      <td>20171203</td>\n",
       "      <td>1145</td>\n",
       "      <td>47.11</td>\n",
       "      <td>-122.57</td>\n",
       "      <td>84</td>\n",
       "      <td>2.017120e+11</td>\n",
       "      <td>12</td>\n",
       "      <td>11</td>\n",
       "      <td>Winter</td>\n",
       "      <td>81.71997</td>\n",
       "      <td>12.86919</td>\n",
       "      <td>2.42769</td>\n",
       "      <td>5</td>\n",
       "      <td>10.0</td>\n",
       "      <td>1010.6</td>\n",
       "      <td>722</td>\n",
       "    </tr>\n",
       "    <tr>\n",
       "      <th>1</th>\n",
       "      <td>Camp Murray</td>\n",
       "      <td>20171203</td>\n",
       "      <td>1315</td>\n",
       "      <td>47.11</td>\n",
       "      <td>-122.57</td>\n",
       "      <td>84</td>\n",
       "      <td>2.017120e+11</td>\n",
       "      <td>12</td>\n",
       "      <td>13</td>\n",
       "      <td>Winter</td>\n",
       "      <td>96.64917</td>\n",
       "      <td>9.66415</td>\n",
       "      <td>2.46273</td>\n",
       "      <td>0</td>\n",
       "      <td>10.0</td>\n",
       "      <td>1011.3</td>\n",
       "      <td>23</td>\n",
       "    </tr>\n",
       "    <tr>\n",
       "      <th>2</th>\n",
       "      <td>Camp Murray</td>\n",
       "      <td>20171203</td>\n",
       "      <td>1330</td>\n",
       "      <td>47.11</td>\n",
       "      <td>-122.57</td>\n",
       "      <td>84</td>\n",
       "      <td>2.017120e+11</td>\n",
       "      <td>12</td>\n",
       "      <td>13</td>\n",
       "      <td>Winter</td>\n",
       "      <td>93.61572</td>\n",
       "      <td>15.44983</td>\n",
       "      <td>4.46836</td>\n",
       "      <td>5</td>\n",
       "      <td>10.0</td>\n",
       "      <td>1011.6</td>\n",
       "      <td>32</td>\n",
       "    </tr>\n",
       "    <tr>\n",
       "      <th>3</th>\n",
       "      <td>Camp Murray</td>\n",
       "      <td>20171204</td>\n",
       "      <td>1230</td>\n",
       "      <td>47.11</td>\n",
       "      <td>-122.57</td>\n",
       "      <td>84</td>\n",
       "      <td>2.017120e+11</td>\n",
       "      <td>12</td>\n",
       "      <td>12</td>\n",
       "      <td>Winter</td>\n",
       "      <td>77.21558</td>\n",
       "      <td>10.36659</td>\n",
       "      <td>1.65364</td>\n",
       "      <td>5</td>\n",
       "      <td>2.0</td>\n",
       "      <td>1024.4</td>\n",
       "      <td>6</td>\n",
       "    </tr>\n",
       "    <tr>\n",
       "      <th>4</th>\n",
       "      <td>Camp Murray</td>\n",
       "      <td>20171204</td>\n",
       "      <td>1415</td>\n",
       "      <td>47.11</td>\n",
       "      <td>-122.57</td>\n",
       "      <td>84</td>\n",
       "      <td>2.017120e+11</td>\n",
       "      <td>12</td>\n",
       "      <td>14</td>\n",
       "      <td>Winter</td>\n",
       "      <td>54.80347</td>\n",
       "      <td>16.85471</td>\n",
       "      <td>6.57939</td>\n",
       "      <td>3</td>\n",
       "      <td>3.0</td>\n",
       "      <td>1023.7</td>\n",
       "      <td>9</td>\n",
       "    </tr>\n",
       "  </tbody>\n",
       "</table>\n",
       "</div>"
      ],
      "text/plain": [
       "      Location      Date  Time  Latitude  Longitude  Altitude    YRMODAHRMI  \\\n",
       "0  Camp Murray  20171203  1145     47.11    -122.57        84  2.017120e+11   \n",
       "1  Camp Murray  20171203  1315     47.11    -122.57        84  2.017120e+11   \n",
       "2  Camp Murray  20171203  1330     47.11    -122.57        84  2.017120e+11   \n",
       "3  Camp Murray  20171204  1230     47.11    -122.57        84  2.017120e+11   \n",
       "4  Camp Murray  20171204  1415     47.11    -122.57        84  2.017120e+11   \n",
       "\n",
       "   Month  Hour  Season  Humidity  AmbientTemp  PolyPwr  Wind.Speed  \\\n",
       "0     12    11  Winter  81.71997     12.86919  2.42769           5   \n",
       "1     12    13  Winter  96.64917      9.66415  2.46273           0   \n",
       "2     12    13  Winter  93.61572     15.44983  4.46836           5   \n",
       "3     12    12  Winter  77.21558     10.36659  1.65364           5   \n",
       "4     12    14  Winter  54.80347     16.85471  6.57939           3   \n",
       "\n",
       "   Visibility  Pressure  Cloud.Ceiling  \n",
       "0        10.0    1010.6            722  \n",
       "1        10.0    1011.3             23  \n",
       "2        10.0    1011.6             32  \n",
       "3         2.0    1024.4              6  \n",
       "4         3.0    1023.7              9  "
      ]
     },
     "execution_count": 3,
     "metadata": {},
     "output_type": "execute_result"
    }
   ],
   "source": [
    "df = pd.read_csv('Pasion et al dataset.csv', sep=',', header=0)\n",
    "df.head()"
   ]
  },
  {
   "cell_type": "code",
   "execution_count": 4,
   "id": "ccb3a937",
   "metadata": {},
   "outputs": [
    {
     "data": {
      "text/html": [
       "<div>\n",
       "<style scoped>\n",
       "    .dataframe tbody tr th:only-of-type {\n",
       "        vertical-align: middle;\n",
       "    }\n",
       "\n",
       "    .dataframe tbody tr th {\n",
       "        vertical-align: top;\n",
       "    }\n",
       "\n",
       "    .dataframe thead th {\n",
       "        text-align: right;\n",
       "    }\n",
       "</style>\n",
       "<table border=\"1\" class=\"dataframe\">\n",
       "  <thead>\n",
       "    <tr style=\"text-align: right;\">\n",
       "      <th></th>\n",
       "      <th>Date</th>\n",
       "      <th>Time</th>\n",
       "      <th>Latitude</th>\n",
       "      <th>Longitude</th>\n",
       "      <th>Altitude</th>\n",
       "      <th>YRMODAHRMI</th>\n",
       "      <th>Month</th>\n",
       "      <th>Hour</th>\n",
       "      <th>Humidity</th>\n",
       "      <th>AmbientTemp</th>\n",
       "      <th>PolyPwr</th>\n",
       "      <th>Wind.Speed</th>\n",
       "      <th>Visibility</th>\n",
       "      <th>Pressure</th>\n",
       "      <th>Cloud.Ceiling</th>\n",
       "    </tr>\n",
       "  </thead>\n",
       "  <tbody>\n",
       "    <tr>\n",
       "      <th>count</th>\n",
       "      <td>2.104500e+04</td>\n",
       "      <td>21045.000000</td>\n",
       "      <td>21045.000000</td>\n",
       "      <td>21045.000000</td>\n",
       "      <td>21045.000000</td>\n",
       "      <td>2.104500e+04</td>\n",
       "      <td>21045.000000</td>\n",
       "      <td>21045.000000</td>\n",
       "      <td>21045.000000</td>\n",
       "      <td>21045.000000</td>\n",
       "      <td>21045.000000</td>\n",
       "      <td>21045.000000</td>\n",
       "      <td>21045.000000</td>\n",
       "      <td>21045.000000</td>\n",
       "      <td>21045.000000</td>\n",
       "    </tr>\n",
       "    <tr>\n",
       "      <th>mean</th>\n",
       "      <td>2.017720e+07</td>\n",
       "      <td>1267.483725</td>\n",
       "      <td>38.213823</td>\n",
       "      <td>-108.593678</td>\n",
       "      <td>798.843668</td>\n",
       "      <td>2.017718e+11</td>\n",
       "      <td>6.565883</td>\n",
       "      <td>12.627845</td>\n",
       "      <td>37.121941</td>\n",
       "      <td>29.285117</td>\n",
       "      <td>12.978583</td>\n",
       "      <td>10.318318</td>\n",
       "      <td>9.700071</td>\n",
       "      <td>925.944747</td>\n",
       "      <td>515.966785</td>\n",
       "    </tr>\n",
       "    <tr>\n",
       "      <th>std</th>\n",
       "      <td>4.579585e+03</td>\n",
       "      <td>167.602767</td>\n",
       "      <td>6.323761</td>\n",
       "      <td>16.364130</td>\n",
       "      <td>770.681794</td>\n",
       "      <td>4.579846e+07</td>\n",
       "      <td>2.983958</td>\n",
       "      <td>1.672952</td>\n",
       "      <td>23.823011</td>\n",
       "      <td>12.366820</td>\n",
       "      <td>7.123255</td>\n",
       "      <td>6.385030</td>\n",
       "      <td>1.351949</td>\n",
       "      <td>85.215659</td>\n",
       "      <td>301.903379</td>\n",
       "    </tr>\n",
       "    <tr>\n",
       "      <th>min</th>\n",
       "      <td>2.017052e+07</td>\n",
       "      <td>1000.000000</td>\n",
       "      <td>20.890000</td>\n",
       "      <td>-156.440000</td>\n",
       "      <td>1.000000</td>\n",
       "      <td>2.017050e+11</td>\n",
       "      <td>1.000000</td>\n",
       "      <td>10.000000</td>\n",
       "      <td>0.000000</td>\n",
       "      <td>-19.981770</td>\n",
       "      <td>0.257330</td>\n",
       "      <td>0.000000</td>\n",
       "      <td>0.000000</td>\n",
       "      <td>781.700000</td>\n",
       "      <td>0.000000</td>\n",
       "    </tr>\n",
       "    <tr>\n",
       "      <th>25%</th>\n",
       "      <td>2.017111e+07</td>\n",
       "      <td>1100.000000</td>\n",
       "      <td>38.160000</td>\n",
       "      <td>-117.260000</td>\n",
       "      <td>2.000000</td>\n",
       "      <td>2.017110e+11</td>\n",
       "      <td>4.000000</td>\n",
       "      <td>11.000000</td>\n",
       "      <td>17.529300</td>\n",
       "      <td>21.915280</td>\n",
       "      <td>6.404570</td>\n",
       "      <td>6.000000</td>\n",
       "      <td>10.000000</td>\n",
       "      <td>845.500000</td>\n",
       "      <td>140.000000</td>\n",
       "    </tr>\n",
       "    <tr>\n",
       "      <th>50%</th>\n",
       "      <td>2.018032e+07</td>\n",
       "      <td>1300.000000</td>\n",
       "      <td>38.950000</td>\n",
       "      <td>-111.180000</td>\n",
       "      <td>458.000000</td>\n",
       "      <td>2.018030e+11</td>\n",
       "      <td>7.000000</td>\n",
       "      <td>13.000000</td>\n",
       "      <td>33.123780</td>\n",
       "      <td>30.289150</td>\n",
       "      <td>13.798700</td>\n",
       "      <td>9.000000</td>\n",
       "      <td>10.000000</td>\n",
       "      <td>961.100000</td>\n",
       "      <td>722.000000</td>\n",
       "    </tr>\n",
       "    <tr>\n",
       "      <th>75%</th>\n",
       "      <td>2.018062e+07</td>\n",
       "      <td>1400.000000</td>\n",
       "      <td>41.150000</td>\n",
       "      <td>-104.710000</td>\n",
       "      <td>1370.000000</td>\n",
       "      <td>2.018060e+11</td>\n",
       "      <td>9.000000</td>\n",
       "      <td>14.000000</td>\n",
       "      <td>52.593990</td>\n",
       "      <td>37.474670</td>\n",
       "      <td>18.863650</td>\n",
       "      <td>14.000000</td>\n",
       "      <td>10.000000</td>\n",
       "      <td>1008.900000</td>\n",
       "      <td>722.000000</td>\n",
       "    </tr>\n",
       "    <tr>\n",
       "      <th>max</th>\n",
       "      <td>2.018100e+07</td>\n",
       "      <td>1545.000000</td>\n",
       "      <td>47.520000</td>\n",
       "      <td>-80.110000</td>\n",
       "      <td>1947.000000</td>\n",
       "      <td>2.018100e+11</td>\n",
       "      <td>12.000000</td>\n",
       "      <td>15.000000</td>\n",
       "      <td>99.987790</td>\n",
       "      <td>65.738370</td>\n",
       "      <td>34.285020</td>\n",
       "      <td>49.000000</td>\n",
       "      <td>10.000000</td>\n",
       "      <td>1029.500000</td>\n",
       "      <td>722.000000</td>\n",
       "    </tr>\n",
       "  </tbody>\n",
       "</table>\n",
       "</div>"
      ],
      "text/plain": [
       "               Date          Time      Latitude     Longitude      Altitude  \\\n",
       "count  2.104500e+04  21045.000000  21045.000000  21045.000000  21045.000000   \n",
       "mean   2.017720e+07   1267.483725     38.213823   -108.593678    798.843668   \n",
       "std    4.579585e+03    167.602767      6.323761     16.364130    770.681794   \n",
       "min    2.017052e+07   1000.000000     20.890000   -156.440000      1.000000   \n",
       "25%    2.017111e+07   1100.000000     38.160000   -117.260000      2.000000   \n",
       "50%    2.018032e+07   1300.000000     38.950000   -111.180000    458.000000   \n",
       "75%    2.018062e+07   1400.000000     41.150000   -104.710000   1370.000000   \n",
       "max    2.018100e+07   1545.000000     47.520000    -80.110000   1947.000000   \n",
       "\n",
       "         YRMODAHRMI         Month          Hour      Humidity   AmbientTemp  \\\n",
       "count  2.104500e+04  21045.000000  21045.000000  21045.000000  21045.000000   \n",
       "mean   2.017718e+11      6.565883     12.627845     37.121941     29.285117   \n",
       "std    4.579846e+07      2.983958      1.672952     23.823011     12.366820   \n",
       "min    2.017050e+11      1.000000     10.000000      0.000000    -19.981770   \n",
       "25%    2.017110e+11      4.000000     11.000000     17.529300     21.915280   \n",
       "50%    2.018030e+11      7.000000     13.000000     33.123780     30.289150   \n",
       "75%    2.018060e+11      9.000000     14.000000     52.593990     37.474670   \n",
       "max    2.018100e+11     12.000000     15.000000     99.987790     65.738370   \n",
       "\n",
       "            PolyPwr    Wind.Speed    Visibility      Pressure  Cloud.Ceiling  \n",
       "count  21045.000000  21045.000000  21045.000000  21045.000000   21045.000000  \n",
       "mean      12.978583     10.318318      9.700071    925.944747     515.966785  \n",
       "std        7.123255      6.385030      1.351949     85.215659     301.903379  \n",
       "min        0.257330      0.000000      0.000000    781.700000       0.000000  \n",
       "25%        6.404570      6.000000     10.000000    845.500000     140.000000  \n",
       "50%       13.798700      9.000000     10.000000    961.100000     722.000000  \n",
       "75%       18.863650     14.000000     10.000000   1008.900000     722.000000  \n",
       "max       34.285020     49.000000     10.000000   1029.500000     722.000000  "
      ]
     },
     "execution_count": 4,
     "metadata": {},
     "output_type": "execute_result"
    }
   ],
   "source": [
    "df.describe()"
   ]
  },
  {
   "cell_type": "markdown",
   "id": "18fc785b",
   "metadata": {},
   "source": [
    "## Understanding the dataset "
   ]
  },
  {
   "cell_type": "code",
   "execution_count": 5,
   "id": "92d4ed77",
   "metadata": {},
   "outputs": [
    {
     "name": "stdout",
     "output_type": "stream",
     "text": [
      "Location          object\n",
      "Date               int64\n",
      "Time               int64\n",
      "Latitude         float64\n",
      "Longitude        float64\n",
      "Altitude           int64\n",
      "YRMODAHRMI       float64\n",
      "Month              int64\n",
      "Hour               int64\n",
      "Season            object\n",
      "Humidity         float64\n",
      "AmbientTemp      float64\n",
      "PolyPwr          float64\n",
      "Wind.Speed         int64\n",
      "Visibility       float64\n",
      "Pressure         float64\n",
      "Cloud.Ceiling      int64\n",
      "dtype: object\n"
     ]
    }
   ],
   "source": [
    "print(df.dtypes)"
   ]
  },
  {
   "cell_type": "code",
   "execution_count": 6,
   "id": "10656baf",
   "metadata": {},
   "outputs": [
    {
     "data": {
      "text/plain": [
       "Location         0\n",
       "Date             0\n",
       "Time             0\n",
       "Latitude         0\n",
       "Longitude        0\n",
       "Altitude         0\n",
       "YRMODAHRMI       0\n",
       "Month            0\n",
       "Hour             0\n",
       "Season           0\n",
       "Humidity         0\n",
       "AmbientTemp      0\n",
       "PolyPwr          0\n",
       "Wind.Speed       0\n",
       "Visibility       0\n",
       "Pressure         0\n",
       "Cloud.Ceiling    0\n",
       "dtype: int64"
      ]
     },
     "execution_count": 6,
     "metadata": {},
     "output_type": "execute_result"
    }
   ],
   "source": [
    "# Missing Value Check\n",
    "df.isnull().sum()"
   ]
  },
  {
   "cell_type": "code",
   "execution_count": 7,
   "id": "62c0ad07",
   "metadata": {},
   "outputs": [
    {
     "data": {
      "text/plain": [
       "<AxesSubplot:>"
      ]
     },
     "execution_count": 7,
     "metadata": {},
     "output_type": "execute_result"
    },
    {
     "data": {
      "image/png": "[encoded data removed]",
      "text/plain": [
       "<Figure size 864x216 with 2 Axes>"
      ]
     },
     "metadata": {
      "needs_background": "light"
     },
     "output_type": "display_data"
    }
   ],
   "source": [
    "# Missing Value Check - Visualized\n",
    "plt.figure(figsize=(12,3))\n",
    "sns.heatmap(df.isnull(), cmap=\"magma\")"
   ]
  },
  {
   "cell_type": "code",
   "execution_count": 8,
   "id": "cb4a1ff9",
   "metadata": {},
   "outputs": [],
   "source": [
    "df['Date_Transform'] = pd.to_datetime(df['Date'], format='%Y%m%d')"
   ]
  },
  {
   "cell_type": "code",
   "execution_count": 9,
   "id": "042db2d2",
   "metadata": {},
   "outputs": [
    {
     "data": {
      "text/html": [
       "<div>\n",
       "<style scoped>\n",
       "    .dataframe tbody tr th:only-of-type {\n",
       "        vertical-align: middle;\n",
       "    }\n",
       "\n",
       "    .dataframe tbody tr th {\n",
       "        vertical-align: top;\n",
       "    }\n",
       "\n",
       "    .dataframe thead th {\n",
       "        text-align: right;\n",
       "    }\n",
       "</style>\n",
       "<table border=\"1\" class=\"dataframe\">\n",
       "  <thead>\n",
       "    <tr style=\"text-align: right;\">\n",
       "      <th></th>\n",
       "      <th>Date</th>\n",
       "      <th>Time</th>\n",
       "      <th>Latitude</th>\n",
       "      <th>Longitude</th>\n",
       "      <th>Altitude</th>\n",
       "      <th>YRMODAHRMI</th>\n",
       "      <th>Month</th>\n",
       "      <th>Hour</th>\n",
       "      <th>Humidity</th>\n",
       "      <th>AmbientTemp</th>\n",
       "      <th>PolyPwr</th>\n",
       "      <th>Wind.Speed</th>\n",
       "      <th>Visibility</th>\n",
       "      <th>Pressure</th>\n",
       "      <th>Cloud.Ceiling</th>\n",
       "    </tr>\n",
       "  </thead>\n",
       "  <tbody>\n",
       "    <tr>\n",
       "      <th>count</th>\n",
       "      <td>2.104500e+04</td>\n",
       "      <td>21045.000000</td>\n",
       "      <td>21045.000000</td>\n",
       "      <td>21045.000000</td>\n",
       "      <td>21045.000000</td>\n",
       "      <td>2.104500e+04</td>\n",
       "      <td>21045.000000</td>\n",
       "      <td>21045.000000</td>\n",
       "      <td>21045.000000</td>\n",
       "      <td>21045.000000</td>\n",
       "      <td>21045.000000</td>\n",
       "      <td>21045.000000</td>\n",
       "      <td>21045.000000</td>\n",
       "      <td>21045.000000</td>\n",
       "      <td>21045.000000</td>\n",
       "    </tr>\n",
       "    <tr>\n",
       "      <th>mean</th>\n",
       "      <td>2.017720e+07</td>\n",
       "      <td>1267.483725</td>\n",
       "      <td>38.213823</td>\n",
       "      <td>-108.593678</td>\n",
       "      <td>798.843668</td>\n",
       "      <td>2.017718e+11</td>\n",
       "      <td>6.565883</td>\n",
       "      <td>12.627845</td>\n",
       "      <td>37.121941</td>\n",
       "      <td>29.285117</td>\n",
       "      <td>12.978583</td>\n",
       "      <td>10.318318</td>\n",
       "      <td>9.700071</td>\n",
       "      <td>925.944747</td>\n",
       "      <td>515.966785</td>\n",
       "    </tr>\n",
       "    <tr>\n",
       "      <th>std</th>\n",
       "      <td>4.579585e+03</td>\n",
       "      <td>167.602767</td>\n",
       "      <td>6.323761</td>\n",
       "      <td>16.364130</td>\n",
       "      <td>770.681794</td>\n",
       "      <td>4.579846e+07</td>\n",
       "      <td>2.983958</td>\n",
       "      <td>1.672952</td>\n",
       "      <td>23.823011</td>\n",
       "      <td>12.366820</td>\n",
       "      <td>7.123255</td>\n",
       "      <td>6.385030</td>\n",
       "      <td>1.351949</td>\n",
       "      <td>85.215659</td>\n",
       "      <td>301.903379</td>\n",
       "    </tr>\n",
       "    <tr>\n",
       "      <th>min</th>\n",
       "      <td>2.017052e+07</td>\n",
       "      <td>1000.000000</td>\n",
       "      <td>20.890000</td>\n",
       "      <td>-156.440000</td>\n",
       "      <td>1.000000</td>\n",
       "      <td>2.017050e+11</td>\n",
       "      <td>1.000000</td>\n",
       "      <td>10.000000</td>\n",
       "      <td>0.000000</td>\n",
       "      <td>-19.981770</td>\n",
       "      <td>0.257330</td>\n",
       "      <td>0.000000</td>\n",
       "      <td>0.000000</td>\n",
       "      <td>781.700000</td>\n",
       "      <td>0.000000</td>\n",
       "    </tr>\n",
       "    <tr>\n",
       "      <th>25%</th>\n",
       "      <td>2.017111e+07</td>\n",
       "      <td>1100.000000</td>\n",
       "      <td>38.160000</td>\n",
       "      <td>-117.260000</td>\n",
       "      <td>2.000000</td>\n",
       "      <td>2.017110e+11</td>\n",
       "      <td>4.000000</td>\n",
       "      <td>11.000000</td>\n",
       "      <td>17.529300</td>\n",
       "      <td>21.915280</td>\n",
       "      <td>6.404570</td>\n",
       "      <td>6.000000</td>\n",
       "      <td>10.000000</td>\n",
       "      <td>845.500000</td>\n",
       "      <td>140.000000</td>\n",
       "    </tr>\n",
       "    <tr>\n",
       "      <th>50%</th>\n",
       "      <td>2.018032e+07</td>\n",
       "      <td>1300.000000</td>\n",
       "      <td>38.950000</td>\n",
       "      <td>-111.180000</td>\n",
       "      <td>458.000000</td>\n",
       "      <td>2.018030e+11</td>\n",
       "      <td>7.000000</td>\n",
       "      <td>13.000000</td>\n",
       "      <td>33.123780</td>\n",
       "      <td>30.289150</td>\n",
       "      <td>13.798700</td>\n",
       "      <td>9.000000</td>\n",
       "      <td>10.000000</td>\n",
       "      <td>961.100000</td>\n",
       "      <td>722.000000</td>\n",
       "    </tr>\n",
       "    <tr>\n",
       "      <th>75%</th>\n",
       "      <td>2.018062e+07</td>\n",
       "      <td>1400.000000</td>\n",
       "      <td>41.150000</td>\n",
       "      <td>-104.710000</td>\n",
       "      <td>1370.000000</td>\n",
       "      <td>2.018060e+11</td>\n",
       "      <td>9.000000</td>\n",
       "      <td>14.000000</td>\n",
       "      <td>52.593990</td>\n",
       "      <td>37.474670</td>\n",
       "      <td>18.863650</td>\n",
       "      <td>14.000000</td>\n",
       "      <td>10.000000</td>\n",
       "      <td>1008.900000</td>\n",
       "      <td>722.000000</td>\n",
       "    </tr>\n",
       "    <tr>\n",
       "      <th>max</th>\n",
       "      <td>2.018100e+07</td>\n",
       "      <td>1545.000000</td>\n",
       "      <td>47.520000</td>\n",
       "      <td>-80.110000</td>\n",
       "      <td>1947.000000</td>\n",
       "      <td>2.018100e+11</td>\n",
       "      <td>12.000000</td>\n",
       "      <td>15.000000</td>\n",
       "      <td>99.987790</td>\n",
       "      <td>65.738370</td>\n",
       "      <td>34.285020</td>\n",
       "      <td>49.000000</td>\n",
       "      <td>10.000000</td>\n",
       "      <td>1029.500000</td>\n",
       "      <td>722.000000</td>\n",
       "    </tr>\n",
       "  </tbody>\n",
       "</table>\n",
       "</div>"
      ],
      "text/plain": [
       "               Date          Time      Latitude     Longitude      Altitude  \\\n",
       "count  2.104500e+04  21045.000000  21045.000000  21045.000000  21045.000000   \n",
       "mean   2.017720e+07   1267.483725     38.213823   -108.593678    798.843668   \n",
       "std    4.579585e+03    167.602767      6.323761     16.364130    770.681794   \n",
       "min    2.017052e+07   1000.000000     20.890000   -156.440000      1.000000   \n",
       "25%    2.017111e+07   1100.000000     38.160000   -117.260000      2.000000   \n",
       "50%    2.018032e+07   1300.000000     38.950000   -111.180000    458.000000   \n",
       "75%    2.018062e+07   1400.000000     41.150000   -104.710000   1370.000000   \n",
       "max    2.018100e+07   1545.000000     47.520000    -80.110000   1947.000000   \n",
       "\n",
       "         YRMODAHRMI         Month          Hour      Humidity   AmbientTemp  \\\n",
       "count  2.104500e+04  21045.000000  21045.000000  21045.000000  21045.000000   \n",
       "mean   2.017718e+11      6.565883     12.627845     37.121941     29.285117   \n",
       "std    4.579846e+07      2.983958      1.672952     23.823011     12.366820   \n",
       "min    2.017050e+11      1.000000     10.000000      0.000000    -19.981770   \n",
       "25%    2.017110e+11      4.000000     11.000000     17.529300     21.915280   \n",
       "50%    2.018030e+11      7.000000     13.000000     33.123780     30.289150   \n",
       "75%    2.018060e+11      9.000000     14.000000     52.593990     37.474670   \n",
       "max    2.018100e+11     12.000000     15.000000     99.987790     65.738370   \n",
       "\n",
       "            PolyPwr    Wind.Speed    Visibility      Pressure  Cloud.Ceiling  \n",
       "count  21045.000000  21045.000000  21045.000000  21045.000000   21045.000000  \n",
       "mean      12.978583     10.318318      9.700071    925.944747     515.966785  \n",
       "std        7.123255      6.385030      1.351949     85.215659     301.903379  \n",
       "min        0.257330      0.000000      0.000000    781.700000       0.000000  \n",
       "25%        6.404570      6.000000     10.000000    845.500000     140.000000  \n",
       "50%       13.798700      9.000000     10.000000    961.100000     722.000000  \n",
       "75%       18.863650     14.000000     10.000000   1008.900000     722.000000  \n",
       "max       34.285020     49.000000     10.000000   1029.500000     722.000000  "
      ]
     },
     "execution_count": 9,
     "metadata": {},
     "output_type": "execute_result"
    }
   ],
   "source": [
    "df.describe()\n",
    "\n",
    "# Some insights to note:\n",
    "# Observation times are only between 10 AM and 3:45 PM\n",
    "# Dates (Month/Day/Year) are not considered as good input variables for the model"
   ]
  },
  {
   "cell_type": "code",
   "execution_count": 10,
   "id": "60843564",
   "metadata": {},
   "outputs": [
    {
     "data": {
      "text/plain": [
       "<AxesSubplot:xlabel='Date_Transform', ylabel='Count'>"
      ]
     },
     "execution_count": 10,
     "metadata": {},
     "output_type": "execute_result"
    },
    {
     "data": {
      "image/png": "[encoded data removed]",
      "text/plain": [
       "<Figure size 2592x216 with 1 Axes>"
      ]
     },
     "metadata": {
      "needs_background": "light"
     },
     "output_type": "display_data"
    }
   ],
   "source": [
    "# Distribution of data across observation dates\n",
    "plt.figure(figsize=(36,3))\n",
    "sns.set_palette(\"pastel\")\n",
    "sns.histplot(x='Date_Transform', stat='count', data=df)"
   ]
  },
  {
   "cell_type": "code",
   "execution_count": 11,
   "id": "4ab7272e",
   "metadata": {},
   "outputs": [
    {
     "data": {
      "text/plain": [
       "<AxesSubplot:xlabel='Time', ylabel='Count'>"
      ]
     },
     "execution_count": 11,
     "metadata": {},
     "output_type": "execute_result"
    },
    {
     "data": {
      "image/png": "[encoded data removed]",
      "text/plain": [
       "<Figure size 2592x216 with 1 Axes>"
      ]
     },
     "metadata": {
      "needs_background": "light"
     },
     "output_type": "display_data"
    }
   ],
   "source": [
    "# Distribution of data across 15-min intervals, regardless of dates\n",
    "plt.figure(figsize=(36,3))\n",
    "sns.histplot(x='Time', stat='count', data=df)"
   ]
  },
  {
   "cell_type": "code",
   "execution_count": 12,
   "id": "95f45f9d",
   "metadata": {},
   "outputs": [
    {
     "data": {
      "text/plain": [
       "24"
      ]
     },
     "execution_count": 12,
     "metadata": {},
     "output_type": "execute_result"
    }
   ],
   "source": [
    "df['Time'].nunique() # Total count of 15-min time intervals in the dataset"
   ]
  },
  {
   "cell_type": "code",
   "execution_count": 13,
   "id": "469b170d",
   "metadata": {},
   "outputs": [
    {
     "data": {
      "text/plain": [
       "<AxesSubplot:xlabel='Season', ylabel='Count'>"
      ]
     },
     "execution_count": 13,
     "metadata": {},
     "output_type": "execute_result"
    },
    {
     "data": {
      "image/png": "[encoded data removed]",
      "text/plain": [
       "<Figure size 864x216 with 1 Axes>"
      ]
     },
     "metadata": {
      "needs_background": "light"
     },
     "output_type": "display_data"
    }
   ],
   "source": [
    "# Distribution of data across seasons, regardless of year\n",
    "plt.figure(figsize=(12,3))\n",
    "sns.histplot(x='Season', stat='count', data=df)"
   ]
  },
  {
   "cell_type": "code",
   "execution_count": 14,
   "id": "cfe94db2",
   "metadata": {},
   "outputs": [
    {
     "data": {
      "text/plain": [
       "<AxesSubplot:xlabel='Location', ylabel='Count'>"
      ]
     },
     "execution_count": 14,
     "metadata": {},
     "output_type": "execute_result"
    },
    {
     "data": {
      "image/png": "[encoded data removed]",
      "text/plain": [
       "<Figure size 2592x216 with 1 Axes>"
      ]
     },
     "metadata": {
      "needs_background": "light"
     },
     "output_type": "display_data"
    }
   ],
   "source": [
    "# Distribution of data across power generation sites\n",
    "plt.figure(figsize=(36,3))\n",
    "sns.histplot(x='Location', stat='count', data=df)"
   ]
  },
  {
   "cell_type": "markdown",
   "id": "ecdcad9c",
   "metadata": {},
   "source": [
    "### Feature Elimination of Variables"
   ]
  },
  {
   "cell_type": "code",
   "execution_count": 15,
   "id": "86f2cb24",
   "metadata": {},
   "outputs": [],
   "source": [
    "df = df.drop(columns=['Date', 'Time', 'YRMODAHRMI', 'Date_Transform'])\n",
    "# These time variables are either redundant or unnecessary.\n",
    "# Exact dates and exact times carry no meaning on their own, unlike other inputs such as humidity, temp, etc."
   ]
  },
  {
   "cell_type": "code",
   "execution_count": 16,
   "id": "29f4118a",
   "metadata": {},
   "outputs": [],
   "source": [
    "df = df.drop('Location', axis=1)\n",
    "# Site identification has no meaning to the prediction models, but its latitude and longitude could possibly be used as inputs."
   ]
  },
  {
   "cell_type": "code",
   "execution_count": 17,
   "id": "4d013bd7",
   "metadata": {},
   "outputs": [
    {
     "data": {
      "text/html": [
       "<div>\n",
       "<style scoped>\n",
       "    .dataframe tbody tr th:only-of-type {\n",
       "        vertical-align: middle;\n",
       "    }\n",
       "\n",
       "    .dataframe tbody tr th {\n",
       "        vertical-align: top;\n",
       "    }\n",
       "\n",
       "    .dataframe thead th {\n",
       "        text-align: right;\n",
       "    }\n",
       "</style>\n",
       "<table border=\"1\" class=\"dataframe\">\n",
       "  <thead>\n",
       "    <tr style=\"text-align: right;\">\n",
       "      <th></th>\n",
       "      <th>Latitude</th>\n",
       "      <th>Longitude</th>\n",
       "      <th>Altitude</th>\n",
       "      <th>Month</th>\n",
       "      <th>Hour</th>\n",
       "      <th>Season</th>\n",
       "      <th>Humidity</th>\n",
       "      <th>AmbientTemp</th>\n",
       "      <th>PolyPwr</th>\n",
       "      <th>Wind.Speed</th>\n",
       "      <th>Visibility</th>\n",
       "      <th>Pressure</th>\n",
       "      <th>Cloud.Ceiling</th>\n",
       "    </tr>\n",
       "  </thead>\n",
       "  <tbody>\n",
       "    <tr>\n",
       "      <th>0</th>\n",
       "      <td>47.11</td>\n",
       "      <td>-122.57</td>\n",
       "      <td>84</td>\n",
       "      <td>12</td>\n",
       "      <td>11</td>\n",
       "      <td>Winter</td>\n",
       "      <td>81.71997</td>\n",
       "      <td>12.86919</td>\n",
       "      <td>2.42769</td>\n",
       "      <td>5</td>\n",
       "      <td>10.0</td>\n",
       "      <td>1010.6</td>\n",
       "      <td>722</td>\n",
       "    </tr>\n",
       "    <tr>\n",
       "      <th>1</th>\n",
       "      <td>47.11</td>\n",
       "      <td>-122.57</td>\n",
       "      <td>84</td>\n",
       "      <td>12</td>\n",
       "      <td>13</td>\n",
       "      <td>Winter</td>\n",
       "      <td>96.64917</td>\n",
       "      <td>9.66415</td>\n",
       "      <td>2.46273</td>\n",
       "      <td>0</td>\n",
       "      <td>10.0</td>\n",
       "      <td>1011.3</td>\n",
       "      <td>23</td>\n",
       "    </tr>\n",
       "    <tr>\n",
       "      <th>2</th>\n",
       "      <td>47.11</td>\n",
       "      <td>-122.57</td>\n",
       "      <td>84</td>\n",
       "      <td>12</td>\n",
       "      <td>13</td>\n",
       "      <td>Winter</td>\n",
       "      <td>93.61572</td>\n",
       "      <td>15.44983</td>\n",
       "      <td>4.46836</td>\n",
       "      <td>5</td>\n",
       "      <td>10.0</td>\n",
       "      <td>1011.6</td>\n",
       "      <td>32</td>\n",
       "    </tr>\n",
       "    <tr>\n",
       "      <th>3</th>\n",
       "      <td>47.11</td>\n",
       "      <td>-122.57</td>\n",
       "      <td>84</td>\n",
       "      <td>12</td>\n",
       "      <td>12</td>\n",
       "      <td>Winter</td>\n",
       "      <td>77.21558</td>\n",
       "      <td>10.36659</td>\n",
       "      <td>1.65364</td>\n",
       "      <td>5</td>\n",
       "      <td>2.0</td>\n",
       "      <td>1024.4</td>\n",
       "      <td>6</td>\n",
       "    </tr>\n",
       "    <tr>\n",
       "      <th>4</th>\n",
       "      <td>47.11</td>\n",
       "      <td>-122.57</td>\n",
       "      <td>84</td>\n",
       "      <td>12</td>\n",
       "      <td>14</td>\n",
       "      <td>Winter</td>\n",
       "      <td>54.80347</td>\n",
       "      <td>16.85471</td>\n",
       "      <td>6.57939</td>\n",
       "      <td>3</td>\n",
       "      <td>3.0</td>\n",
       "      <td>1023.7</td>\n",
       "      <td>9</td>\n",
       "    </tr>\n",
       "  </tbody>\n",
       "</table>\n",
       "</div>"
      ],
      "text/plain": [
       "   Latitude  Longitude  Altitude  Month  Hour  Season  Humidity  AmbientTemp  \\\n",
       "0     47.11    -122.57        84     12    11  Winter  81.71997     12.86919   \n",
       "1     47.11    -122.57        84     12    13  Winter  96.64917      9.66415   \n",
       "2     47.11    -122.57        84     12    13  Winter  93.61572     15.44983   \n",
       "3     47.11    -122.57        84     12    12  Winter  77.21558     10.36659   \n",
       "4     47.11    -122.57        84     12    14  Winter  54.80347     16.85471   \n",
       "\n",
       "   PolyPwr  Wind.Speed  Visibility  Pressure  Cloud.Ceiling  \n",
       "0  2.42769           5        10.0    1010.6            722  \n",
       "1  2.46273           0        10.0    1011.3             23  \n",
       "2  4.46836           5        10.0    1011.6             32  \n",
       "3  1.65364           5         2.0    1024.4              6  \n",
       "4  6.57939           3         3.0    1023.7              9  "
      ]
     },
     "execution_count": 17,
     "metadata": {},
     "output_type": "execute_result"
    }
   ],
   "source": [
    "df.head()"
   ]
  },
  {
   "cell_type": "code",
   "execution_count": 18,
   "id": "7c2e26c0",
   "metadata": {},
   "outputs": [
    {
     "name": "stderr",
     "output_type": "stream",
     "text": [
      "C:\\Users\\ana.abesamis\\AppData\\Local\\Temp\\ipykernel_16720\\1778086645.py:2: FutureWarning: Dropping of nuisance columns in DataFrame reductions (with 'numeric_only=None') is deprecated; in a future version this will raise TypeError.  Select only valid columns before calling the reduction.\n",
      "  df.var().apply(lambda x: '%.3f' % x)\n"
     ]
    },
    {
     "data": {
      "text/plain": [
       "Latitude             39.990\n",
       "Longitude           267.785\n",
       "Altitude         593950.428\n",
       "Month                 8.904\n",
       "Hour                  2.799\n",
       "Humidity            567.536\n",
       "AmbientTemp         152.938\n",
       "PolyPwr              50.741\n",
       "Wind.Speed           40.769\n",
       "Visibility            1.828\n",
       "Pressure           7261.708\n",
       "Cloud.Ceiling     91145.650\n",
       "dtype: object"
      ]
     },
     "execution_count": 18,
     "metadata": {},
     "output_type": "execute_result"
    }
   ],
   "source": [
    "# Low Variance Check\n",
    "df.var().apply(lambda x: '%.3f' % x)\n",
    "# Only the categorical variables have extremely low variance, so we will not eliminate any features by their variance."
   ]
  },
  {
   "cell_type": "code",
   "execution_count": 19,
   "id": "35baaff8",
   "metadata": {},
   "outputs": [
    {
     "data": {
      "image/png": "[encoded data removed]",
      "text/plain": [
       "<Figure size 1512x504 with 2 Axes>"
      ]
     },
     "metadata": {
      "needs_background": "light"
     },
     "output_type": "display_data"
    }
   ],
   "source": [
    "# Correlation Check\n",
    "cor = df.corr()\n",
    "plt.figure(figsize=(21,7))\n",
    "sns.heatmap(cor, annot=True, cmap=plt.cm.Reds)\n",
    "plt.show()\n",
    "# Altitude and Pressure have perfect correlation. We will drop Altitude because it does not change for a given site."
   ]
  },
  {
   "cell_type": "code",
   "execution_count": 20,
   "id": "92f2365f",
   "metadata": {},
   "outputs": [],
   "source": [
    "df = df.drop('Altitude', axis=1)"
   ]
  },
  {
   "cell_type": "markdown",
   "id": "9c791289",
   "metadata": {},
   "source": [
    "### Dummy Encoding "
   ]
  },
  {
   "cell_type": "code",
   "execution_count": 21,
   "id": "ced13dec",
   "metadata": {},
   "outputs": [
    {
     "data": {
      "text/html": [
       "<div>\n",
       "<style scoped>\n",
       "    .dataframe tbody tr th:only-of-type {\n",
       "        vertical-align: middle;\n",
       "    }\n",
       "\n",
       "    .dataframe tbody tr th {\n",
       "        vertical-align: top;\n",
       "    }\n",
       "\n",
       "    .dataframe thead th {\n",
       "        text-align: right;\n",
       "    }\n",
       "</style>\n",
       "<table border=\"1\" class=\"dataframe\">\n",
       "  <thead>\n",
       "    <tr style=\"text-align: right;\">\n",
       "      <th></th>\n",
       "      <th>Latitude</th>\n",
       "      <th>Longitude</th>\n",
       "      <th>Month</th>\n",
       "      <th>Hour</th>\n",
       "      <th>Humidity</th>\n",
       "      <th>AmbientTemp</th>\n",
       "      <th>PolyPwr</th>\n",
       "      <th>Wind.Speed</th>\n",
       "      <th>Visibility</th>\n",
       "      <th>Pressure</th>\n",
       "      <th>Cloud.Ceiling</th>\n",
       "      <th>Fall</th>\n",
       "      <th>Spring</th>\n",
       "      <th>Summer</th>\n",
       "      <th>Winter</th>\n",
       "    </tr>\n",
       "  </thead>\n",
       "  <tbody>\n",
       "    <tr>\n",
       "      <th>0</th>\n",
       "      <td>47.11</td>\n",
       "      <td>-122.57</td>\n",
       "      <td>12</td>\n",
       "      <td>11</td>\n",
       "      <td>81.71997</td>\n",
       "      <td>12.86919</td>\n",
       "      <td>2.42769</td>\n",
       "      <td>5</td>\n",
       "      <td>10.0</td>\n",
       "      <td>1010.6</td>\n",
       "      <td>722</td>\n",
       "      <td>0</td>\n",
       "      <td>0</td>\n",
       "      <td>0</td>\n",
       "      <td>1</td>\n",
       "    </tr>\n",
       "    <tr>\n",
       "      <th>1</th>\n",
       "      <td>47.11</td>\n",
       "      <td>-122.57</td>\n",
       "      <td>12</td>\n",
       "      <td>13</td>\n",
       "      <td>96.64917</td>\n",
       "      <td>9.66415</td>\n",
       "      <td>2.46273</td>\n",
       "      <td>0</td>\n",
       "      <td>10.0</td>\n",
       "      <td>1011.3</td>\n",
       "      <td>23</td>\n",
       "      <td>0</td>\n",
       "      <td>0</td>\n",
       "      <td>0</td>\n",
       "      <td>1</td>\n",
       "    </tr>\n",
       "    <tr>\n",
       "      <th>2</th>\n",
       "      <td>47.11</td>\n",
       "      <td>-122.57</td>\n",
       "      <td>12</td>\n",
       "      <td>13</td>\n",
       "      <td>93.61572</td>\n",
       "      <td>15.44983</td>\n",
       "      <td>4.46836</td>\n",
       "      <td>5</td>\n",
       "      <td>10.0</td>\n",
       "      <td>1011.6</td>\n",
       "      <td>32</td>\n",
       "      <td>0</td>\n",
       "      <td>0</td>\n",
       "      <td>0</td>\n",
       "      <td>1</td>\n",
       "    </tr>\n",
       "    <tr>\n",
       "      <th>3</th>\n",
       "      <td>47.11</td>\n",
       "      <td>-122.57</td>\n",
       "      <td>12</td>\n",
       "      <td>12</td>\n",
       "      <td>77.21558</td>\n",
       "      <td>10.36659</td>\n",
       "      <td>1.65364</td>\n",
       "      <td>5</td>\n",
       "      <td>2.0</td>\n",
       "      <td>1024.4</td>\n",
       "      <td>6</td>\n",
       "      <td>0</td>\n",
       "      <td>0</td>\n",
       "      <td>0</td>\n",
       "      <td>1</td>\n",
       "    </tr>\n",
       "    <tr>\n",
       "      <th>4</th>\n",
       "      <td>47.11</td>\n",
       "      <td>-122.57</td>\n",
       "      <td>12</td>\n",
       "      <td>14</td>\n",
       "      <td>54.80347</td>\n",
       "      <td>16.85471</td>\n",
       "      <td>6.57939</td>\n",
       "      <td>3</td>\n",
       "      <td>3.0</td>\n",
       "      <td>1023.7</td>\n",
       "      <td>9</td>\n",
       "      <td>0</td>\n",
       "      <td>0</td>\n",
       "      <td>0</td>\n",
       "      <td>1</td>\n",
       "    </tr>\n",
       "  </tbody>\n",
       "</table>\n",
       "</div>"
      ],
      "text/plain": [
       "   Latitude  Longitude  Month  Hour  Humidity  AmbientTemp  PolyPwr  \\\n",
       "0     47.11    -122.57     12    11  81.71997     12.86919  2.42769   \n",
       "1     47.11    -122.57     12    13  96.64917      9.66415  2.46273   \n",
       "2     47.11    -122.57     12    13  93.61572     15.44983  4.46836   \n",
       "3     47.11    -122.57     12    12  77.21558     10.36659  1.65364   \n",
       "4     47.11    -122.57     12    14  54.80347     16.85471  6.57939   \n",
       "\n",
       "   Wind.Speed  Visibility  Pressure  Cloud.Ceiling  Fall  Spring  Summer  \\\n",
       "0           5        10.0    1010.6            722     0       0       0   \n",
       "1           0        10.0    1011.3             23     0       0       0   \n",
       "2           5        10.0    1011.6             32     0       0       0   \n",
       "3           5         2.0    1024.4              6     0       0       0   \n",
       "4           3         3.0    1023.7              9     0       0       0   \n",
       "\n",
       "   Winter  \n",
       "0       1  \n",
       "1       1  \n",
       "2       1  \n",
       "3       1  \n",
       "4       1  "
      ]
     },
     "execution_count": 21,
     "metadata": {},
     "output_type": "execute_result"
    }
   ],
   "source": [
    "df['Season'] = df['Season'].astype('category')\n",
    "dummies = pd.get_dummies(df.Season)\n",
    "df = df.drop(columns='Season').merge(dummies,left_index=True, right_index=True)\n",
    "df.head()"
   ]
  },
  {
   "cell_type": "markdown",
   "id": "6609c3ff",
   "metadata": {},
   "source": [
    "### Normality Check"
   ]
  },
  {
   "cell_type": "code",
   "execution_count": 22,
   "id": "7074bb66",
   "metadata": {},
   "outputs": [
    {
     "name": "stderr",
     "output_type": "stream",
     "text": [
      "C:\\ProgramData\\Anaconda3\\lib\\site-packages\\seaborn\\distributions.py:2619: FutureWarning: `distplot` is a deprecated function and will be removed in a future version. Please adapt your code to use either `displot` (a figure-level function with similar flexibility) or `histplot` (an axes-level function for histograms).\n",
      "  warnings.warn(msg, FutureWarning)\n",
      "C:\\ProgramData\\Anaconda3\\lib\\site-packages\\seaborn\\distributions.py:2619: FutureWarning: `distplot` is a deprecated function and will be removed in a future version. Please adapt your code to use either `displot` (a figure-level function with similar flexibility) or `histplot` (an axes-level function for histograms).\n",
      "  warnings.warn(msg, FutureWarning)\n",
      "C:\\ProgramData\\Anaconda3\\lib\\site-packages\\seaborn\\distributions.py:2619: FutureWarning: `distplot` is a deprecated function and will be removed in a future version. Please adapt your code to use either `displot` (a figure-level function with similar flexibility) or `histplot` (an axes-level function for histograms).\n",
      "  warnings.warn(msg, FutureWarning)\n",
      "C:\\ProgramData\\Anaconda3\\lib\\site-packages\\seaborn\\distributions.py:2619: FutureWarning: `distplot` is a deprecated function and will be removed in a future version. Please adapt your code to use either `displot` (a figure-level function with similar flexibility) or `histplot` (an axes-level function for histograms).\n",
      "  warnings.warn(msg, FutureWarning)\n",
      "C:\\ProgramData\\Anaconda3\\lib\\site-packages\\seaborn\\distributions.py:2619: FutureWarning: `distplot` is a deprecated function and will be removed in a future version. Please adapt your code to use either `displot` (a figure-level function with similar flexibility) or `histplot` (an axes-level function for histograms).\n",
      "  warnings.warn(msg, FutureWarning)\n",
      "C:\\ProgramData\\Anaconda3\\lib\\site-packages\\seaborn\\distributions.py:2619: FutureWarning: `distplot` is a deprecated function and will be removed in a future version. Please adapt your code to use either `displot` (a figure-level function with similar flexibility) or `histplot` (an axes-level function for histograms).\n",
      "  warnings.warn(msg, FutureWarning)\n",
      "C:\\ProgramData\\Anaconda3\\lib\\site-packages\\seaborn\\distributions.py:2619: FutureWarning: `distplot` is a deprecated function and will be removed in a future version. Please adapt your code to use either `displot` (a figure-level function with similar flexibility) or `histplot` (an axes-level function for histograms).\n",
      "  warnings.warn(msg, FutureWarning)\n",
      "C:\\ProgramData\\Anaconda3\\lib\\site-packages\\seaborn\\distributions.py:2619: FutureWarning: `distplot` is a deprecated function and will be removed in a future version. Please adapt your code to use either `displot` (a figure-level function with similar flexibility) or `histplot` (an axes-level function for histograms).\n",
      "  warnings.warn(msg, FutureWarning)\n",
      "C:\\ProgramData\\Anaconda3\\lib\\site-packages\\seaborn\\distributions.py:2619: FutureWarning: `distplot` is a deprecated function and will be removed in a future version. Please adapt your code to use either `displot` (a figure-level function with similar flexibility) or `histplot` (an axes-level function for histograms).\n",
      "  warnings.warn(msg, FutureWarning)\n",
      "C:\\ProgramData\\Anaconda3\\lib\\site-packages\\seaborn\\distributions.py:2619: FutureWarning: `distplot` is a deprecated function and will be removed in a future version. Please adapt your code to use either `displot` (a figure-level function with similar flexibility) or `histplot` (an axes-level function for histograms).\n",
      "  warnings.warn(msg, FutureWarning)\n",
      "C:\\ProgramData\\Anaconda3\\lib\\site-packages\\seaborn\\distributions.py:2619: FutureWarning: `distplot` is a deprecated function and will be removed in a future version. Please adapt your code to use either `displot` (a figure-level function with similar flexibility) or `histplot` (an axes-level function for histograms).\n",
      "  warnings.warn(msg, FutureWarning)\n"
     ]
    },
    {
     "data": {
      "image/png": "[encoded data removed]",
      "text/plain": [
       "<Figure size 432x288 with 1 Axes>"
      ]
     },
     "metadata": {
      "needs_background": "light"
     },
     "output_type": "display_data"
    },
    {
     "data": {
      "image/png": "[encoded data removed]",
      "text/plain": [
       "<Figure size 432x288 with 1 Axes>"
      ]
     },
     "metadata": {
      "needs_background": "light"
     },
     "output_type": "display_data"
    },
    {
     "data": {
      "image/png": "[encoded data removed]",
      "text/plain": [
       "<Figure size 432x288 with 1 Axes>"
      ]
     },
     "metadata": {
      "needs_background": "light"
     },
     "output_type": "display_data"
    },
    {
     "data": {
      "image/png": "[encoded data removed]",
      "text/plain": [
       "<Figure size 432x288 with 1 Axes>"
      ]
     },
     "metadata": {
      "needs_background": "light"
     },
     "output_type": "display_data"
    },
    {
     "data": {
      "image/png": "[encoded data removed]",
      "text/plain": [
       "<Figure size 432x288 with 1 Axes>"
      ]
     },
     "metadata": {
      "needs_background": "light"
     },
     "output_type": "display_data"
    },
    {
     "data": {
      "image/png": "[encoded data removed]",
      "text/plain": [
       "<Figure size 432x288 with 1 Axes>"
      ]
     },
     "metadata": {
      "needs_background": "light"
     },
     "output_type": "display_data"
    },
    {
     "data": {
      "image/png": "[encoded data removed]",
      "text/plain": [
       "<Figure size 432x288 with 1 Axes>"
      ]
     },
     "metadata": {
      "needs_background": "light"
     },
     "output_type": "display_data"
    },
    {
     "data": {
      "image/png": "[encoded data removed]",
      "text/plain": [
       "<Figure size 432x288 with 1 Axes>"
      ]
     },
     "metadata": {
      "needs_background": "light"
     },
     "output_type": "display_data"
    },
    {
     "data": {
      "image/png": "[encoded data removed]",
      "text/plain": [
       "<Figure size 432x288 with 1 Axes>"
      ]
     },
     "metadata": {
      "needs_background": "light"
     },
     "output_type": "display_data"
    },
    {
     "data": {
      "image/png": "[encoded data removed]",
      "text/plain": [
       "<Figure size 432x288 with 1 Axes>"
      ]
     },
     "metadata": {
      "needs_background": "light"
     },
     "output_type": "display_data"
    },
    {
     "data": {
      "image/png": "[encoded data removed]",
      "text/plain": [
       "<Figure size 432x288 with 1 Axes>"
      ]
     },
     "metadata": {
      "needs_background": "light"
     },
     "output_type": "display_data"
    }
   ],
   "source": [
    "df_num = df.drop(df.loc[:, 'Fall':'Winter'].columns, axis=1)\n",
    "for column in df_num.columns:\n",
    "    plt.figure()\n",
    "    sns.distplot(df_num[column])"
   ]
  },
  {
   "cell_type": "code",
   "execution_count": 23,
   "id": "325fb1a0",
   "metadata": {},
   "outputs": [
    {
     "name": "stderr",
     "output_type": "stream",
     "text": [
      "C:\\ProgramData\\Anaconda3\\lib\\site-packages\\seaborn\\distributions.py:2619: FutureWarning: `distplot` is a deprecated function and will be removed in a future version. Please adapt your code to use either `displot` (a figure-level function with similar flexibility) or `kdeplot` (an axes-level function for kernel density plots).\n",
      "  warnings.warn(msg, FutureWarning)\n"
     ]
    },
    {
     "data": {
      "text/plain": [
       "<AxesSubplot:xlabel='PolyPwr', ylabel='Density'>"
      ]
     },
     "execution_count": 23,
     "metadata": {},
     "output_type": "execute_result"
    },
    {
     "data": {
      "image/png": "[encoded data removed]",
      "text/plain": [
       "<Figure size 432x288 with 1 Axes>"
      ]
     },
     "metadata": {
      "needs_background": "light"
     },
     "output_type": "display_data"
    }
   ],
   "source": [
    "# Transforming Target Variable into Normal Distribution\n",
    "df['PolyPwr'] = np.log(df['PolyPwr'])\n",
    "sns.distplot(df['PolyPwr'], hist=False, kde=True)"
   ]
  },
  {
   "cell_type": "markdown",
   "id": "0e1f52b0",
   "metadata": {},
   "source": [
    "## Processed Data"
   ]
  },
  {
   "cell_type": "code",
   "execution_count": 24,
   "id": "70bd846a",
   "metadata": {},
   "outputs": [],
   "source": [
    "# Download csv file\n",
    "df.to_csv('clean_dataset.csv')"
   ]
  },
  {
   "cell_type": "code",
   "execution_count": 25,
   "id": "55b3e3b3",
   "metadata": {},
   "outputs": [],
   "source": [
    "clean_df = df"
   ]
  },
  {
   "cell_type": "code",
   "execution_count": 26,
   "id": "259b040e",
   "metadata": {},
   "outputs": [
    {
     "data": {
      "text/html": [
       "<div>\n",
       "<style scoped>\n",
       "    .dataframe tbody tr th:only-of-type {\n",
       "        vertical-align: middle;\n",
       "    }\n",
       "\n",
       "    .dataframe tbody tr th {\n",
       "        vertical-align: top;\n",
       "    }\n",
       "\n",
       "    .dataframe thead th {\n",
       "        text-align: right;\n",
       "    }\n",
       "</style>\n",
       "<table border=\"1\" class=\"dataframe\">\n",
       "  <thead>\n",
       "    <tr style=\"text-align: right;\">\n",
       "      <th></th>\n",
       "      <th>Latitude</th>\n",
       "      <th>Longitude</th>\n",
       "      <th>Month</th>\n",
       "      <th>Hour</th>\n",
       "      <th>Humidity</th>\n",
       "      <th>AmbientTemp</th>\n",
       "      <th>PolyPwr</th>\n",
       "      <th>Wind.Speed</th>\n",
       "      <th>Visibility</th>\n",
       "      <th>Pressure</th>\n",
       "      <th>Cloud.Ceiling</th>\n",
       "      <th>Fall</th>\n",
       "      <th>Spring</th>\n",
       "      <th>Summer</th>\n",
       "      <th>Winter</th>\n",
       "    </tr>\n",
       "  </thead>\n",
       "  <tbody>\n",
       "    <tr>\n",
       "      <th>0</th>\n",
       "      <td>47.11</td>\n",
       "      <td>-122.57</td>\n",
       "      <td>12</td>\n",
       "      <td>11</td>\n",
       "      <td>81.71997</td>\n",
       "      <td>12.86919</td>\n",
       "      <td>0.886940</td>\n",
       "      <td>5</td>\n",
       "      <td>10.0</td>\n",
       "      <td>1010.6</td>\n",
       "      <td>722</td>\n",
       "      <td>0</td>\n",
       "      <td>0</td>\n",
       "      <td>0</td>\n",
       "      <td>1</td>\n",
       "    </tr>\n",
       "    <tr>\n",
       "      <th>1</th>\n",
       "      <td>47.11</td>\n",
       "      <td>-122.57</td>\n",
       "      <td>12</td>\n",
       "      <td>13</td>\n",
       "      <td>96.64917</td>\n",
       "      <td>9.66415</td>\n",
       "      <td>0.901270</td>\n",
       "      <td>0</td>\n",
       "      <td>10.0</td>\n",
       "      <td>1011.3</td>\n",
       "      <td>23</td>\n",
       "      <td>0</td>\n",
       "      <td>0</td>\n",
       "      <td>0</td>\n",
       "      <td>1</td>\n",
       "    </tr>\n",
       "    <tr>\n",
       "      <th>2</th>\n",
       "      <td>47.11</td>\n",
       "      <td>-122.57</td>\n",
       "      <td>12</td>\n",
       "      <td>13</td>\n",
       "      <td>93.61572</td>\n",
       "      <td>15.44983</td>\n",
       "      <td>1.497021</td>\n",
       "      <td>5</td>\n",
       "      <td>10.0</td>\n",
       "      <td>1011.6</td>\n",
       "      <td>32</td>\n",
       "      <td>0</td>\n",
       "      <td>0</td>\n",
       "      <td>0</td>\n",
       "      <td>1</td>\n",
       "    </tr>\n",
       "    <tr>\n",
       "      <th>3</th>\n",
       "      <td>47.11</td>\n",
       "      <td>-122.57</td>\n",
       "      <td>12</td>\n",
       "      <td>12</td>\n",
       "      <td>77.21558</td>\n",
       "      <td>10.36659</td>\n",
       "      <td>0.502979</td>\n",
       "      <td>5</td>\n",
       "      <td>2.0</td>\n",
       "      <td>1024.4</td>\n",
       "      <td>6</td>\n",
       "      <td>0</td>\n",
       "      <td>0</td>\n",
       "      <td>0</td>\n",
       "      <td>1</td>\n",
       "    </tr>\n",
       "    <tr>\n",
       "      <th>4</th>\n",
       "      <td>47.11</td>\n",
       "      <td>-122.57</td>\n",
       "      <td>12</td>\n",
       "      <td>14</td>\n",
       "      <td>54.80347</td>\n",
       "      <td>16.85471</td>\n",
       "      <td>1.883942</td>\n",
       "      <td>3</td>\n",
       "      <td>3.0</td>\n",
       "      <td>1023.7</td>\n",
       "      <td>9</td>\n",
       "      <td>0</td>\n",
       "      <td>0</td>\n",
       "      <td>0</td>\n",
       "      <td>1</td>\n",
       "    </tr>\n",
       "  </tbody>\n",
       "</table>\n",
       "</div>"
      ],
      "text/plain": [
       "   Latitude  Longitude  Month  Hour  Humidity  AmbientTemp   PolyPwr  \\\n",
       "0     47.11    -122.57     12    11  81.71997     12.86919  0.886940   \n",
       "1     47.11    -122.57     12    13  96.64917      9.66415  0.901270   \n",
       "2     47.11    -122.57     12    13  93.61572     15.44983  1.497021   \n",
       "3     47.11    -122.57     12    12  77.21558     10.36659  0.502979   \n",
       "4     47.11    -122.57     12    14  54.80347     16.85471  1.883942   \n",
       "\n",
       "   Wind.Speed  Visibility  Pressure  Cloud.Ceiling  Fall  Spring  Summer  \\\n",
       "0           5        10.0    1010.6            722     0       0       0   \n",
       "1           0        10.0    1011.3             23     0       0       0   \n",
       "2           5        10.0    1011.6             32     0       0       0   \n",
       "3           5         2.0    1024.4              6     0       0       0   \n",
       "4           3         3.0    1023.7              9     0       0       0   \n",
       "\n",
       "   Winter  \n",
       "0       1  \n",
       "1       1  \n",
       "2       1  \n",
       "3       1  \n",
       "4       1  "
      ]
     },
     "execution_count": 26,
     "metadata": {},
     "output_type": "execute_result"
    }
   ],
   "source": [
    "clean_df.head()"
   ]
  },
  {
   "cell_type": "code",
   "execution_count": 27,
   "id": "0d7009be",
   "metadata": {},
   "outputs": [
    {
     "data": {
      "text/plain": [
       "Latitude         float64\n",
       "Longitude        float64\n",
       "Month              int64\n",
       "Hour               int64\n",
       "Humidity         float64\n",
       "AmbientTemp      float64\n",
       "PolyPwr          float64\n",
       "Wind.Speed         int64\n",
       "Visibility       float64\n",
       "Pressure         float64\n",
       "Cloud.Ceiling      int64\n",
       "Fall               uint8\n",
       "Spring             uint8\n",
       "Summer             uint8\n",
       "Winter             uint8\n",
       "dtype: object"
      ]
     },
     "execution_count": 27,
     "metadata": {},
     "output_type": "execute_result"
    }
   ],
   "source": [
    "clean_df.dtypes"
   ]
  },
  {
   "cell_type": "code",
   "execution_count": 28,
   "id": "e13c1370",
   "metadata": {},
   "outputs": [
    {
     "data": {
      "text/html": [
       "<div>\n",
       "<style scoped>\n",
       "    .dataframe tbody tr th:only-of-type {\n",
       "        vertical-align: middle;\n",
       "    }\n",
       "\n",
       "    .dataframe tbody tr th {\n",
       "        vertical-align: top;\n",
       "    }\n",
       "\n",
       "    .dataframe thead th {\n",
       "        text-align: right;\n",
       "    }\n",
       "</style>\n",
       "<table border=\"1\" class=\"dataframe\">\n",
       "  <thead>\n",
       "    <tr style=\"text-align: right;\">\n",
       "      <th></th>\n",
       "      <th>Latitude</th>\n",
       "      <th>Longitude</th>\n",
       "      <th>Month</th>\n",
       "      <th>Hour</th>\n",
       "      <th>Humidity</th>\n",
       "      <th>AmbientTemp</th>\n",
       "      <th>PolyPwr</th>\n",
       "      <th>Wind.Speed</th>\n",
       "      <th>Visibility</th>\n",
       "      <th>Pressure</th>\n",
       "      <th>Cloud.Ceiling</th>\n",
       "      <th>Fall</th>\n",
       "      <th>Spring</th>\n",
       "      <th>Summer</th>\n",
       "      <th>Winter</th>\n",
       "    </tr>\n",
       "  </thead>\n",
       "  <tbody>\n",
       "    <tr>\n",
       "      <th>count</th>\n",
       "      <td>21045.000000</td>\n",
       "      <td>21045.000000</td>\n",
       "      <td>21045.000000</td>\n",
       "      <td>21045.000000</td>\n",
       "      <td>21045.000000</td>\n",
       "      <td>21045.000000</td>\n",
       "      <td>21045.000000</td>\n",
       "      <td>21045.000000</td>\n",
       "      <td>21045.000000</td>\n",
       "      <td>21045.000000</td>\n",
       "      <td>21045.000000</td>\n",
       "      <td>21045.000000</td>\n",
       "      <td>21045.000000</td>\n",
       "      <td>21045.000000</td>\n",
       "      <td>21045.000000</td>\n",
       "    </tr>\n",
       "    <tr>\n",
       "      <th>mean</th>\n",
       "      <td>38.213823</td>\n",
       "      <td>-108.593678</td>\n",
       "      <td>6.565883</td>\n",
       "      <td>12.627845</td>\n",
       "      <td>37.121941</td>\n",
       "      <td>29.285117</td>\n",
       "      <td>2.321574</td>\n",
       "      <td>10.318318</td>\n",
       "      <td>9.700071</td>\n",
       "      <td>925.944747</td>\n",
       "      <td>515.966785</td>\n",
       "      <td>0.209408</td>\n",
       "      <td>0.228463</td>\n",
       "      <td>0.390021</td>\n",
       "      <td>0.172107</td>\n",
       "    </tr>\n",
       "    <tr>\n",
       "      <th>std</th>\n",
       "      <td>6.323761</td>\n",
       "      <td>16.364130</td>\n",
       "      <td>2.983958</td>\n",
       "      <td>1.672952</td>\n",
       "      <td>23.823011</td>\n",
       "      <td>12.366820</td>\n",
       "      <td>0.813325</td>\n",
       "      <td>6.385030</td>\n",
       "      <td>1.351949</td>\n",
       "      <td>85.215659</td>\n",
       "      <td>301.903379</td>\n",
       "      <td>0.406896</td>\n",
       "      <td>0.419852</td>\n",
       "      <td>0.487766</td>\n",
       "      <td>0.377483</td>\n",
       "    </tr>\n",
       "    <tr>\n",
       "      <th>min</th>\n",
       "      <td>20.890000</td>\n",
       "      <td>-156.440000</td>\n",
       "      <td>1.000000</td>\n",
       "      <td>10.000000</td>\n",
       "      <td>0.000000</td>\n",
       "      <td>-19.981770</td>\n",
       "      <td>-1.357396</td>\n",
       "      <td>0.000000</td>\n",
       "      <td>0.000000</td>\n",
       "      <td>781.700000</td>\n",
       "      <td>0.000000</td>\n",
       "      <td>0.000000</td>\n",
       "      <td>0.000000</td>\n",
       "      <td>0.000000</td>\n",
       "      <td>0.000000</td>\n",
       "    </tr>\n",
       "    <tr>\n",
       "      <th>25%</th>\n",
       "      <td>38.160000</td>\n",
       "      <td>-117.260000</td>\n",
       "      <td>4.000000</td>\n",
       "      <td>11.000000</td>\n",
       "      <td>17.529300</td>\n",
       "      <td>21.915280</td>\n",
       "      <td>1.857012</td>\n",
       "      <td>6.000000</td>\n",
       "      <td>10.000000</td>\n",
       "      <td>845.500000</td>\n",
       "      <td>140.000000</td>\n",
       "      <td>0.000000</td>\n",
       "      <td>0.000000</td>\n",
       "      <td>0.000000</td>\n",
       "      <td>0.000000</td>\n",
       "    </tr>\n",
       "    <tr>\n",
       "      <th>50%</th>\n",
       "      <td>38.950000</td>\n",
       "      <td>-111.180000</td>\n",
       "      <td>7.000000</td>\n",
       "      <td>13.000000</td>\n",
       "      <td>33.123780</td>\n",
       "      <td>30.289150</td>\n",
       "      <td>2.624574</td>\n",
       "      <td>9.000000</td>\n",
       "      <td>10.000000</td>\n",
       "      <td>961.100000</td>\n",
       "      <td>722.000000</td>\n",
       "      <td>0.000000</td>\n",
       "      <td>0.000000</td>\n",
       "      <td>0.000000</td>\n",
       "      <td>0.000000</td>\n",
       "    </tr>\n",
       "    <tr>\n",
       "      <th>75%</th>\n",
       "      <td>41.150000</td>\n",
       "      <td>-104.710000</td>\n",
       "      <td>9.000000</td>\n",
       "      <td>14.000000</td>\n",
       "      <td>52.593990</td>\n",
       "      <td>37.474670</td>\n",
       "      <td>2.937237</td>\n",
       "      <td>14.000000</td>\n",
       "      <td>10.000000</td>\n",
       "      <td>1008.900000</td>\n",
       "      <td>722.000000</td>\n",
       "      <td>0.000000</td>\n",
       "      <td>0.000000</td>\n",
       "      <td>1.000000</td>\n",
       "      <td>0.000000</td>\n",
       "    </tr>\n",
       "    <tr>\n",
       "      <th>max</th>\n",
       "      <td>47.520000</td>\n",
       "      <td>-80.110000</td>\n",
       "      <td>12.000000</td>\n",
       "      <td>15.000000</td>\n",
       "      <td>99.987790</td>\n",
       "      <td>65.738370</td>\n",
       "      <td>3.534709</td>\n",
       "      <td>49.000000</td>\n",
       "      <td>10.000000</td>\n",
       "      <td>1029.500000</td>\n",
       "      <td>722.000000</td>\n",
       "      <td>1.000000</td>\n",
       "      <td>1.000000</td>\n",
       "      <td>1.000000</td>\n",
       "      <td>1.000000</td>\n",
       "    </tr>\n",
       "  </tbody>\n",
       "</table>\n",
       "</div>"
      ],
      "text/plain": [
       "           Latitude     Longitude         Month          Hour      Humidity  \\\n",
       "count  21045.000000  21045.000000  21045.000000  21045.000000  21045.000000   \n",
       "mean      38.213823   -108.593678      6.565883     12.627845     37.121941   \n",
       "std        6.323761     16.364130      2.983958      1.672952     23.823011   \n",
       "min       20.890000   -156.440000      1.000000     10.000000      0.000000   \n",
       "25%       38.160000   -117.260000      4.000000     11.000000     17.529300   \n",
       "50%       38.950000   -111.180000      7.000000     13.000000     33.123780   \n",
       "75%       41.150000   -104.710000      9.000000     14.000000     52.593990   \n",
       "max       47.520000    -80.110000     12.000000     15.000000     99.987790   \n",
       "\n",
       "        AmbientTemp       PolyPwr    Wind.Speed    Visibility      Pressure  \\\n",
       "count  21045.000000  21045.000000  21045.000000  21045.000000  21045.000000   \n",
       "mean      29.285117      2.321574     10.318318      9.700071    925.944747   \n",
       "std       12.366820      0.813325      6.385030      1.351949     85.215659   \n",
       "min      -19.981770     -1.357396      0.000000      0.000000    781.700000   \n",
       "25%       21.915280      1.857012      6.000000     10.000000    845.500000   \n",
       "50%       30.289150      2.624574      9.000000     10.000000    961.100000   \n",
       "75%       37.474670      2.937237     14.000000     10.000000   1008.900000   \n",
       "max       65.738370      3.534709     49.000000     10.000000   1029.500000   \n",
       "\n",
       "       Cloud.Ceiling          Fall        Spring        Summer        Winter  \n",
       "count   21045.000000  21045.000000  21045.000000  21045.000000  21045.000000  \n",
       "mean      515.966785      0.209408      0.228463      0.390021      0.172107  \n",
       "std       301.903379      0.406896      0.419852      0.487766      0.377483  \n",
       "min         0.000000      0.000000      0.000000      0.000000      0.000000  \n",
       "25%       140.000000      0.000000      0.000000      0.000000      0.000000  \n",
       "50%       722.000000      0.000000      0.000000      0.000000      0.000000  \n",
       "75%       722.000000      0.000000      0.000000      1.000000      0.000000  \n",
       "max       722.000000      1.000000      1.000000      1.000000      1.000000  "
      ]
     },
     "execution_count": 28,
     "metadata": {},
     "output_type": "execute_result"
    }
   ],
   "source": [
    "clean_df.describe()"
   ]
  },
  {
   "cell_type": "code",
   "execution_count": null,
   "id": "a14e62ef",
   "metadata": {},
   "outputs": [],
   "source": []
  },
  {
   "cell_type": "code",
   "execution_count": null,
   "id": "e96b741d",
   "metadata": {},
   "outputs": [],
   "source": []
  }
 ],
 "metadata": {
  "kernelspec": {
   "display_name": "Python 3 (ipykernel)",
   "language": "python",
   "name": "python3"
  },
  "language_info": {
   "codemirror_mode": {
    "name": "ipython",
    "version": 3
   },
   "file_extension": ".py",
   "mimetype": "text/x-python",
   "name": "python",
   "nbconvert_exporter": "python",
   "pygments_lexer": "ipython3",
   "version": "3.9.12"
  }
 },
 "nbformat": 4,
 "nbformat_minor": 5
}
