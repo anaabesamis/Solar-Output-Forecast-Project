{
 "cells": [
  {
   "cell_type": "code",
   "execution_count": 1,
   "id": "1ec3b6c7",
   "metadata": {},
   "outputs": [],
   "source": [
    "import pandas as pd\n",
    "import matplotlib\n",
    "import matplotlib.pyplot as plt\n",
    "import numpy as np\n",
    "import seaborn as sns\n",
    "\n",
    "from sklearn.model_selection import RepeatedKFold, cross_val_score\n",
    "from sklearn.metrics import mean_absolute_error, mean_squared_error, r2_score"
   ]
  },
  {
   "cell_type": "code",
   "execution_count": 2,
   "id": "8a81422c",
   "metadata": {},
   "outputs": [
    {
     "data": {
      "text/html": [
       "<div>\n",
       "<style scoped>\n",
       "    .dataframe tbody tr th:only-of-type {\n",
       "        vertical-align: middle;\n",
       "    }\n",
       "\n",
       "    .dataframe tbody tr th {\n",
       "        vertical-align: top;\n",
       "    }\n",
       "\n",
       "    .dataframe thead th {\n",
       "        text-align: right;\n",
       "    }\n",
       "</style>\n",
       "<table border=\"1\" class=\"dataframe\">\n",
       "  <thead>\n",
       "    <tr style=\"text-align: right;\">\n",
       "      <th></th>\n",
       "      <th>Latitude</th>\n",
       "      <th>Longitude</th>\n",
       "      <th>Month</th>\n",
       "      <th>Hour</th>\n",
       "      <th>Humidity</th>\n",
       "      <th>AmbientTemp</th>\n",
       "      <th>PolyPwr</th>\n",
       "      <th>Wind.Speed</th>\n",
       "      <th>Visibility</th>\n",
       "      <th>Pressure</th>\n",
       "      <th>Cloud.Ceiling</th>\n",
       "      <th>Fall</th>\n",
       "      <th>Spring</th>\n",
       "      <th>Summer</th>\n",
       "      <th>Winter</th>\n",
       "    </tr>\n",
       "  </thead>\n",
       "  <tbody>\n",
       "    <tr>\n",
       "      <th>0</th>\n",
       "      <td>47.11</td>\n",
       "      <td>-122.57</td>\n",
       "      <td>12</td>\n",
       "      <td>11</td>\n",
       "      <td>81.71997</td>\n",
       "      <td>12.86919</td>\n",
       "      <td>0.886940</td>\n",
       "      <td>5</td>\n",
       "      <td>10.0</td>\n",
       "      <td>1010.6</td>\n",
       "      <td>722</td>\n",
       "      <td>0</td>\n",
       "      <td>0</td>\n",
       "      <td>0</td>\n",
       "      <td>1</td>\n",
       "    </tr>\n",
       "    <tr>\n",
       "      <th>1</th>\n",
       "      <td>47.11</td>\n",
       "      <td>-122.57</td>\n",
       "      <td>12</td>\n",
       "      <td>13</td>\n",
       "      <td>96.64917</td>\n",
       "      <td>9.66415</td>\n",
       "      <td>0.901270</td>\n",
       "      <td>0</td>\n",
       "      <td>10.0</td>\n",
       "      <td>1011.3</td>\n",
       "      <td>23</td>\n",
       "      <td>0</td>\n",
       "      <td>0</td>\n",
       "      <td>0</td>\n",
       "      <td>1</td>\n",
       "    </tr>\n",
       "    <tr>\n",
       "      <th>2</th>\n",
       "      <td>47.11</td>\n",
       "      <td>-122.57</td>\n",
       "      <td>12</td>\n",
       "      <td>13</td>\n",
       "      <td>93.61572</td>\n",
       "      <td>15.44983</td>\n",
       "      <td>1.497021</td>\n",
       "      <td>5</td>\n",
       "      <td>10.0</td>\n",
       "      <td>1011.6</td>\n",
       "      <td>32</td>\n",
       "      <td>0</td>\n",
       "      <td>0</td>\n",
       "      <td>0</td>\n",
       "      <td>1</td>\n",
       "    </tr>\n",
       "    <tr>\n",
       "      <th>3</th>\n",
       "      <td>47.11</td>\n",
       "      <td>-122.57</td>\n",
       "      <td>12</td>\n",
       "      <td>12</td>\n",
       "      <td>77.21558</td>\n",
       "      <td>10.36659</td>\n",
       "      <td>0.502979</td>\n",
       "      <td>5</td>\n",
       "      <td>2.0</td>\n",
       "      <td>1024.4</td>\n",
       "      <td>6</td>\n",
       "      <td>0</td>\n",
       "      <td>0</td>\n",
       "      <td>0</td>\n",
       "      <td>1</td>\n",
       "    </tr>\n",
       "    <tr>\n",
       "      <th>4</th>\n",
       "      <td>47.11</td>\n",
       "      <td>-122.57</td>\n",
       "      <td>12</td>\n",
       "      <td>14</td>\n",
       "      <td>54.80347</td>\n",
       "      <td>16.85471</td>\n",
       "      <td>1.883942</td>\n",
       "      <td>3</td>\n",
       "      <td>3.0</td>\n",
       "      <td>1023.7</td>\n",
       "      <td>9</td>\n",
       "      <td>0</td>\n",
       "      <td>0</td>\n",
       "      <td>0</td>\n",
       "      <td>1</td>\n",
       "    </tr>\n",
       "  </tbody>\n",
       "</table>\n",
       "</div>"
      ],
      "text/plain": [
       "   Latitude  Longitude  Month  Hour  Humidity  AmbientTemp   PolyPwr  \\\n",
       "0     47.11    -122.57     12    11  81.71997     12.86919  0.886940   \n",
       "1     47.11    -122.57     12    13  96.64917      9.66415  0.901270   \n",
       "2     47.11    -122.57     12    13  93.61572     15.44983  1.497021   \n",
       "3     47.11    -122.57     12    12  77.21558     10.36659  0.502979   \n",
       "4     47.11    -122.57     12    14  54.80347     16.85471  1.883942   \n",
       "\n",
       "   Wind.Speed  Visibility  Pressure  Cloud.Ceiling  Fall  Spring  Summer  \\\n",
       "0           5        10.0    1010.6            722     0       0       0   \n",
       "1           0        10.0    1011.3             23     0       0       0   \n",
       "2           5        10.0    1011.6             32     0       0       0   \n",
       "3           5         2.0    1024.4              6     0       0       0   \n",
       "4           3         3.0    1023.7              9     0       0       0   \n",
       "\n",
       "   Winter  \n",
       "0       1  \n",
       "1       1  \n",
       "2       1  \n",
       "3       1  \n",
       "4       1  "
      ]
     },
     "execution_count": 2,
     "metadata": {},
     "output_type": "execute_result"
    }
   ],
   "source": [
    "df = pd.read_csv('clean_dataset.csv', sep=',',index_col=0, header=0)\n",
    "df.head()"
   ]
  },
  {
   "cell_type": "markdown",
   "id": "34c6ebe5",
   "metadata": {},
   "source": [
    "### Input/Target Variable Split"
   ]
  },
  {
   "cell_type": "code",
   "execution_count": 4,
   "id": "b0874d30",
   "metadata": {},
   "outputs": [
    {
     "data": {
      "text/plain": [
       "(21045, 14)"
      ]
     },
     "execution_count": 4,
     "metadata": {},
     "output_type": "execute_result"
    }
   ],
   "source": [
    "X = df.drop(['PolyPwr'], axis=1)\n",
    "X.shape"
   ]
  },
  {
   "cell_type": "code",
   "execution_count": 5,
   "id": "a44a7bee",
   "metadata": {},
   "outputs": [
    {
     "data": {
      "text/plain": [
       "(21045,)"
      ]
     },
     "execution_count": 5,
     "metadata": {},
     "output_type": "execute_result"
    }
   ],
   "source": [
    "y = df['PolyPwr']\n",
    "y.shape"
   ]
  },
  {
   "cell_type": "markdown",
   "id": "cea9e8bd",
   "metadata": {},
   "source": [
    "# Baseline Regression Models"
   ]
  },
  {
   "cell_type": "markdown",
   "id": "0ea0bd27",
   "metadata": {},
   "source": [
    "### Decision Tree Regression "
   ]
  },
  {
   "cell_type": "code",
   "execution_count": 6,
   "id": "0c9a91ec",
   "metadata": {},
   "outputs": [],
   "source": [
    "from sklearn.tree import DecisionTreeRegressor\n",
    "\n",
    "kfoldcv = RepeatedKFold(n_splits=10, n_repeats=10, random_state=12)\n",
    "power_dt = DecisionTreeRegressor()\n",
    "dt_scores = cross_val_score(power_dt, X, y, scoring='r2', cv=kfoldcv)\n",
    "\n",
    "# Runtime = 17s"
   ]
  },
  {
   "cell_type": "code",
   "execution_count": 7,
   "id": "bbfb54f6",
   "metadata": {},
   "outputs": [
    {
     "data": {
      "text/plain": [
       "array([0.31317305, 0.29616485, 0.32629113, 0.32860772, 0.33103677,\n",
       "       0.39599964, 0.35305671, 0.31358957, 0.30638933, 0.28142008,\n",
       "       0.27750216, 0.30955522, 0.30787216, 0.3544718 , 0.29217948,\n",
       "       0.28819343, 0.36264479, 0.35599365, 0.31763987, 0.31663426,\n",
       "       0.33508131, 0.32058203, 0.30609811, 0.25411402, 0.33067546,\n",
       "       0.32433377, 0.3588053 , 0.28269884, 0.35073156, 0.32907328,\n",
       "       0.38771642, 0.29552834, 0.26292906, 0.28218681, 0.29863945,\n",
       "       0.34597678, 0.32725955, 0.32135628, 0.21336039, 0.34165923,\n",
       "       0.32176538, 0.36609073, 0.30660808, 0.29834793, 0.3395127 ,\n",
       "       0.28420336, 0.40541605, 0.219549  , 0.20475598, 0.35447744,\n",
       "       0.39136191, 0.32492911, 0.31345857, 0.2959595 , 0.33861607,\n",
       "       0.27462781, 0.31804557, 0.37581803, 0.2637729 , 0.29204455,\n",
       "       0.34531529, 0.31198103, 0.37797843, 0.25170866, 0.32060701,\n",
       "       0.29355154, 0.38126963, 0.27603413, 0.3364681 , 0.35762256,\n",
       "       0.36664655, 0.27754789, 0.3022382 , 0.3277507 , 0.29737609,\n",
       "       0.29181525, 0.33698338, 0.27766728, 0.3393271 , 0.35130022,\n",
       "       0.30515528, 0.32228379, 0.34479779, 0.3372244 , 0.35713782,\n",
       "       0.2968278 , 0.31746437, 0.33669717, 0.30463234, 0.3284078 ,\n",
       "       0.34501127, 0.27430981, 0.3389814 , 0.32949912, 0.2487396 ,\n",
       "       0.34493669, 0.3352022 , 0.30812952, 0.31743591, 0.27901677])"
      ]
     },
     "execution_count": 7,
     "metadata": {},
     "output_type": "execute_result"
    }
   ],
   "source": [
    "dt_scores"
   ]
  },
  {
   "cell_type": "code",
   "execution_count": 8,
   "id": "bead9b7e",
   "metadata": {},
   "outputs": [
    {
     "data": {
      "image/png": "[encoded data removed]",
      "text/plain": [
       "<Figure size 1728x216 with 1 Axes>"
      ]
     },
     "metadata": {
      "needs_background": "light"
     },
     "output_type": "display_data"
    }
   ],
   "source": [
    "plt.figure(figsize=(24,3))\n",
    "plt.hist(dt_scores, color='blue')\n",
    "plt.show()"
   ]
  },
  {
   "cell_type": "code",
   "execution_count": 19,
   "id": "9b25f5cf",
   "metadata": {},
   "outputs": [],
   "source": [
    "dt_meanscore = np.mean(dt_scores)"
   ]
  },
  {
   "cell_type": "markdown",
   "id": "e36d96b5",
   "metadata": {},
   "source": [
    "### Random Forest Regression"
   ]
  },
  {
   "cell_type": "code",
   "execution_count": 9,
   "id": "ac4851bb",
   "metadata": {},
   "outputs": [],
   "source": [
    "from sklearn.ensemble import RandomForestRegressor\n",
    "\n",
    "power_rf = RandomForestRegressor()\n",
    "rf_scores = cross_val_score(power_rf, X, y, scoring='r2', cv=kfoldcv)\n",
    "\n",
    "# Runtime = 19m 9s"
   ]
  },
  {
   "cell_type": "code",
   "execution_count": 10,
   "id": "3db752b1",
   "metadata": {},
   "outputs": [
    {
     "data": {
      "text/plain": [
       "array([0.63799286, 0.63877934, 0.64229928, 0.63713272, 0.68438162,\n",
       "       0.66516719, 0.66290306, 0.6479341 , 0.64381528, 0.61965659,\n",
       "       0.62452719, 0.65064622, 0.62591033, 0.65342853, 0.62525562,\n",
       "       0.662832  , 0.65044401, 0.6696666 , 0.64547324, 0.64820079,\n",
       "       0.65354221, 0.64022097, 0.65743947, 0.61860334, 0.65656049,\n",
       "       0.65820575, 0.67526673, 0.62248834, 0.67853587, 0.6185326 ,\n",
       "       0.65659726, 0.64531673, 0.63500108, 0.64500341, 0.62867848,\n",
       "       0.65184757, 0.67144227, 0.66186489, 0.62451597, 0.64737289,\n",
       "       0.64606128, 0.64629104, 0.6466135 , 0.66199707, 0.63723692,\n",
       "       0.64072256, 0.67952133, 0.63169597, 0.61030828, 0.6674166 ,\n",
       "       0.64934835, 0.63725389, 0.6498257 , 0.63978377, 0.68003858,\n",
       "       0.640265  , 0.64870395, 0.65401595, 0.6235568 , 0.64110647,\n",
       "       0.67150319, 0.65780781, 0.64527543, 0.63713499, 0.64470042,\n",
       "       0.65218336, 0.65427785, 0.63520511, 0.63980228, 0.64872012,\n",
       "       0.66192974, 0.62637679, 0.62660573, 0.6619016 , 0.63423537,\n",
       "       0.61861634, 0.65801772, 0.63609149, 0.65837416, 0.68657586,\n",
       "       0.63786869, 0.64519762, 0.68043441, 0.64670689, 0.63974785,\n",
       "       0.66035633, 0.65993946, 0.62295851, 0.63242596, 0.66162127,\n",
       "       0.68104945, 0.6266847 , 0.62637119, 0.65475317, 0.64174613,\n",
       "       0.65563314, 0.65108273, 0.66445878, 0.62494279, 0.65250389])"
      ]
     },
     "execution_count": 10,
     "metadata": {},
     "output_type": "execute_result"
    }
   ],
   "source": [
    "rf_scores"
   ]
  },
  {
   "cell_type": "code",
   "execution_count": 11,
   "id": "8af2da71",
   "metadata": {},
   "outputs": [
    {
     "data": {
      "image/png": "[encoded data removed]",
      "text/plain": [
       "<Figure size 1728x216 with 1 Axes>"
      ]
     },
     "metadata": {
      "needs_background": "light"
     },
     "output_type": "display_data"
    }
   ],
   "source": [
    "plt.figure(figsize=(24,3))\n",
    "plt.hist(rf_scores, color='blue')\n",
    "plt.show()"
   ]
  },
  {
   "cell_type": "code",
   "execution_count": 18,
   "id": "f2c19a4a",
   "metadata": {},
   "outputs": [],
   "source": [
    "rf_meanscore = np.mean(rf_scores)"
   ]
  },
  {
   "cell_type": "markdown",
   "id": "921df9a0",
   "metadata": {},
   "source": [
    "### Support Vector Regression"
   ]
  },
  {
   "cell_type": "code",
   "execution_count": 12,
   "id": "0e3e0188",
   "metadata": {},
   "outputs": [],
   "source": [
    "from sklearn.svm import SVR\n",
    "\n",
    "power_svr = SVR()\n",
    "svr_scores = cross_val_score(power_svr, X, y, scoring='r2', cv=kfoldcv)\n",
    "\n",
    "# Runtime = 49m 26s"
   ]
  },
  {
   "cell_type": "code",
   "execution_count": 13,
   "id": "510a8d79",
   "metadata": {},
   "outputs": [
    {
     "data": {
      "image/png": "[encoded data removed]",
      "text/plain": [
       "<Figure size 1728x216 with 1 Axes>"
      ]
     },
     "metadata": {
      "needs_background": "light"
     },
     "output_type": "display_data"
    }
   ],
   "source": [
    "plt.figure(figsize=(24,3))\n",
    "plt.hist(svr_scores, color='blue')\n",
    "plt.show()"
   ]
  },
  {
   "cell_type": "code",
   "execution_count": null,
   "id": "2cbdf311",
   "metadata": {},
   "outputs": [],
   "source": []
  },
  {
   "cell_type": "markdown",
   "id": "d1891441",
   "metadata": {},
   "source": [
    "### K-Nearest Neighbors Regression "
   ]
  },
  {
   "cell_type": "code",
   "execution_count": 14,
   "id": "27cf86a0",
   "metadata": {},
   "outputs": [],
   "source": [
    "from sklearn.neighbors import KNeighborsRegressor\n",
    "\n",
    "power_knn = KNeighborsRegressor(11)\n",
    "knn_scores = cross_val_score(power_knn, X, y, scoring='r2', cv=kfoldcv)\n",
    "\n",
    "# Runtime = 12s"
   ]
  },
  {
   "cell_type": "code",
   "execution_count": 15,
   "id": "7a3cb56f",
   "metadata": {},
   "outputs": [
    {
     "data": {
      "image/png": "[encoded data removed]",
      "text/plain": [
       "<Figure size 1728x216 with 1 Axes>"
      ]
     },
     "metadata": {
      "needs_background": "light"
     },
     "output_type": "display_data"
    }
   ],
   "source": [
    "plt.figure(figsize=(24,3))\n",
    "plt.hist(knn_scores, color='blue')\n",
    "plt.show()"
   ]
  },
  {
   "cell_type": "markdown",
   "id": "90b4ff4d",
   "metadata": {},
   "source": [
    "# Hyperparameter Tuning"
   ]
  },
  {
   "cell_type": "code",
   "execution_count": 20,
   "id": "5710e854",
   "metadata": {},
   "outputs": [],
   "source": [
    "from sklearn.model_selection import GridSearchCV\n",
    "\n",
    "dtr = DecisionTreeRegressor()\n",
    "rfr = RandomForestRegressor()\n",
    "svr = SVR()\n",
    "knn = KNeighborsRegressor()"
   ]
  },
  {
   "cell_type": "code",
   "execution_count": 21,
   "id": "5741e205",
   "metadata": {},
   "outputs": [
    {
     "data": {
      "text/plain": [
       "{'max_depth': 18, 'max_features': 11, 'min_samples_leaf': 85}"
      ]
     },
     "execution_count": 21,
     "metadata": {},
     "output_type": "execute_result"
    }
   ],
   "source": [
    "# Decision Tree\n",
    "dtr_params = {'max_depth':np.arange(1,20), 'max_features':np.arange(1,15), 'min_samples_leaf':np.arange(5,100,5)}\n",
    "hyp_dtr = GridSearchCV(dtr, param_grid=dtr_params, cv=5)\n",
    "hyp_dtr.fit(X, y)\n",
    "hyp_dtr.best_params_\n",
    "\n",
    "# Runtime = 16m 28s"
   ]
  },
  {
   "cell_type": "code",
   "execution_count": null,
   "id": "b6fe00c4",
   "metadata": {},
   "outputs": [],
   "source": [
    "# Random Forest\n",
    "rfr_params = {'max_features':np.arange(1,15), 'min_samples_leaf':np.arange(5,100,5), 'n_estimators':[50,100,150,200]}\n",
    "hyp_rfr = GridSearchCV(rfr, param_grid=rfr_params, cv=2)\n",
    "hyp_rfr.fit(X, y)\n",
    "hyp_rfr.best_params_\n",
    "\n",
    "# Reduced cv from 5 to 2 due to time constraints. Model at first iteration took too long.\n",
    "# Runtime = "
   ]
  },
  {
   "cell_type": "code",
   "execution_count": null,
   "id": "58d0c69e",
   "metadata": {},
   "outputs": [],
   "source": [
    "# Support Vector\n",
    "svr_params = {'C': [0.1, 1, 10, 100, 1000]}\n",
    "hyp_svr = GridSearchCV(svr, param_grid=svr_params, cv=2)\n",
    "hyp_svr.fit(X, y)\n",
    "hyp_svr.best_params_\n",
    "\n",
    "# Reduced cv from 5 to 2 due to time constraints. Model at first iteration took too long.\n",
    "# Runtime ="
   ]
  },
  {
   "cell_type": "code",
   "execution_count": null,
   "id": "ac34fd1c",
   "metadata": {},
   "outputs": [],
   "source": [
    "# KNN\n",
    "knn_params = {'n_neighbors':np.arange(1, 50), 'p':[1,2], 'weights': ['uniform', 'distance']}\n",
    "hyp_knn = GridSearchCV(knn, param_grid=knn_params, cv=5)\n",
    "hyp_knn.fit(X, y)\n",
    "hyp_knn.best_params_\n",
    "\n",
    "# Runtime ="
   ]
  },
  {
   "cell_type": "markdown",
   "id": "a7003ce4",
   "metadata": {},
   "source": [
    "# New Model Iteration"
   ]
  },
  {
   "cell_type": "markdown",
   "id": "3fd8daf5",
   "metadata": {},
   "source": [
    "### Decision Tree Regression"
   ]
  },
  {
   "cell_type": "code",
   "execution_count": null,
   "id": "33bcb94f",
   "metadata": {},
   "outputs": [],
   "source": [
    "from sklearn.tree import DecisionTreeRegressor\n",
    "\n",
    "kfoldcv = RepeatedKFold(n_splits=10, n_repeats=10, random_state=12)\n",
    "power_hpdt = DecisionTreeRegressor( )\n",
    "hpdt_scores = cross_val_score(power_hpdt, X, y, scoring='r2', cv=kfoldcv)\n",
    "\n",
    "# Runtime = "
   ]
  },
  {
   "cell_type": "code",
   "execution_count": null,
   "id": "2dbf11cd",
   "metadata": {},
   "outputs": [],
   "source": [
    "hpdt_scores"
   ]
  },
  {
   "cell_type": "code",
   "execution_count": null,
   "id": "4faaab88",
   "metadata": {},
   "outputs": [],
   "source": [
    "hpdt_meanscore = np.mean(hpdt_scores)"
   ]
  },
  {
   "cell_type": "markdown",
   "id": "f94a7f0d",
   "metadata": {},
   "source": [
    "### Random Forest Regression"
   ]
  },
  {
   "cell_type": "code",
   "execution_count": null,
   "id": "2fe26084",
   "metadata": {},
   "outputs": [],
   "source": [
    "from sklearn.ensemble import RandomForestRegressor\n",
    "\n",
    "power_hprf = RandomForestRegressor( )\n",
    "hprf_scores = cross_val_score(power_hprf, X, y, scoring='r2', cv=kfoldcv)\n",
    "\n",
    "# Runtime = "
   ]
  },
  {
   "cell_type": "code",
   "execution_count": null,
   "id": "9cd1f644",
   "metadata": {},
   "outputs": [],
   "source": [
    "hprf_scores"
   ]
  },
  {
   "cell_type": "code",
   "execution_count": null,
   "id": "eb3de56b",
   "metadata": {},
   "outputs": [],
   "source": [
    "hprf_meanscore = np.mean(hprf_scores)"
   ]
  },
  {
   "cell_type": "markdown",
   "id": "4ddfb7e3",
   "metadata": {},
   "source": [
    "### Support Vector Regression"
   ]
  },
  {
   "cell_type": "code",
   "execution_count": null,
   "id": "5d5b5af1",
   "metadata": {},
   "outputs": [],
   "source": [
    "from sklearn.svm import SVR\n",
    "\n",
    "power_hpsvr = SVR()\n",
    "hpsvr_scores = cross_val_score(power_hpsvr, X, y, scoring='r2', cv=kfoldcv)\n",
    "\n",
    "# Runtime = "
   ]
  },
  {
   "cell_type": "code",
   "execution_count": null,
   "id": "7013e151",
   "metadata": {},
   "outputs": [],
   "source": [
    "hpsvr_scores"
   ]
  },
  {
   "cell_type": "code",
   "execution_count": null,
   "id": "d86c2ae6",
   "metadata": {},
   "outputs": [],
   "source": [
    "hpsvr_meanscore = np.mean(hpsvr_scores)"
   ]
  },
  {
   "cell_type": "markdown",
   "id": "b7436395",
   "metadata": {},
   "source": [
    "### K-Nearest Neighbors Regression"
   ]
  },
  {
   "cell_type": "code",
   "execution_count": null,
   "id": "86f6c980",
   "metadata": {},
   "outputs": [],
   "source": [
    "from sklearn.neighbors import KNeighborsRegressor\n",
    "\n",
    "power_hpknn = KNeighborsRegressor(11)\n",
    "hpknn_scores = cross_val_score(power_hpknn, X, y, scoring='r2', cv=kfoldcv)\n",
    "\n",
    "# Runtime = "
   ]
  },
  {
   "cell_type": "code",
   "execution_count": null,
   "id": "d141d8a8",
   "metadata": {},
   "outputs": [],
   "source": [
    "hpknn_scores"
   ]
  },
  {
   "cell_type": "code",
   "execution_count": null,
   "id": "67581cee",
   "metadata": {},
   "outputs": [],
   "source": [
    "hpknn_meanscore = np.mean(hpknn_scores)"
   ]
  },
  {
   "cell_type": "markdown",
   "id": "7b0d6218",
   "metadata": {},
   "source": [
    "### Comparison of Baseline Models and Tuned Models"
   ]
  },
  {
   "cell_type": "code",
   "execution_count": null,
   "id": "1000f5b8",
   "metadata": {},
   "outputs": [],
   "source": [
    "power_compare = pd.DataFrame({\n",
    "    'Model':['Decision Tree Regression', 'Random Forest Regression', 'Support Vector Regression', 'KNN Regression'],\n",
    "    'Baseline':[dt_meanscore, rf_meanscore, svr_meanscore, knn_meanscore],\n",
    "    'Hyperparametric Tuned':[hpdt_meanscore, hprf_meanscore, hpsvr_meanscore, hpknn_meanscore]\n",
    "})"
   ]
  },
  {
   "cell_type": "markdown",
   "id": "9b286a1e",
   "metadata": {},
   "source": [
    "# Prediction on test set with best performing model"
   ]
  },
  {
   "cell_type": "code",
   "execution_count": null,
   "id": "192b7977",
   "metadata": {},
   "outputs": [],
   "source": []
  }
 ],
 "metadata": {
  "kernelspec": {
   "display_name": "Python 3 (ipykernel)",
   "language": "python",
   "name": "python3"
  },
  "language_info": {
   "codemirror_mode": {
    "name": "ipython",
    "version": 3
   },
   "file_extension": ".py",
   "mimetype": "text/x-python",
   "name": "python",
   "nbconvert_exporter": "python",
   "pygments_lexer": "ipython3",
   "version": "3.9.12"
  }
 },
 "nbformat": 4,
 "nbformat_minor": 5
}
