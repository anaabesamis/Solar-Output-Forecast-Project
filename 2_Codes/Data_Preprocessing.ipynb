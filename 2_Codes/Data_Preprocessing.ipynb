{
  "nbformat": 4,
  "nbformat_minor": 0,
  "metadata": {
    "colab": {
      "provenance": []
    },
    "kernelspec": {
      "name": "python3",
      "display_name": "Python 3"
    },
    "language_info": {
      "name": "python"
    }
  },
  "cells": [
    {
      "cell_type": "code",
      "source": [
        "pip install -U scikit-learn"
      ],
      "metadata": {
        "colab": {
          "base_uri": "https://localhost:8080/"
        },
        "id": "Rt76f5iR5wCr",
        "outputId": "db8c0a81-823d-4e9a-b091-047b342c6098"
      },
      "execution_count": 1,
      "outputs": [
        {
          "output_type": "stream",
          "name": "stdout",
          "text": [
            "Looking in indexes: https://pypi.org/simple, https://us-python.pkg.dev/colab-wheels/public/simple/\n",
            "Requirement already satisfied: scikit-learn in /usr/local/lib/python3.7/dist-packages (1.0.2)\n",
            "Requirement already satisfied: joblib>=0.11 in /usr/local/lib/python3.7/dist-packages (from scikit-learn) (1.2.0)\n",
            "Requirement already satisfied: numpy>=1.14.6 in /usr/local/lib/python3.7/dist-packages (from scikit-learn) (1.21.6)\n",
            "Requirement already satisfied: scipy>=1.1.0 in /usr/local/lib/python3.7/dist-packages (from scikit-learn) (1.7.3)\n",
            "Requirement already satisfied: threadpoolctl>=2.0.0 in /usr/local/lib/python3.7/dist-packages (from scikit-learn) (3.1.0)\n"
          ]
        }
      ]
    },
    {
      "cell_type": "code",
      "execution_count": 2,
      "metadata": {
        "id": "26JyG7880g46"
      },
      "outputs": [],
      "source": [
        "import pandas as pd\n",
        "import matplotlib\n",
        "import matplotlib.pyplot as plt\n",
        "import numpy as np\n",
        "import seaborn as sns\n",
        "from scipy.stats import boxcox"
      ]
    },
    {
      "cell_type": "code",
      "source": [
        "df = pd.read_csv('Pasion et al dataset.csv', sep=',', header=0)\n",
        "df.head()"
      ],
      "metadata": {
        "colab": {
          "base_uri": "https://localhost:8080/",
          "height": 250
        },
        "id": "0jAoqDhx2_V4",
        "outputId": "f0c14782-18ce-400e-fd4e-1db9acac1bae"
      },
      "execution_count": 3,
      "outputs": [
        {
          "output_type": "execute_result",
          "data": {
            "text/plain": [
              "      Location      Date  Time  Latitude  Longitude  Altitude    YRMODAHRMI  \\\n",
              "0  Camp Murray  20171203  1145     47.11    -122.57        84  2.017120e+11   \n",
              "1  Camp Murray  20171203  1315     47.11    -122.57        84  2.017120e+11   \n",
              "2  Camp Murray  20171203  1330     47.11    -122.57        84  2.017120e+11   \n",
              "3  Camp Murray  20171204  1230     47.11    -122.57        84  2.017120e+11   \n",
              "4  Camp Murray  20171204  1415     47.11    -122.57        84  2.017120e+11   \n",
              "\n",
              "   Month  Hour  Season  Humidity  AmbientTemp  PolyPwr  Wind.Speed  \\\n",
              "0     12    11  Winter  81.71997     12.86919  2.42769           5   \n",
              "1     12    13  Winter  96.64917      9.66415  2.46273           0   \n",
              "2     12    13  Winter  93.61572     15.44983  4.46836           5   \n",
              "3     12    12  Winter  77.21558     10.36659  1.65364           5   \n",
              "4     12    14  Winter  54.80347     16.85471  6.57939           3   \n",
              "\n",
              "   Visibility  Pressure  Cloud.Ceiling  \n",
              "0        10.0    1010.6            722  \n",
              "1        10.0    1011.3             23  \n",
              "2        10.0    1011.6             32  \n",
              "3         2.0    1024.4              6  \n",
              "4         3.0    1023.7              9  "
            ],
            "text/html": [
              "\n",
              "  <div id=\"df-22ab7864-6798-4ddd-bd00-4c1cc497fd0d\">\n",
              "    <div class=\"colab-df-container\">\n",
              "      <div>\n",
              "<style scoped>\n",
              "    .dataframe tbody tr th:only-of-type {\n",
              "        vertical-align: middle;\n",
              "    }\n",
              "\n",
              "    .dataframe tbody tr th {\n",
              "        vertical-align: top;\n",
              "    }\n",
              "\n",
              "    .dataframe thead th {\n",
              "        text-align: right;\n",
              "    }\n",
              "</style>\n",
              "<table border=\"1\" class=\"dataframe\">\n",
              "  <thead>\n",
              "    <tr style=\"text-align: right;\">\n",
              "      <th></th>\n",
              "      <th>Location</th>\n",
              "      <th>Date</th>\n",
              "      <th>Time</th>\n",
              "      <th>Latitude</th>\n",
              "      <th>Longitude</th>\n",
              "      <th>Altitude</th>\n",
              "      <th>YRMODAHRMI</th>\n",
              "      <th>Month</th>\n",
              "      <th>Hour</th>\n",
              "      <th>Season</th>\n",
              "      <th>Humidity</th>\n",
              "      <th>AmbientTemp</th>\n",
              "      <th>PolyPwr</th>\n",
              "      <th>Wind.Speed</th>\n",
              "      <th>Visibility</th>\n",
              "      <th>Pressure</th>\n",
              "      <th>Cloud.Ceiling</th>\n",
              "    </tr>\n",
              "  </thead>\n",
              "  <tbody>\n",
              "    <tr>\n",
              "      <th>0</th>\n",
              "      <td>Camp Murray</td>\n",
              "      <td>20171203</td>\n",
              "      <td>1145</td>\n",
              "      <td>47.11</td>\n",
              "      <td>-122.57</td>\n",
              "      <td>84</td>\n",
              "      <td>2.017120e+11</td>\n",
              "      <td>12</td>\n",
              "      <td>11</td>\n",
              "      <td>Winter</td>\n",
              "      <td>81.71997</td>\n",
              "      <td>12.86919</td>\n",
              "      <td>2.42769</td>\n",
              "      <td>5</td>\n",
              "      <td>10.0</td>\n",
              "      <td>1010.6</td>\n",
              "      <td>722</td>\n",
              "    </tr>\n",
              "    <tr>\n",
              "      <th>1</th>\n",
              "      <td>Camp Murray</td>\n",
              "      <td>20171203</td>\n",
              "      <td>1315</td>\n",
              "      <td>47.11</td>\n",
              "      <td>-122.57</td>\n",
              "      <td>84</td>\n",
              "      <td>2.017120e+11</td>\n",
              "      <td>12</td>\n",
              "      <td>13</td>\n",
              "      <td>Winter</td>\n",
              "      <td>96.64917</td>\n",
              "      <td>9.66415</td>\n",
              "      <td>2.46273</td>\n",
              "      <td>0</td>\n",
              "      <td>10.0</td>\n",
              "      <td>1011.3</td>\n",
              "      <td>23</td>\n",
              "    </tr>\n",
              "    <tr>\n",
              "      <th>2</th>\n",
              "      <td>Camp Murray</td>\n",
              "      <td>20171203</td>\n",
              "      <td>1330</td>\n",
              "      <td>47.11</td>\n",
              "      <td>-122.57</td>\n",
              "      <td>84</td>\n",
              "      <td>2.017120e+11</td>\n",
              "      <td>12</td>\n",
              "      <td>13</td>\n",
              "      <td>Winter</td>\n",
              "      <td>93.61572</td>\n",
              "      <td>15.44983</td>\n",
              "      <td>4.46836</td>\n",
              "      <td>5</td>\n",
              "      <td>10.0</td>\n",
              "      <td>1011.6</td>\n",
              "      <td>32</td>\n",
              "    </tr>\n",
              "    <tr>\n",
              "      <th>3</th>\n",
              "      <td>Camp Murray</td>\n",
              "      <td>20171204</td>\n",
              "      <td>1230</td>\n",
              "      <td>47.11</td>\n",
              "      <td>-122.57</td>\n",
              "      <td>84</td>\n",
              "      <td>2.017120e+11</td>\n",
              "      <td>12</td>\n",
              "      <td>12</td>\n",
              "      <td>Winter</td>\n",
              "      <td>77.21558</td>\n",
              "      <td>10.36659</td>\n",
              "      <td>1.65364</td>\n",
              "      <td>5</td>\n",
              "      <td>2.0</td>\n",
              "      <td>1024.4</td>\n",
              "      <td>6</td>\n",
              "    </tr>\n",
              "    <tr>\n",
              "      <th>4</th>\n",
              "      <td>Camp Murray</td>\n",
              "      <td>20171204</td>\n",
              "      <td>1415</td>\n",
              "      <td>47.11</td>\n",
              "      <td>-122.57</td>\n",
              "      <td>84</td>\n",
              "      <td>2.017120e+11</td>\n",
              "      <td>12</td>\n",
              "      <td>14</td>\n",
              "      <td>Winter</td>\n",
              "      <td>54.80347</td>\n",
              "      <td>16.85471</td>\n",
              "      <td>6.57939</td>\n",
              "      <td>3</td>\n",
              "      <td>3.0</td>\n",
              "      <td>1023.7</td>\n",
              "      <td>9</td>\n",
              "    </tr>\n",
              "  </tbody>\n",
              "</table>\n",
              "</div>\n",
              "      <button class=\"colab-df-convert\" onclick=\"convertToInteractive('df-22ab7864-6798-4ddd-bd00-4c1cc497fd0d')\"\n",
              "              title=\"Convert this dataframe to an interactive table.\"\n",
              "              style=\"display:none;\">\n",
              "        \n",
              "  <svg xmlns=\"http://www.w3.org/2000/svg\" height=\"24px\"viewBox=\"0 0 24 24\"\n",
              "       width=\"24px\">\n",
              "    <path d=\"M0 0h24v24H0V0z\" fill=\"none\"/>\n",
              "    <path d=\"M18.56 5.44l.94 2.06.94-2.06 2.06-.94-2.06-.94-.94-2.06-.94 2.06-2.06.94zm-11 1L8.5 8.5l.94-2.06 2.06-.94-2.06-.94L8.5 2.5l-.94 2.06-2.06.94zm10 10l.94 2.06.94-2.06 2.06-.94-2.06-.94-.94-2.06-.94 2.06-2.06.94z\"/><path d=\"M17.41 7.96l-1.37-1.37c-.4-.4-.92-.59-1.43-.59-.52 0-1.04.2-1.43.59L10.3 9.45l-7.72 7.72c-.78.78-.78 2.05 0 2.83L4 21.41c.39.39.9.59 1.41.59.51 0 1.02-.2 1.41-.59l7.78-7.78 2.81-2.81c.8-.78.8-2.07 0-2.86zM5.41 20L4 18.59l7.72-7.72 1.47 1.35L5.41 20z\"/>\n",
              "  </svg>\n",
              "      </button>\n",
              "      \n",
              "  <style>\n",
              "    .colab-df-container {\n",
              "      display:flex;\n",
              "      flex-wrap:wrap;\n",
              "      gap: 12px;\n",
              "    }\n",
              "\n",
              "    .colab-df-convert {\n",
              "      background-color: #E8F0FE;\n",
              "      border: none;\n",
              "      border-radius: 50%;\n",
              "      cursor: pointer;\n",
              "      display: none;\n",
              "      fill: #1967D2;\n",
              "      height: 32px;\n",
              "      padding: 0 0 0 0;\n",
              "      width: 32px;\n",
              "    }\n",
              "\n",
              "    .colab-df-convert:hover {\n",
              "      background-color: #E2EBFA;\n",
              "      box-shadow: 0px 1px 2px rgba(60, 64, 67, 0.3), 0px 1px 3px 1px rgba(60, 64, 67, 0.15);\n",
              "      fill: #174EA6;\n",
              "    }\n",
              "\n",
              "    [theme=dark] .colab-df-convert {\n",
              "      background-color: #3B4455;\n",
              "      fill: #D2E3FC;\n",
              "    }\n",
              "\n",
              "    [theme=dark] .colab-df-convert:hover {\n",
              "      background-color: #434B5C;\n",
              "      box-shadow: 0px 1px 3px 1px rgba(0, 0, 0, 0.15);\n",
              "      filter: drop-shadow(0px 1px 2px rgba(0, 0, 0, 0.3));\n",
              "      fill: #FFFFFF;\n",
              "    }\n",
              "  </style>\n",
              "\n",
              "      <script>\n",
              "        const buttonEl =\n",
              "          document.querySelector('#df-22ab7864-6798-4ddd-bd00-4c1cc497fd0d button.colab-df-convert');\n",
              "        buttonEl.style.display =\n",
              "          google.colab.kernel.accessAllowed ? 'block' : 'none';\n",
              "\n",
              "        async function convertToInteractive(key) {\n",
              "          const element = document.querySelector('#df-22ab7864-6798-4ddd-bd00-4c1cc497fd0d');\n",
              "          const dataTable =\n",
              "            await google.colab.kernel.invokeFunction('convertToInteractive',\n",
              "                                                     [key], {});\n",
              "          if (!dataTable) return;\n",
              "\n",
              "          const docLinkHtml = 'Like what you see? Visit the ' +\n",
              "            '<a target=\"_blank\" href=https://colab.research.google.com/notebooks/data_table.ipynb>data table notebook</a>'\n",
              "            + ' to learn more about interactive tables.';\n",
              "          element.innerHTML = '';\n",
              "          dataTable['output_type'] = 'display_data';\n",
              "          await google.colab.output.renderOutput(dataTable, element);\n",
              "          const docLink = document.createElement('div');\n",
              "          docLink.innerHTML = docLinkHtml;\n",
              "          element.appendChild(docLink);\n",
              "        }\n",
              "      </script>\n",
              "    </div>\n",
              "  </div>\n",
              "  "
            ]
          },
          "metadata": {},
          "execution_count": 3
        }
      ]
    },
    {
      "cell_type": "code",
      "source": [
        "df.isnull().sum() #missing value check"
      ],
      "metadata": {
        "colab": {
          "base_uri": "https://localhost:8080/"
        },
        "id": "7Lo3-S859Evj",
        "outputId": "62b00c8c-134c-49fd-d17c-9d752250983c"
      },
      "execution_count": 4,
      "outputs": [
        {
          "output_type": "execute_result",
          "data": {
            "text/plain": [
              "Location         0\n",
              "Date             0\n",
              "Time             0\n",
              "Latitude         0\n",
              "Longitude        0\n",
              "Altitude         0\n",
              "YRMODAHRMI       0\n",
              "Month            0\n",
              "Hour             0\n",
              "Season           0\n",
              "Humidity         0\n",
              "AmbientTemp      0\n",
              "PolyPwr          0\n",
              "Wind.Speed       0\n",
              "Visibility       0\n",
              "Pressure         0\n",
              "Cloud.Ceiling    0\n",
              "dtype: int64"
            ]
          },
          "metadata": {},
          "execution_count": 4
        }
      ]
    },
    {
      "cell_type": "code",
      "source": [
        "print(df.dtypes)"
      ],
      "metadata": {
        "colab": {
          "base_uri": "https://localhost:8080/"
        },
        "id": "tzWFiWdBWpoO",
        "outputId": "3488ecda-03cb-4012-addf-085ec3fbe235"
      },
      "execution_count": 5,
      "outputs": [
        {
          "output_type": "stream",
          "name": "stdout",
          "text": [
            "Location          object\n",
            "Date               int64\n",
            "Time               int64\n",
            "Latitude         float64\n",
            "Longitude        float64\n",
            "Altitude           int64\n",
            "YRMODAHRMI       float64\n",
            "Month              int64\n",
            "Hour               int64\n",
            "Season            object\n",
            "Humidity         float64\n",
            "AmbientTemp      float64\n",
            "PolyPwr          float64\n",
            "Wind.Speed         int64\n",
            "Visibility       float64\n",
            "Pressure         float64\n",
            "Cloud.Ceiling      int64\n",
            "dtype: object\n"
          ]
        }
      ]
    },
    {
      "cell_type": "markdown",
      "source": [
        "# Preprocessing Time Variables"
      ],
      "metadata": {
        "id": "KA7S1fI4ZDNz"
      }
    },
    {
      "cell_type": "code",
      "source": [
        "df['DateTime'] = df['Date'].astype(str) + df['Time'].astype(str)\n",
        "df['DateTime'].head()"
      ],
      "metadata": {
        "colab": {
          "base_uri": "https://localhost:8080/"
        },
        "id": "4KzRMZ3aWaB2",
        "outputId": "d750978d-439c-4d3e-f76b-f9e136277378"
      },
      "execution_count": 6,
      "outputs": [
        {
          "output_type": "execute_result",
          "data": {
            "text/plain": [
              "0    201712031145\n",
              "1    201712031315\n",
              "2    201712031330\n",
              "3    201712041230\n",
              "4    201712041415\n",
              "Name: DateTime, dtype: object"
            ]
          },
          "metadata": {},
          "execution_count": 6
        }
      ]
    },
    {
      "cell_type": "code",
      "source": [
        "df['Timestamp'] = pd.to_datetime(df['DateTime'], format='%Y%m%d%H%M')"
      ],
      "metadata": {
        "id": "b4otWQNyU5vP"
      },
      "execution_count": 7,
      "outputs": []
    },
    {
      "cell_type": "code",
      "source": [
        "df.head()"
      ],
      "metadata": {
        "colab": {
          "base_uri": "https://localhost:8080/",
          "height": 444
        },
        "id": "PfFeaCu2VR-C",
        "outputId": "aad9a9eb-acd3-409e-83f6-267475cb4873"
      },
      "execution_count": 8,
      "outputs": [
        {
          "output_type": "execute_result",
          "data": {
            "text/plain": [
              "      Location      Date  Time  Latitude  Longitude  Altitude    YRMODAHRMI  \\\n",
              "0  Camp Murray  20171203  1145     47.11    -122.57        84  2.017120e+11   \n",
              "1  Camp Murray  20171203  1315     47.11    -122.57        84  2.017120e+11   \n",
              "2  Camp Murray  20171203  1330     47.11    -122.57        84  2.017120e+11   \n",
              "3  Camp Murray  20171204  1230     47.11    -122.57        84  2.017120e+11   \n",
              "4  Camp Murray  20171204  1415     47.11    -122.57        84  2.017120e+11   \n",
              "\n",
              "   Month  Hour  Season  Humidity  AmbientTemp  PolyPwr  Wind.Speed  \\\n",
              "0     12    11  Winter  81.71997     12.86919  2.42769           5   \n",
              "1     12    13  Winter  96.64917      9.66415  2.46273           0   \n",
              "2     12    13  Winter  93.61572     15.44983  4.46836           5   \n",
              "3     12    12  Winter  77.21558     10.36659  1.65364           5   \n",
              "4     12    14  Winter  54.80347     16.85471  6.57939           3   \n",
              "\n",
              "   Visibility  Pressure  Cloud.Ceiling      DateTime           Timestamp  \n",
              "0        10.0    1010.6            722  201712031145 2017-12-03 11:45:00  \n",
              "1        10.0    1011.3             23  201712031315 2017-12-03 13:15:00  \n",
              "2        10.0    1011.6             32  201712031330 2017-12-03 13:30:00  \n",
              "3         2.0    1024.4              6  201712041230 2017-12-04 12:30:00  \n",
              "4         3.0    1023.7              9  201712041415 2017-12-04 14:15:00  "
            ],
            "text/html": [
              "\n",
              "  <div id=\"df-1ba27a65-84e2-4fa9-bb7e-7c4a8a7d8534\">\n",
              "    <div class=\"colab-df-container\">\n",
              "      <div>\n",
              "<style scoped>\n",
              "    .dataframe tbody tr th:only-of-type {\n",
              "        vertical-align: middle;\n",
              "    }\n",
              "\n",
              "    .dataframe tbody tr th {\n",
              "        vertical-align: top;\n",
              "    }\n",
              "\n",
              "    .dataframe thead th {\n",
              "        text-align: right;\n",
              "    }\n",
              "</style>\n",
              "<table border=\"1\" class=\"dataframe\">\n",
              "  <thead>\n",
              "    <tr style=\"text-align: right;\">\n",
              "      <th></th>\n",
              "      <th>Location</th>\n",
              "      <th>Date</th>\n",
              "      <th>Time</th>\n",
              "      <th>Latitude</th>\n",
              "      <th>Longitude</th>\n",
              "      <th>Altitude</th>\n",
              "      <th>YRMODAHRMI</th>\n",
              "      <th>Month</th>\n",
              "      <th>Hour</th>\n",
              "      <th>Season</th>\n",
              "      <th>Humidity</th>\n",
              "      <th>AmbientTemp</th>\n",
              "      <th>PolyPwr</th>\n",
              "      <th>Wind.Speed</th>\n",
              "      <th>Visibility</th>\n",
              "      <th>Pressure</th>\n",
              "      <th>Cloud.Ceiling</th>\n",
              "      <th>DateTime</th>\n",
              "      <th>Timestamp</th>\n",
              "    </tr>\n",
              "  </thead>\n",
              "  <tbody>\n",
              "    <tr>\n",
              "      <th>0</th>\n",
              "      <td>Camp Murray</td>\n",
              "      <td>20171203</td>\n",
              "      <td>1145</td>\n",
              "      <td>47.11</td>\n",
              "      <td>-122.57</td>\n",
              "      <td>84</td>\n",
              "      <td>2.017120e+11</td>\n",
              "      <td>12</td>\n",
              "      <td>11</td>\n",
              "      <td>Winter</td>\n",
              "      <td>81.71997</td>\n",
              "      <td>12.86919</td>\n",
              "      <td>2.42769</td>\n",
              "      <td>5</td>\n",
              "      <td>10.0</td>\n",
              "      <td>1010.6</td>\n",
              "      <td>722</td>\n",
              "      <td>201712031145</td>\n",
              "      <td>2017-12-03 11:45:00</td>\n",
              "    </tr>\n",
              "    <tr>\n",
              "      <th>1</th>\n",
              "      <td>Camp Murray</td>\n",
              "      <td>20171203</td>\n",
              "      <td>1315</td>\n",
              "      <td>47.11</td>\n",
              "      <td>-122.57</td>\n",
              "      <td>84</td>\n",
              "      <td>2.017120e+11</td>\n",
              "      <td>12</td>\n",
              "      <td>13</td>\n",
              "      <td>Winter</td>\n",
              "      <td>96.64917</td>\n",
              "      <td>9.66415</td>\n",
              "      <td>2.46273</td>\n",
              "      <td>0</td>\n",
              "      <td>10.0</td>\n",
              "      <td>1011.3</td>\n",
              "      <td>23</td>\n",
              "      <td>201712031315</td>\n",
              "      <td>2017-12-03 13:15:00</td>\n",
              "    </tr>\n",
              "    <tr>\n",
              "      <th>2</th>\n",
              "      <td>Camp Murray</td>\n",
              "      <td>20171203</td>\n",
              "      <td>1330</td>\n",
              "      <td>47.11</td>\n",
              "      <td>-122.57</td>\n",
              "      <td>84</td>\n",
              "      <td>2.017120e+11</td>\n",
              "      <td>12</td>\n",
              "      <td>13</td>\n",
              "      <td>Winter</td>\n",
              "      <td>93.61572</td>\n",
              "      <td>15.44983</td>\n",
              "      <td>4.46836</td>\n",
              "      <td>5</td>\n",
              "      <td>10.0</td>\n",
              "      <td>1011.6</td>\n",
              "      <td>32</td>\n",
              "      <td>201712031330</td>\n",
              "      <td>2017-12-03 13:30:00</td>\n",
              "    </tr>\n",
              "    <tr>\n",
              "      <th>3</th>\n",
              "      <td>Camp Murray</td>\n",
              "      <td>20171204</td>\n",
              "      <td>1230</td>\n",
              "      <td>47.11</td>\n",
              "      <td>-122.57</td>\n",
              "      <td>84</td>\n",
              "      <td>2.017120e+11</td>\n",
              "      <td>12</td>\n",
              "      <td>12</td>\n",
              "      <td>Winter</td>\n",
              "      <td>77.21558</td>\n",
              "      <td>10.36659</td>\n",
              "      <td>1.65364</td>\n",
              "      <td>5</td>\n",
              "      <td>2.0</td>\n",
              "      <td>1024.4</td>\n",
              "      <td>6</td>\n",
              "      <td>201712041230</td>\n",
              "      <td>2017-12-04 12:30:00</td>\n",
              "    </tr>\n",
              "    <tr>\n",
              "      <th>4</th>\n",
              "      <td>Camp Murray</td>\n",
              "      <td>20171204</td>\n",
              "      <td>1415</td>\n",
              "      <td>47.11</td>\n",
              "      <td>-122.57</td>\n",
              "      <td>84</td>\n",
              "      <td>2.017120e+11</td>\n",
              "      <td>12</td>\n",
              "      <td>14</td>\n",
              "      <td>Winter</td>\n",
              "      <td>54.80347</td>\n",
              "      <td>16.85471</td>\n",
              "      <td>6.57939</td>\n",
              "      <td>3</td>\n",
              "      <td>3.0</td>\n",
              "      <td>1023.7</td>\n",
              "      <td>9</td>\n",
              "      <td>201712041415</td>\n",
              "      <td>2017-12-04 14:15:00</td>\n",
              "    </tr>\n",
              "  </tbody>\n",
              "</table>\n",
              "</div>\n",
              "      <button class=\"colab-df-convert\" onclick=\"convertToInteractive('df-1ba27a65-84e2-4fa9-bb7e-7c4a8a7d8534')\"\n",
              "              title=\"Convert this dataframe to an interactive table.\"\n",
              "              style=\"display:none;\">\n",
              "        \n",
              "  <svg xmlns=\"http://www.w3.org/2000/svg\" height=\"24px\"viewBox=\"0 0 24 24\"\n",
              "       width=\"24px\">\n",
              "    <path d=\"M0 0h24v24H0V0z\" fill=\"none\"/>\n",
              "    <path d=\"M18.56 5.44l.94 2.06.94-2.06 2.06-.94-2.06-.94-.94-2.06-.94 2.06-2.06.94zm-11 1L8.5 8.5l.94-2.06 2.06-.94-2.06-.94L8.5 2.5l-.94 2.06-2.06.94zm10 10l.94 2.06.94-2.06 2.06-.94-2.06-.94-.94-2.06-.94 2.06-2.06.94z\"/><path d=\"M17.41 7.96l-1.37-1.37c-.4-.4-.92-.59-1.43-.59-.52 0-1.04.2-1.43.59L10.3 9.45l-7.72 7.72c-.78.78-.78 2.05 0 2.83L4 21.41c.39.39.9.59 1.41.59.51 0 1.02-.2 1.41-.59l7.78-7.78 2.81-2.81c.8-.78.8-2.07 0-2.86zM5.41 20L4 18.59l7.72-7.72 1.47 1.35L5.41 20z\"/>\n",
              "  </svg>\n",
              "      </button>\n",
              "      \n",
              "  <style>\n",
              "    .colab-df-container {\n",
              "      display:flex;\n",
              "      flex-wrap:wrap;\n",
              "      gap: 12px;\n",
              "    }\n",
              "\n",
              "    .colab-df-convert {\n",
              "      background-color: #E8F0FE;\n",
              "      border: none;\n",
              "      border-radius: 50%;\n",
              "      cursor: pointer;\n",
              "      display: none;\n",
              "      fill: #1967D2;\n",
              "      height: 32px;\n",
              "      padding: 0 0 0 0;\n",
              "      width: 32px;\n",
              "    }\n",
              "\n",
              "    .colab-df-convert:hover {\n",
              "      background-color: #E2EBFA;\n",
              "      box-shadow: 0px 1px 2px rgba(60, 64, 67, 0.3), 0px 1px 3px 1px rgba(60, 64, 67, 0.15);\n",
              "      fill: #174EA6;\n",
              "    }\n",
              "\n",
              "    [theme=dark] .colab-df-convert {\n",
              "      background-color: #3B4455;\n",
              "      fill: #D2E3FC;\n",
              "    }\n",
              "\n",
              "    [theme=dark] .colab-df-convert:hover {\n",
              "      background-color: #434B5C;\n",
              "      box-shadow: 0px 1px 3px 1px rgba(0, 0, 0, 0.15);\n",
              "      filter: drop-shadow(0px 1px 2px rgba(0, 0, 0, 0.3));\n",
              "      fill: #FFFFFF;\n",
              "    }\n",
              "  </style>\n",
              "\n",
              "      <script>\n",
              "        const buttonEl =\n",
              "          document.querySelector('#df-1ba27a65-84e2-4fa9-bb7e-7c4a8a7d8534 button.colab-df-convert');\n",
              "        buttonEl.style.display =\n",
              "          google.colab.kernel.accessAllowed ? 'block' : 'none';\n",
              "\n",
              "        async function convertToInteractive(key) {\n",
              "          const element = document.querySelector('#df-1ba27a65-84e2-4fa9-bb7e-7c4a8a7d8534');\n",
              "          const dataTable =\n",
              "            await google.colab.kernel.invokeFunction('convertToInteractive',\n",
              "                                                     [key], {});\n",
              "          if (!dataTable) return;\n",
              "\n",
              "          const docLinkHtml = 'Like what you see? Visit the ' +\n",
              "            '<a target=\"_blank\" href=https://colab.research.google.com/notebooks/data_table.ipynb>data table notebook</a>'\n",
              "            + ' to learn more about interactive tables.';\n",
              "          element.innerHTML = '';\n",
              "          dataTable['output_type'] = 'display_data';\n",
              "          await google.colab.output.renderOutput(dataTable, element);\n",
              "          const docLink = document.createElement('div');\n",
              "          docLink.innerHTML = docLinkHtml;\n",
              "          element.appendChild(docLink);\n",
              "        }\n",
              "      </script>\n",
              "    </div>\n",
              "  </div>\n",
              "  "
            ]
          },
          "metadata": {},
          "execution_count": 8
        }
      ]
    },
    {
      "cell_type": "code",
      "source": [
        "print(df.dtypes)"
      ],
      "metadata": {
        "colab": {
          "base_uri": "https://localhost:8080/"
        },
        "id": "O9MJ-G71R6_L",
        "outputId": "7c127c12-c40b-46b6-a79a-7e0cc122b572"
      },
      "execution_count": 9,
      "outputs": [
        {
          "output_type": "stream",
          "name": "stdout",
          "text": [
            "Location                 object\n",
            "Date                      int64\n",
            "Time                      int64\n",
            "Latitude                float64\n",
            "Longitude               float64\n",
            "Altitude                  int64\n",
            "YRMODAHRMI              float64\n",
            "Month                     int64\n",
            "Hour                      int64\n",
            "Season                   object\n",
            "Humidity                float64\n",
            "AmbientTemp             float64\n",
            "PolyPwr                 float64\n",
            "Wind.Speed                int64\n",
            "Visibility              float64\n",
            "Pressure                float64\n",
            "Cloud.Ceiling             int64\n",
            "DateTime                 object\n",
            "Timestamp        datetime64[ns]\n",
            "dtype: object\n"
          ]
        }
      ]
    },
    {
      "cell_type": "markdown",
      "source": [
        "# Categorical Variables dummy-encoding"
      ],
      "metadata": {
        "id": "_DCWirEVRuNR"
      }
    },
    {
      "cell_type": "code",
      "source": [
        "df['Season'] = df['Season'].astype('category')\n",
        "df['Location'] = df['Location'].astype('category')"
      ],
      "metadata": {
        "id": "ofsNC3KtOLIs"
      },
      "execution_count": 10,
      "outputs": []
    },
    {
      "cell_type": "code",
      "source": [
        "dummies = pd.get_dummies(df.Season)\n",
        "df = df.drop(columns='Season').merge(dummies,left_index=True, right_index=True)\n",
        "df.head()"
      ],
      "metadata": {
        "colab": {
          "base_uri": "https://localhost:8080/",
          "height": 473
        },
        "id": "6bn7kVcSPnl0",
        "outputId": "5ea793fa-7728-45a0-dd16-fbe8a0b4b6e0"
      },
      "execution_count": 11,
      "outputs": [
        {
          "output_type": "execute_result",
          "data": {
            "text/plain": [
              "      Location      Date  Time  Latitude  Longitude  Altitude    YRMODAHRMI  \\\n",
              "0  Camp Murray  20171203  1145     47.11    -122.57        84  2.017120e+11   \n",
              "1  Camp Murray  20171203  1315     47.11    -122.57        84  2.017120e+11   \n",
              "2  Camp Murray  20171203  1330     47.11    -122.57        84  2.017120e+11   \n",
              "3  Camp Murray  20171204  1230     47.11    -122.57        84  2.017120e+11   \n",
              "4  Camp Murray  20171204  1415     47.11    -122.57        84  2.017120e+11   \n",
              "\n",
              "   Month  Hour  Humidity  ...  Wind.Speed  Visibility  Pressure  \\\n",
              "0     12    11  81.71997  ...           5        10.0    1010.6   \n",
              "1     12    13  96.64917  ...           0        10.0    1011.3   \n",
              "2     12    13  93.61572  ...           5        10.0    1011.6   \n",
              "3     12    12  77.21558  ...           5         2.0    1024.4   \n",
              "4     12    14  54.80347  ...           3         3.0    1023.7   \n",
              "\n",
              "   Cloud.Ceiling      DateTime           Timestamp Fall Spring  Summer  Winter  \n",
              "0            722  201712031145 2017-12-03 11:45:00    0      0       0       1  \n",
              "1             23  201712031315 2017-12-03 13:15:00    0      0       0       1  \n",
              "2             32  201712031330 2017-12-03 13:30:00    0      0       0       1  \n",
              "3              6  201712041230 2017-12-04 12:30:00    0      0       0       1  \n",
              "4              9  201712041415 2017-12-04 14:15:00    0      0       0       1  \n",
              "\n",
              "[5 rows x 22 columns]"
            ],
            "text/html": [
              "\n",
              "  <div id=\"df-abda563e-9d01-4590-b247-f0f8c2302a9a\">\n",
              "    <div class=\"colab-df-container\">\n",
              "      <div>\n",
              "<style scoped>\n",
              "    .dataframe tbody tr th:only-of-type {\n",
              "        vertical-align: middle;\n",
              "    }\n",
              "\n",
              "    .dataframe tbody tr th {\n",
              "        vertical-align: top;\n",
              "    }\n",
              "\n",
              "    .dataframe thead th {\n",
              "        text-align: right;\n",
              "    }\n",
              "</style>\n",
              "<table border=\"1\" class=\"dataframe\">\n",
              "  <thead>\n",
              "    <tr style=\"text-align: right;\">\n",
              "      <th></th>\n",
              "      <th>Location</th>\n",
              "      <th>Date</th>\n",
              "      <th>Time</th>\n",
              "      <th>Latitude</th>\n",
              "      <th>Longitude</th>\n",
              "      <th>Altitude</th>\n",
              "      <th>YRMODAHRMI</th>\n",
              "      <th>Month</th>\n",
              "      <th>Hour</th>\n",
              "      <th>Humidity</th>\n",
              "      <th>...</th>\n",
              "      <th>Wind.Speed</th>\n",
              "      <th>Visibility</th>\n",
              "      <th>Pressure</th>\n",
              "      <th>Cloud.Ceiling</th>\n",
              "      <th>DateTime</th>\n",
              "      <th>Timestamp</th>\n",
              "      <th>Fall</th>\n",
              "      <th>Spring</th>\n",
              "      <th>Summer</th>\n",
              "      <th>Winter</th>\n",
              "    </tr>\n",
              "  </thead>\n",
              "  <tbody>\n",
              "    <tr>\n",
              "      <th>0</th>\n",
              "      <td>Camp Murray</td>\n",
              "      <td>20171203</td>\n",
              "      <td>1145</td>\n",
              "      <td>47.11</td>\n",
              "      <td>-122.57</td>\n",
              "      <td>84</td>\n",
              "      <td>2.017120e+11</td>\n",
              "      <td>12</td>\n",
              "      <td>11</td>\n",
              "      <td>81.71997</td>\n",
              "      <td>...</td>\n",
              "      <td>5</td>\n",
              "      <td>10.0</td>\n",
              "      <td>1010.6</td>\n",
              "      <td>722</td>\n",
              "      <td>201712031145</td>\n",
              "      <td>2017-12-03 11:45:00</td>\n",
              "      <td>0</td>\n",
              "      <td>0</td>\n",
              "      <td>0</td>\n",
              "      <td>1</td>\n",
              "    </tr>\n",
              "    <tr>\n",
              "      <th>1</th>\n",
              "      <td>Camp Murray</td>\n",
              "      <td>20171203</td>\n",
              "      <td>1315</td>\n",
              "      <td>47.11</td>\n",
              "      <td>-122.57</td>\n",
              "      <td>84</td>\n",
              "      <td>2.017120e+11</td>\n",
              "      <td>12</td>\n",
              "      <td>13</td>\n",
              "      <td>96.64917</td>\n",
              "      <td>...</td>\n",
              "      <td>0</td>\n",
              "      <td>10.0</td>\n",
              "      <td>1011.3</td>\n",
              "      <td>23</td>\n",
              "      <td>201712031315</td>\n",
              "      <td>2017-12-03 13:15:00</td>\n",
              "      <td>0</td>\n",
              "      <td>0</td>\n",
              "      <td>0</td>\n",
              "      <td>1</td>\n",
              "    </tr>\n",
              "    <tr>\n",
              "      <th>2</th>\n",
              "      <td>Camp Murray</td>\n",
              "      <td>20171203</td>\n",
              "      <td>1330</td>\n",
              "      <td>47.11</td>\n",
              "      <td>-122.57</td>\n",
              "      <td>84</td>\n",
              "      <td>2.017120e+11</td>\n",
              "      <td>12</td>\n",
              "      <td>13</td>\n",
              "      <td>93.61572</td>\n",
              "      <td>...</td>\n",
              "      <td>5</td>\n",
              "      <td>10.0</td>\n",
              "      <td>1011.6</td>\n",
              "      <td>32</td>\n",
              "      <td>201712031330</td>\n",
              "      <td>2017-12-03 13:30:00</td>\n",
              "      <td>0</td>\n",
              "      <td>0</td>\n",
              "      <td>0</td>\n",
              "      <td>1</td>\n",
              "    </tr>\n",
              "    <tr>\n",
              "      <th>3</th>\n",
              "      <td>Camp Murray</td>\n",
              "      <td>20171204</td>\n",
              "      <td>1230</td>\n",
              "      <td>47.11</td>\n",
              "      <td>-122.57</td>\n",
              "      <td>84</td>\n",
              "      <td>2.017120e+11</td>\n",
              "      <td>12</td>\n",
              "      <td>12</td>\n",
              "      <td>77.21558</td>\n",
              "      <td>...</td>\n",
              "      <td>5</td>\n",
              "      <td>2.0</td>\n",
              "      <td>1024.4</td>\n",
              "      <td>6</td>\n",
              "      <td>201712041230</td>\n",
              "      <td>2017-12-04 12:30:00</td>\n",
              "      <td>0</td>\n",
              "      <td>0</td>\n",
              "      <td>0</td>\n",
              "      <td>1</td>\n",
              "    </tr>\n",
              "    <tr>\n",
              "      <th>4</th>\n",
              "      <td>Camp Murray</td>\n",
              "      <td>20171204</td>\n",
              "      <td>1415</td>\n",
              "      <td>47.11</td>\n",
              "      <td>-122.57</td>\n",
              "      <td>84</td>\n",
              "      <td>2.017120e+11</td>\n",
              "      <td>12</td>\n",
              "      <td>14</td>\n",
              "      <td>54.80347</td>\n",
              "      <td>...</td>\n",
              "      <td>3</td>\n",
              "      <td>3.0</td>\n",
              "      <td>1023.7</td>\n",
              "      <td>9</td>\n",
              "      <td>201712041415</td>\n",
              "      <td>2017-12-04 14:15:00</td>\n",
              "      <td>0</td>\n",
              "      <td>0</td>\n",
              "      <td>0</td>\n",
              "      <td>1</td>\n",
              "    </tr>\n",
              "  </tbody>\n",
              "</table>\n",
              "<p>5 rows × 22 columns</p>\n",
              "</div>\n",
              "      <button class=\"colab-df-convert\" onclick=\"convertToInteractive('df-abda563e-9d01-4590-b247-f0f8c2302a9a')\"\n",
              "              title=\"Convert this dataframe to an interactive table.\"\n",
              "              style=\"display:none;\">\n",
              "        \n",
              "  <svg xmlns=\"http://www.w3.org/2000/svg\" height=\"24px\"viewBox=\"0 0 24 24\"\n",
              "       width=\"24px\">\n",
              "    <path d=\"M0 0h24v24H0V0z\" fill=\"none\"/>\n",
              "    <path d=\"M18.56 5.44l.94 2.06.94-2.06 2.06-.94-2.06-.94-.94-2.06-.94 2.06-2.06.94zm-11 1L8.5 8.5l.94-2.06 2.06-.94-2.06-.94L8.5 2.5l-.94 2.06-2.06.94zm10 10l.94 2.06.94-2.06 2.06-.94-2.06-.94-.94-2.06-.94 2.06-2.06.94z\"/><path d=\"M17.41 7.96l-1.37-1.37c-.4-.4-.92-.59-1.43-.59-.52 0-1.04.2-1.43.59L10.3 9.45l-7.72 7.72c-.78.78-.78 2.05 0 2.83L4 21.41c.39.39.9.59 1.41.59.51 0 1.02-.2 1.41-.59l7.78-7.78 2.81-2.81c.8-.78.8-2.07 0-2.86zM5.41 20L4 18.59l7.72-7.72 1.47 1.35L5.41 20z\"/>\n",
              "  </svg>\n",
              "      </button>\n",
              "      \n",
              "  <style>\n",
              "    .colab-df-container {\n",
              "      display:flex;\n",
              "      flex-wrap:wrap;\n",
              "      gap: 12px;\n",
              "    }\n",
              "\n",
              "    .colab-df-convert {\n",
              "      background-color: #E8F0FE;\n",
              "      border: none;\n",
              "      border-radius: 50%;\n",
              "      cursor: pointer;\n",
              "      display: none;\n",
              "      fill: #1967D2;\n",
              "      height: 32px;\n",
              "      padding: 0 0 0 0;\n",
              "      width: 32px;\n",
              "    }\n",
              "\n",
              "    .colab-df-convert:hover {\n",
              "      background-color: #E2EBFA;\n",
              "      box-shadow: 0px 1px 2px rgba(60, 64, 67, 0.3), 0px 1px 3px 1px rgba(60, 64, 67, 0.15);\n",
              "      fill: #174EA6;\n",
              "    }\n",
              "\n",
              "    [theme=dark] .colab-df-convert {\n",
              "      background-color: #3B4455;\n",
              "      fill: #D2E3FC;\n",
              "    }\n",
              "\n",
              "    [theme=dark] .colab-df-convert:hover {\n",
              "      background-color: #434B5C;\n",
              "      box-shadow: 0px 1px 3px 1px rgba(0, 0, 0, 0.15);\n",
              "      filter: drop-shadow(0px 1px 2px rgba(0, 0, 0, 0.3));\n",
              "      fill: #FFFFFF;\n",
              "    }\n",
              "  </style>\n",
              "\n",
              "      <script>\n",
              "        const buttonEl =\n",
              "          document.querySelector('#df-abda563e-9d01-4590-b247-f0f8c2302a9a button.colab-df-convert');\n",
              "        buttonEl.style.display =\n",
              "          google.colab.kernel.accessAllowed ? 'block' : 'none';\n",
              "\n",
              "        async function convertToInteractive(key) {\n",
              "          const element = document.querySelector('#df-abda563e-9d01-4590-b247-f0f8c2302a9a');\n",
              "          const dataTable =\n",
              "            await google.colab.kernel.invokeFunction('convertToInteractive',\n",
              "                                                     [key], {});\n",
              "          if (!dataTable) return;\n",
              "\n",
              "          const docLinkHtml = 'Like what you see? Visit the ' +\n",
              "            '<a target=\"_blank\" href=https://colab.research.google.com/notebooks/data_table.ipynb>data table notebook</a>'\n",
              "            + ' to learn more about interactive tables.';\n",
              "          element.innerHTML = '';\n",
              "          dataTable['output_type'] = 'display_data';\n",
              "          await google.colab.output.renderOutput(dataTable, element);\n",
              "          const docLink = document.createElement('div');\n",
              "          docLink.innerHTML = docLinkHtml;\n",
              "          element.appendChild(docLink);\n",
              "        }\n",
              "      </script>\n",
              "    </div>\n",
              "  </div>\n",
              "  "
            ]
          },
          "metadata": {},
          "execution_count": 11
        }
      ]
    },
    {
      "cell_type": "code",
      "source": [
        "dummies = pd.get_dummies(df.Location)\n",
        "df = df.drop(columns='Location').merge(dummies,left_index=True, right_index=True)\n",
        "df.head()"
      ],
      "metadata": {
        "colab": {
          "base_uri": "https://localhost:8080/",
          "height": 317
        },
        "id": "4OXug5XqQViB",
        "outputId": "26e1cc1c-44a3-4148-cf0d-def07e49e4a5"
      },
      "execution_count": 12,
      "outputs": [
        {
          "output_type": "execute_result",
          "data": {
            "text/plain": [
              "       Date  Time  Latitude  Longitude  Altitude    YRMODAHRMI  Month  Hour  \\\n",
              "0  20171203  1145     47.11    -122.57        84  2.017120e+11     12    11   \n",
              "1  20171203  1315     47.11    -122.57        84  2.017120e+11     12    13   \n",
              "2  20171203  1330     47.11    -122.57        84  2.017120e+11     12    13   \n",
              "3  20171204  1230     47.11    -122.57        84  2.017120e+11     12    12   \n",
              "4  20171204  1415     47.11    -122.57        84  2.017120e+11     12    14   \n",
              "\n",
              "   Humidity  AmbientTemp  ...  Hill Weber  JDMT  Kahului  MNANG  Malmstrom  \\\n",
              "0  81.71997     12.86919  ...           0     0        0      0          0   \n",
              "1  96.64917      9.66415  ...           0     0        0      0          0   \n",
              "2  93.61572     15.44983  ...           0     0        0      0          0   \n",
              "3  77.21558     10.36659  ...           0     0        0      0          0   \n",
              "4  54.80347     16.85471  ...           0     0        0      0          0   \n",
              "\n",
              "  March AFB Offutt  Peterson  Travis  USAFA  \n",
              "0         0      0         0       0      0  \n",
              "1         0      0         0       0      0  \n",
              "2         0      0         0       0      0  \n",
              "3         0      0         0       0      0  \n",
              "4         0      0         0       0      0  \n",
              "\n",
              "[5 rows x 33 columns]"
            ],
            "text/html": [
              "\n",
              "  <div id=\"df-4703d9c3-a510-4eb9-9350-73640cf9d566\">\n",
              "    <div class=\"colab-df-container\">\n",
              "      <div>\n",
              "<style scoped>\n",
              "    .dataframe tbody tr th:only-of-type {\n",
              "        vertical-align: middle;\n",
              "    }\n",
              "\n",
              "    .dataframe tbody tr th {\n",
              "        vertical-align: top;\n",
              "    }\n",
              "\n",
              "    .dataframe thead th {\n",
              "        text-align: right;\n",
              "    }\n",
              "</style>\n",
              "<table border=\"1\" class=\"dataframe\">\n",
              "  <thead>\n",
              "    <tr style=\"text-align: right;\">\n",
              "      <th></th>\n",
              "      <th>Date</th>\n",
              "      <th>Time</th>\n",
              "      <th>Latitude</th>\n",
              "      <th>Longitude</th>\n",
              "      <th>Altitude</th>\n",
              "      <th>YRMODAHRMI</th>\n",
              "      <th>Month</th>\n",
              "      <th>Hour</th>\n",
              "      <th>Humidity</th>\n",
              "      <th>AmbientTemp</th>\n",
              "      <th>...</th>\n",
              "      <th>Hill Weber</th>\n",
              "      <th>JDMT</th>\n",
              "      <th>Kahului</th>\n",
              "      <th>MNANG</th>\n",
              "      <th>Malmstrom</th>\n",
              "      <th>March AFB</th>\n",
              "      <th>Offutt</th>\n",
              "      <th>Peterson</th>\n",
              "      <th>Travis</th>\n",
              "      <th>USAFA</th>\n",
              "    </tr>\n",
              "  </thead>\n",
              "  <tbody>\n",
              "    <tr>\n",
              "      <th>0</th>\n",
              "      <td>20171203</td>\n",
              "      <td>1145</td>\n",
              "      <td>47.11</td>\n",
              "      <td>-122.57</td>\n",
              "      <td>84</td>\n",
              "      <td>2.017120e+11</td>\n",
              "      <td>12</td>\n",
              "      <td>11</td>\n",
              "      <td>81.71997</td>\n",
              "      <td>12.86919</td>\n",
              "      <td>...</td>\n",
              "      <td>0</td>\n",
              "      <td>0</td>\n",
              "      <td>0</td>\n",
              "      <td>0</td>\n",
              "      <td>0</td>\n",
              "      <td>0</td>\n",
              "      <td>0</td>\n",
              "      <td>0</td>\n",
              "      <td>0</td>\n",
              "      <td>0</td>\n",
              "    </tr>\n",
              "    <tr>\n",
              "      <th>1</th>\n",
              "      <td>20171203</td>\n",
              "      <td>1315</td>\n",
              "      <td>47.11</td>\n",
              "      <td>-122.57</td>\n",
              "      <td>84</td>\n",
              "      <td>2.017120e+11</td>\n",
              "      <td>12</td>\n",
              "      <td>13</td>\n",
              "      <td>96.64917</td>\n",
              "      <td>9.66415</td>\n",
              "      <td>...</td>\n",
              "      <td>0</td>\n",
              "      <td>0</td>\n",
              "      <td>0</td>\n",
              "      <td>0</td>\n",
              "      <td>0</td>\n",
              "      <td>0</td>\n",
              "      <td>0</td>\n",
              "      <td>0</td>\n",
              "      <td>0</td>\n",
              "      <td>0</td>\n",
              "    </tr>\n",
              "    <tr>\n",
              "      <th>2</th>\n",
              "      <td>20171203</td>\n",
              "      <td>1330</td>\n",
              "      <td>47.11</td>\n",
              "      <td>-122.57</td>\n",
              "      <td>84</td>\n",
              "      <td>2.017120e+11</td>\n",
              "      <td>12</td>\n",
              "      <td>13</td>\n",
              "      <td>93.61572</td>\n",
              "      <td>15.44983</td>\n",
              "      <td>...</td>\n",
              "      <td>0</td>\n",
              "      <td>0</td>\n",
              "      <td>0</td>\n",
              "      <td>0</td>\n",
              "      <td>0</td>\n",
              "      <td>0</td>\n",
              "      <td>0</td>\n",
              "      <td>0</td>\n",
              "      <td>0</td>\n",
              "      <td>0</td>\n",
              "    </tr>\n",
              "    <tr>\n",
              "      <th>3</th>\n",
              "      <td>20171204</td>\n",
              "      <td>1230</td>\n",
              "      <td>47.11</td>\n",
              "      <td>-122.57</td>\n",
              "      <td>84</td>\n",
              "      <td>2.017120e+11</td>\n",
              "      <td>12</td>\n",
              "      <td>12</td>\n",
              "      <td>77.21558</td>\n",
              "      <td>10.36659</td>\n",
              "      <td>...</td>\n",
              "      <td>0</td>\n",
              "      <td>0</td>\n",
              "      <td>0</td>\n",
              "      <td>0</td>\n",
              "      <td>0</td>\n",
              "      <td>0</td>\n",
              "      <td>0</td>\n",
              "      <td>0</td>\n",
              "      <td>0</td>\n",
              "      <td>0</td>\n",
              "    </tr>\n",
              "    <tr>\n",
              "      <th>4</th>\n",
              "      <td>20171204</td>\n",
              "      <td>1415</td>\n",
              "      <td>47.11</td>\n",
              "      <td>-122.57</td>\n",
              "      <td>84</td>\n",
              "      <td>2.017120e+11</td>\n",
              "      <td>12</td>\n",
              "      <td>14</td>\n",
              "      <td>54.80347</td>\n",
              "      <td>16.85471</td>\n",
              "      <td>...</td>\n",
              "      <td>0</td>\n",
              "      <td>0</td>\n",
              "      <td>0</td>\n",
              "      <td>0</td>\n",
              "      <td>0</td>\n",
              "      <td>0</td>\n",
              "      <td>0</td>\n",
              "      <td>0</td>\n",
              "      <td>0</td>\n",
              "      <td>0</td>\n",
              "    </tr>\n",
              "  </tbody>\n",
              "</table>\n",
              "<p>5 rows × 33 columns</p>\n",
              "</div>\n",
              "      <button class=\"colab-df-convert\" onclick=\"convertToInteractive('df-4703d9c3-a510-4eb9-9350-73640cf9d566')\"\n",
              "              title=\"Convert this dataframe to an interactive table.\"\n",
              "              style=\"display:none;\">\n",
              "        \n",
              "  <svg xmlns=\"http://www.w3.org/2000/svg\" height=\"24px\"viewBox=\"0 0 24 24\"\n",
              "       width=\"24px\">\n",
              "    <path d=\"M0 0h24v24H0V0z\" fill=\"none\"/>\n",
              "    <path d=\"M18.56 5.44l.94 2.06.94-2.06 2.06-.94-2.06-.94-.94-2.06-.94 2.06-2.06.94zm-11 1L8.5 8.5l.94-2.06 2.06-.94-2.06-.94L8.5 2.5l-.94 2.06-2.06.94zm10 10l.94 2.06.94-2.06 2.06-.94-2.06-.94-.94-2.06-.94 2.06-2.06.94z\"/><path d=\"M17.41 7.96l-1.37-1.37c-.4-.4-.92-.59-1.43-.59-.52 0-1.04.2-1.43.59L10.3 9.45l-7.72 7.72c-.78.78-.78 2.05 0 2.83L4 21.41c.39.39.9.59 1.41.59.51 0 1.02-.2 1.41-.59l7.78-7.78 2.81-2.81c.8-.78.8-2.07 0-2.86zM5.41 20L4 18.59l7.72-7.72 1.47 1.35L5.41 20z\"/>\n",
              "  </svg>\n",
              "      </button>\n",
              "      \n",
              "  <style>\n",
              "    .colab-df-container {\n",
              "      display:flex;\n",
              "      flex-wrap:wrap;\n",
              "      gap: 12px;\n",
              "    }\n",
              "\n",
              "    .colab-df-convert {\n",
              "      background-color: #E8F0FE;\n",
              "      border: none;\n",
              "      border-radius: 50%;\n",
              "      cursor: pointer;\n",
              "      display: none;\n",
              "      fill: #1967D2;\n",
              "      height: 32px;\n",
              "      padding: 0 0 0 0;\n",
              "      width: 32px;\n",
              "    }\n",
              "\n",
              "    .colab-df-convert:hover {\n",
              "      background-color: #E2EBFA;\n",
              "      box-shadow: 0px 1px 2px rgba(60, 64, 67, 0.3), 0px 1px 3px 1px rgba(60, 64, 67, 0.15);\n",
              "      fill: #174EA6;\n",
              "    }\n",
              "\n",
              "    [theme=dark] .colab-df-convert {\n",
              "      background-color: #3B4455;\n",
              "      fill: #D2E3FC;\n",
              "    }\n",
              "\n",
              "    [theme=dark] .colab-df-convert:hover {\n",
              "      background-color: #434B5C;\n",
              "      box-shadow: 0px 1px 3px 1px rgba(0, 0, 0, 0.15);\n",
              "      filter: drop-shadow(0px 1px 2px rgba(0, 0, 0, 0.3));\n",
              "      fill: #FFFFFF;\n",
              "    }\n",
              "  </style>\n",
              "\n",
              "      <script>\n",
              "        const buttonEl =\n",
              "          document.querySelector('#df-4703d9c3-a510-4eb9-9350-73640cf9d566 button.colab-df-convert');\n",
              "        buttonEl.style.display =\n",
              "          google.colab.kernel.accessAllowed ? 'block' : 'none';\n",
              "\n",
              "        async function convertToInteractive(key) {\n",
              "          const element = document.querySelector('#df-4703d9c3-a510-4eb9-9350-73640cf9d566');\n",
              "          const dataTable =\n",
              "            await google.colab.kernel.invokeFunction('convertToInteractive',\n",
              "                                                     [key], {});\n",
              "          if (!dataTable) return;\n",
              "\n",
              "          const docLinkHtml = 'Like what you see? Visit the ' +\n",
              "            '<a target=\"_blank\" href=https://colab.research.google.com/notebooks/data_table.ipynb>data table notebook</a>'\n",
              "            + ' to learn more about interactive tables.';\n",
              "          element.innerHTML = '';\n",
              "          dataTable['output_type'] = 'display_data';\n",
              "          await google.colab.output.renderOutput(dataTable, element);\n",
              "          const docLink = document.createElement('div');\n",
              "          docLink.innerHTML = docLinkHtml;\n",
              "          element.appendChild(docLink);\n",
              "        }\n",
              "      </script>\n",
              "    </div>\n",
              "  </div>\n",
              "  "
            ]
          },
          "metadata": {},
          "execution_count": 12
        }
      ]
    },
    {
      "cell_type": "code",
      "source": [
        "print(df.dtypes)"
      ],
      "metadata": {
        "colab": {
          "base_uri": "https://localhost:8080/"
        },
        "id": "UcmTmkBuAnnY",
        "outputId": "5770874d-f14d-40c4-9389-a7f7f7cf33ca"
      },
      "execution_count": 13,
      "outputs": [
        {
          "output_type": "stream",
          "name": "stdout",
          "text": [
            "Date                      int64\n",
            "Time                      int64\n",
            "Latitude                float64\n",
            "Longitude               float64\n",
            "Altitude                  int64\n",
            "YRMODAHRMI              float64\n",
            "Month                     int64\n",
            "Hour                      int64\n",
            "Humidity                float64\n",
            "AmbientTemp             float64\n",
            "PolyPwr                 float64\n",
            "Wind.Speed                int64\n",
            "Visibility              float64\n",
            "Pressure                float64\n",
            "Cloud.Ceiling             int64\n",
            "DateTime                 object\n",
            "Timestamp        datetime64[ns]\n",
            "Fall                      uint8\n",
            "Spring                    uint8\n",
            "Summer                    uint8\n",
            "Winter                    uint8\n",
            "Camp Murray               uint8\n",
            "Grissom                   uint8\n",
            "Hill Weber                uint8\n",
            "JDMT                      uint8\n",
            "Kahului                   uint8\n",
            "MNANG                     uint8\n",
            "Malmstrom                 uint8\n",
            "March AFB                 uint8\n",
            "Offutt                    uint8\n",
            "Peterson                  uint8\n",
            "Travis                    uint8\n",
            "USAFA                     uint8\n",
            "dtype: object\n"
          ]
        }
      ]
    },
    {
      "cell_type": "markdown",
      "source": [
        "# Data Transformation"
      ],
      "metadata": {
        "id": "SrhfyOIVRoIN"
      }
    },
    {
      "cell_type": "code",
      "source": [
        "# transformed_Altitude, best_lambda = boxcox(df['Altitude']) <- not normal\n",
        "transformed_PolyPwr, best_lambda = boxcox(df['PolyPwr'])"
      ],
      "metadata": {
        "id": "Dh_DN1d67PY2"
      },
      "execution_count": 15,
      "outputs": []
    },
    {
      "cell_type": "code",
      "source": [
        "transformed_Altitude = np.log(df['Altitude'])\n",
        "sns.distplot(transformed_Altitude, hist=False, kde=True)"
      ],
      "metadata": {
        "colab": {
          "base_uri": "https://localhost:8080/",
          "height": 351
        },
        "id": "Q23Vh7faGHLv",
        "outputId": "9c11fca8-61a2-4759-8d1a-f2fe5898d169"
      },
      "execution_count": 16,
      "outputs": [
        {
          "output_type": "stream",
          "name": "stderr",
          "text": [
            "/usr/local/lib/python3.7/dist-packages/seaborn/distributions.py:2619: FutureWarning: `distplot` is a deprecated function and will be removed in a future version. Please adapt your code to use either `displot` (a figure-level function with similar flexibility) or `kdeplot` (an axes-level function for kernel density plots).\n",
            "  warnings.warn(msg, FutureWarning)\n"
          ]
        },
        {
          "output_type": "execute_result",
          "data": {
            "text/plain": [
              "<matplotlib.axes._subplots.AxesSubplot at 0x7f4c28d6ddd0>"
            ]
          },
          "metadata": {},
          "execution_count": 16
        },
        {
          "output_type": "display_data",
          "data": {
            "text/plain": [
              "<Figure size 432x288 with 1 Axes>"
            ],
            "image/png": "[encoded data removed]"
          },
          "metadata": {
            "needs_background": "light"
          }
        }
      ]
    },
    {
      "cell_type": "code",
      "source": [
        "transformed_Humidity = np.log(df['Humidity']+1)\n",
        "sns.distplot(transformed_Humidity, hist=False, kde=True)"
      ],
      "metadata": {
        "colab": {
          "base_uri": "https://localhost:8080/",
          "height": 351
        },
        "id": "DWEFXUjY_zGd",
        "outputId": "d7ebef0d-f382-472c-d36c-3220631d303d"
      },
      "execution_count": 17,
      "outputs": [
        {
          "output_type": "stream",
          "name": "stderr",
          "text": [
            "/usr/local/lib/python3.7/dist-packages/seaborn/distributions.py:2619: FutureWarning: `distplot` is a deprecated function and will be removed in a future version. Please adapt your code to use either `displot` (a figure-level function with similar flexibility) or `kdeplot` (an axes-level function for kernel density plots).\n",
            "  warnings.warn(msg, FutureWarning)\n"
          ]
        },
        {
          "output_type": "execute_result",
          "data": {
            "text/plain": [
              "<matplotlib.axes._subplots.AxesSubplot at 0x7f4c264c9c50>"
            ]
          },
          "metadata": {},
          "execution_count": 17
        },
        {
          "output_type": "display_data",
          "data": {
            "text/plain": [
              "<Figure size 432x288 with 1 Axes>"
            ],
            "image/png": "[encoded data removed]"
          },
          "metadata": {
            "needs_background": "light"
          }
        }
      ]
    },
    {
      "cell_type": "code",
      "source": [
        "transformed_WindSpeed = np.sqrt(df['Wind.Speed'])\n",
        "sns.distplot(transformed_WindSpeed, hist=False, kde=True)"
      ],
      "metadata": {
        "colab": {
          "base_uri": "https://localhost:8080/",
          "height": 351
        },
        "id": "dogDzitLDe0C",
        "outputId": "2adf659d-b971-4d51-88a1-81b10b766c84"
      },
      "execution_count": 18,
      "outputs": [
        {
          "output_type": "stream",
          "name": "stderr",
          "text": [
            "/usr/local/lib/python3.7/dist-packages/seaborn/distributions.py:2619: FutureWarning: `distplot` is a deprecated function and will be removed in a future version. Please adapt your code to use either `displot` (a figure-level function with similar flexibility) or `kdeplot` (an axes-level function for kernel density plots).\n",
            "  warnings.warn(msg, FutureWarning)\n"
          ]
        },
        {
          "output_type": "execute_result",
          "data": {
            "text/plain": [
              "<matplotlib.axes._subplots.AxesSubplot at 0x7f4c26050f50>"
            ]
          },
          "metadata": {},
          "execution_count": 18
        },
        {
          "output_type": "display_data",
          "data": {
            "text/plain": [
              "<Figure size 432x288 with 1 Axes>"
            ],
            "image/png": "[encoded data removed]"
          },
          "metadata": {
            "needs_background": "light"
          }
        }
      ]
    },
    {
      "cell_type": "code",
      "source": [
        "transformed_CloudCeiling = np.log(df['Cloud.Ceiling']+1)\n",
        "sns.distplot(transformed_CloudCeiling, hist=False, kde=True)"
      ],
      "metadata": {
        "colab": {
          "base_uri": "https://localhost:8080/",
          "height": 351
        },
        "id": "erE0ScWbDsga",
        "outputId": "5f4bd1dc-90d7-4b4f-d9d3-3d5749f1979e"
      },
      "execution_count": 19,
      "outputs": [
        {
          "output_type": "stream",
          "name": "stderr",
          "text": [
            "/usr/local/lib/python3.7/dist-packages/seaborn/distributions.py:2619: FutureWarning: `distplot` is a deprecated function and will be removed in a future version. Please adapt your code to use either `displot` (a figure-level function with similar flexibility) or `kdeplot` (an axes-level function for kernel density plots).\n",
            "  warnings.warn(msg, FutureWarning)\n"
          ]
        },
        {
          "output_type": "execute_result",
          "data": {
            "text/plain": [
              "<matplotlib.axes._subplots.AxesSubplot at 0x7f4c25faa950>"
            ]
          },
          "metadata": {},
          "execution_count": 19
        },
        {
          "output_type": "display_data",
          "data": {
            "text/plain": [
              "<Figure size 432x288 with 1 Axes>"
            ],
            "image/png": "[encoded data removed]"
          },
          "metadata": {
            "needs_background": "light"
          }
        }
      ]
    },
    {
      "cell_type": "code",
      "source": [
        "transformed_Pressure = np.log(df['Pressure']+1)\n",
        "sns.distplot(transformed_Pressure, hist=False, kde=True)"
      ],
      "metadata": {
        "colab": {
          "base_uri": "https://localhost:8080/",
          "height": 353
        },
        "id": "mfcy8Ccf9vso",
        "outputId": "4578b450-6943-41b4-f287-5a7a8845946f"
      },
      "execution_count": 20,
      "outputs": [
        {
          "output_type": "stream",
          "name": "stderr",
          "text": [
            "/usr/local/lib/python3.7/dist-packages/seaborn/distributions.py:2619: FutureWarning: `distplot` is a deprecated function and will be removed in a future version. Please adapt your code to use either `displot` (a figure-level function with similar flexibility) or `kdeplot` (an axes-level function for kernel density plots).\n",
            "  warnings.warn(msg, FutureWarning)\n"
          ]
        },
        {
          "output_type": "execute_result",
          "data": {
            "text/plain": [
              "<matplotlib.axes._subplots.AxesSubplot at 0x7f4c25f45210>"
            ]
          },
          "metadata": {},
          "execution_count": 20
        },
        {
          "output_type": "display_data",
          "data": {
            "text/plain": [
              "<Figure size 432x288 with 1 Axes>"
            ],
            "image/png": "[encoded data removed]"
          },
          "metadata": {
            "needs_background": "light"
          }
        }
      ]
    },
    {
      "cell_type": "markdown",
      "source": [
        "# Feature Selection (before modeling)"
      ],
      "metadata": {
        "id": "xdL3vEHfRh_W"
      }
    },
    {
      "cell_type": "markdown",
      "source": [
        "Reduce redundant time variables"
      ],
      "metadata": {
        "id": "FaAlBE1ZAJGa"
      }
    },
    {
      "cell_type": "code",
      "source": [
        "# reduce redundant time variables\n",
        "df = df.drop(columns=['Date', 'Time', 'YRMODAHRMI','Month','Hour','DateTime'])"
      ],
      "metadata": {
        "id": "410cIKvUXbrO"
      },
      "execution_count": 24,
      "outputs": []
    },
    {
      "cell_type": "markdown",
      "source": [
        "Drop Location dummy variables, as they're highly correlated with Latitude and Longitude anyway"
      ],
      "metadata": {
        "id": "y_dUfZY7OXzc"
      }
    },
    {
      "cell_type": "code",
      "source": [
        "df = df.drop(df.loc[:, 'Camp Murray':'USAFA'].columns, axis=1)"
      ],
      "metadata": {
        "id": "xop9xFsLOg0D"
      },
      "execution_count": 42,
      "outputs": []
    },
    {
      "cell_type": "code",
      "source": [
        "df.head()"
      ],
      "metadata": {
        "colab": {
          "base_uri": "https://localhost:8080/",
          "height": 206
        },
        "id": "sOHwhS5h5689",
        "outputId": "6b39c9cc-8ec6-4cf5-d619-8b012f8e332d"
      },
      "execution_count": 43,
      "outputs": [
        {
          "output_type": "execute_result",
          "data": {
            "text/plain": [
              "   Latitude  Longitude  Altitude  Humidity  AmbientTemp  PolyPwr  Wind.Speed  \\\n",
              "0     47.11    -122.57        84  81.71997     12.86919  2.42769           5   \n",
              "1     47.11    -122.57        84  96.64917      9.66415  2.46273           0   \n",
              "2     47.11    -122.57        84  93.61572     15.44983  4.46836           5   \n",
              "3     47.11    -122.57        84  77.21558     10.36659  1.65364           5   \n",
              "4     47.11    -122.57        84  54.80347     16.85471  6.57939           3   \n",
              "\n",
              "   Visibility  Pressure  Cloud.Ceiling           Timestamp  Fall  Spring  \\\n",
              "0        10.0    1010.6            722 2017-12-03 11:45:00     0       0   \n",
              "1        10.0    1011.3             23 2017-12-03 13:15:00     0       0   \n",
              "2        10.0    1011.6             32 2017-12-03 13:30:00     0       0   \n",
              "3         2.0    1024.4              6 2017-12-04 12:30:00     0       0   \n",
              "4         3.0    1023.7              9 2017-12-04 14:15:00     0       0   \n",
              "\n",
              "   Summer  Winter  \n",
              "0       0       1  \n",
              "1       0       1  \n",
              "2       0       1  \n",
              "3       0       1  \n",
              "4       0       1  "
            ],
            "text/html": [
              "\n",
              "  <div id=\"df-5f0cba47-c99f-43ce-9132-8e3fcf981e5b\">\n",
              "    <div class=\"colab-df-container\">\n",
              "      <div>\n",
              "<style scoped>\n",
              "    .dataframe tbody tr th:only-of-type {\n",
              "        vertical-align: middle;\n",
              "    }\n",
              "\n",
              "    .dataframe tbody tr th {\n",
              "        vertical-align: top;\n",
              "    }\n",
              "\n",
              "    .dataframe thead th {\n",
              "        text-align: right;\n",
              "    }\n",
              "</style>\n",
              "<table border=\"1\" class=\"dataframe\">\n",
              "  <thead>\n",
              "    <tr style=\"text-align: right;\">\n",
              "      <th></th>\n",
              "      <th>Latitude</th>\n",
              "      <th>Longitude</th>\n",
              "      <th>Altitude</th>\n",
              "      <th>Humidity</th>\n",
              "      <th>AmbientTemp</th>\n",
              "      <th>PolyPwr</th>\n",
              "      <th>Wind.Speed</th>\n",
              "      <th>Visibility</th>\n",
              "      <th>Pressure</th>\n",
              "      <th>Cloud.Ceiling</th>\n",
              "      <th>Timestamp</th>\n",
              "      <th>Fall</th>\n",
              "      <th>Spring</th>\n",
              "      <th>Summer</th>\n",
              "      <th>Winter</th>\n",
              "    </tr>\n",
              "  </thead>\n",
              "  <tbody>\n",
              "    <tr>\n",
              "      <th>0</th>\n",
              "      <td>47.11</td>\n",
              "      <td>-122.57</td>\n",
              "      <td>84</td>\n",
              "      <td>81.71997</td>\n",
              "      <td>12.86919</td>\n",
              "      <td>2.42769</td>\n",
              "      <td>5</td>\n",
              "      <td>10.0</td>\n",
              "      <td>1010.6</td>\n",
              "      <td>722</td>\n",
              "      <td>2017-12-03 11:45:00</td>\n",
              "      <td>0</td>\n",
              "      <td>0</td>\n",
              "      <td>0</td>\n",
              "      <td>1</td>\n",
              "    </tr>\n",
              "    <tr>\n",
              "      <th>1</th>\n",
              "      <td>47.11</td>\n",
              "      <td>-122.57</td>\n",
              "      <td>84</td>\n",
              "      <td>96.64917</td>\n",
              "      <td>9.66415</td>\n",
              "      <td>2.46273</td>\n",
              "      <td>0</td>\n",
              "      <td>10.0</td>\n",
              "      <td>1011.3</td>\n",
              "      <td>23</td>\n",
              "      <td>2017-12-03 13:15:00</td>\n",
              "      <td>0</td>\n",
              "      <td>0</td>\n",
              "      <td>0</td>\n",
              "      <td>1</td>\n",
              "    </tr>\n",
              "    <tr>\n",
              "      <th>2</th>\n",
              "      <td>47.11</td>\n",
              "      <td>-122.57</td>\n",
              "      <td>84</td>\n",
              "      <td>93.61572</td>\n",
              "      <td>15.44983</td>\n",
              "      <td>4.46836</td>\n",
              "      <td>5</td>\n",
              "      <td>10.0</td>\n",
              "      <td>1011.6</td>\n",
              "      <td>32</td>\n",
              "      <td>2017-12-03 13:30:00</td>\n",
              "      <td>0</td>\n",
              "      <td>0</td>\n",
              "      <td>0</td>\n",
              "      <td>1</td>\n",
              "    </tr>\n",
              "    <tr>\n",
              "      <th>3</th>\n",
              "      <td>47.11</td>\n",
              "      <td>-122.57</td>\n",
              "      <td>84</td>\n",
              "      <td>77.21558</td>\n",
              "      <td>10.36659</td>\n",
              "      <td>1.65364</td>\n",
              "      <td>5</td>\n",
              "      <td>2.0</td>\n",
              "      <td>1024.4</td>\n",
              "      <td>6</td>\n",
              "      <td>2017-12-04 12:30:00</td>\n",
              "      <td>0</td>\n",
              "      <td>0</td>\n",
              "      <td>0</td>\n",
              "      <td>1</td>\n",
              "    </tr>\n",
              "    <tr>\n",
              "      <th>4</th>\n",
              "      <td>47.11</td>\n",
              "      <td>-122.57</td>\n",
              "      <td>84</td>\n",
              "      <td>54.80347</td>\n",
              "      <td>16.85471</td>\n",
              "      <td>6.57939</td>\n",
              "      <td>3</td>\n",
              "      <td>3.0</td>\n",
              "      <td>1023.7</td>\n",
              "      <td>9</td>\n",
              "      <td>2017-12-04 14:15:00</td>\n",
              "      <td>0</td>\n",
              "      <td>0</td>\n",
              "      <td>0</td>\n",
              "      <td>1</td>\n",
              "    </tr>\n",
              "  </tbody>\n",
              "</table>\n",
              "</div>\n",
              "      <button class=\"colab-df-convert\" onclick=\"convertToInteractive('df-5f0cba47-c99f-43ce-9132-8e3fcf981e5b')\"\n",
              "              title=\"Convert this dataframe to an interactive table.\"\n",
              "              style=\"display:none;\">\n",
              "        \n",
              "  <svg xmlns=\"http://www.w3.org/2000/svg\" height=\"24px\"viewBox=\"0 0 24 24\"\n",
              "       width=\"24px\">\n",
              "    <path d=\"M0 0h24v24H0V0z\" fill=\"none\"/>\n",
              "    <path d=\"M18.56 5.44l.94 2.06.94-2.06 2.06-.94-2.06-.94-.94-2.06-.94 2.06-2.06.94zm-11 1L8.5 8.5l.94-2.06 2.06-.94-2.06-.94L8.5 2.5l-.94 2.06-2.06.94zm10 10l.94 2.06.94-2.06 2.06-.94-2.06-.94-.94-2.06-.94 2.06-2.06.94z\"/><path d=\"M17.41 7.96l-1.37-1.37c-.4-.4-.92-.59-1.43-.59-.52 0-1.04.2-1.43.59L10.3 9.45l-7.72 7.72c-.78.78-.78 2.05 0 2.83L4 21.41c.39.39.9.59 1.41.59.51 0 1.02-.2 1.41-.59l7.78-7.78 2.81-2.81c.8-.78.8-2.07 0-2.86zM5.41 20L4 18.59l7.72-7.72 1.47 1.35L5.41 20z\"/>\n",
              "  </svg>\n",
              "      </button>\n",
              "      \n",
              "  <style>\n",
              "    .colab-df-container {\n",
              "      display:flex;\n",
              "      flex-wrap:wrap;\n",
              "      gap: 12px;\n",
              "    }\n",
              "\n",
              "    .colab-df-convert {\n",
              "      background-color: #E8F0FE;\n",
              "      border: none;\n",
              "      border-radius: 50%;\n",
              "      cursor: pointer;\n",
              "      display: none;\n",
              "      fill: #1967D2;\n",
              "      height: 32px;\n",
              "      padding: 0 0 0 0;\n",
              "      width: 32px;\n",
              "    }\n",
              "\n",
              "    .colab-df-convert:hover {\n",
              "      background-color: #E2EBFA;\n",
              "      box-shadow: 0px 1px 2px rgba(60, 64, 67, 0.3), 0px 1px 3px 1px rgba(60, 64, 67, 0.15);\n",
              "      fill: #174EA6;\n",
              "    }\n",
              "\n",
              "    [theme=dark] .colab-df-convert {\n",
              "      background-color: #3B4455;\n",
              "      fill: #D2E3FC;\n",
              "    }\n",
              "\n",
              "    [theme=dark] .colab-df-convert:hover {\n",
              "      background-color: #434B5C;\n",
              "      box-shadow: 0px 1px 3px 1px rgba(0, 0, 0, 0.15);\n",
              "      filter: drop-shadow(0px 1px 2px rgba(0, 0, 0, 0.3));\n",
              "      fill: #FFFFFF;\n",
              "    }\n",
              "  </style>\n",
              "\n",
              "      <script>\n",
              "        const buttonEl =\n",
              "          document.querySelector('#df-5f0cba47-c99f-43ce-9132-8e3fcf981e5b button.colab-df-convert');\n",
              "        buttonEl.style.display =\n",
              "          google.colab.kernel.accessAllowed ? 'block' : 'none';\n",
              "\n",
              "        async function convertToInteractive(key) {\n",
              "          const element = document.querySelector('#df-5f0cba47-c99f-43ce-9132-8e3fcf981e5b');\n",
              "          const dataTable =\n",
              "            await google.colab.kernel.invokeFunction('convertToInteractive',\n",
              "                                                     [key], {});\n",
              "          if (!dataTable) return;\n",
              "\n",
              "          const docLinkHtml = 'Like what you see? Visit the ' +\n",
              "            '<a target=\"_blank\" href=https://colab.research.google.com/notebooks/data_table.ipynb>data table notebook</a>'\n",
              "            + ' to learn more about interactive tables.';\n",
              "          element.innerHTML = '';\n",
              "          dataTable['output_type'] = 'display_data';\n",
              "          await google.colab.output.renderOutput(dataTable, element);\n",
              "          const docLink = document.createElement('div');\n",
              "          docLink.innerHTML = docLinkHtml;\n",
              "          element.appendChild(docLink);\n",
              "        }\n",
              "      </script>\n",
              "    </div>\n",
              "  </div>\n",
              "  "
            ]
          },
          "metadata": {},
          "execution_count": 43
        }
      ]
    },
    {
      "cell_type": "markdown",
      "source": [
        "Low Variance (once transformed to normal)"
      ],
      "metadata": {
        "id": "mO_bnBloAPk-"
      }
    },
    {
      "cell_type": "code",
      "source": [
        "df.var().apply(lambda x: '%.3f' % x)"
      ],
      "metadata": {
        "colab": {
          "base_uri": "https://localhost:8080/"
        },
        "id": "Q3SQwciFQg_d",
        "outputId": "93b90b6a-3de2-40c9-b99a-8e16af12f2c3"
      },
      "execution_count": 44,
      "outputs": [
        {
          "output_type": "stream",
          "name": "stderr",
          "text": [
            "/usr/local/lib/python3.7/dist-packages/ipykernel_launcher.py:1: FutureWarning: Dropping of nuisance columns in DataFrame reductions (with 'numeric_only=None') is deprecated; in a future version this will raise TypeError.  Select only valid columns before calling the reduction.\n",
            "  \"\"\"Entry point for launching an IPython kernel.\n"
          ]
        },
        {
          "output_type": "execute_result",
          "data": {
            "text/plain": [
              "Latitude             39.990\n",
              "Longitude           267.785\n",
              "Altitude         593950.428\n",
              "Humidity            567.536\n",
              "AmbientTemp         152.938\n",
              "PolyPwr              50.741\n",
              "Wind.Speed           40.769\n",
              "Visibility            1.828\n",
              "Pressure           7261.708\n",
              "Cloud.Ceiling     91145.650\n",
              "Fall                  0.166\n",
              "Spring                0.176\n",
              "Summer                0.238\n",
              "Winter                0.142\n",
              "dtype: object"
            ]
          },
          "metadata": {},
          "execution_count": 44
        }
      ]
    },
    {
      "cell_type": "markdown",
      "source": [
        "Highly Correlated Columns"
      ],
      "metadata": {
        "id": "35SaHrUGAdq2"
      }
    },
    {
      "cell_type": "code",
      "source": [
        "df_num = df.drop(df.loc[:, 'Fall':'Winter'].columns, axis=1)\n",
        "df_num.head()"
      ],
      "metadata": {
        "colab": {
          "base_uri": "https://localhost:8080/",
          "height": 206
        },
        "id": "gcMlpGK0Cjnj",
        "outputId": "b46db1df-baef-40a8-8be3-446c4672065e"
      },
      "execution_count": 45,
      "outputs": [
        {
          "output_type": "execute_result",
          "data": {
            "text/plain": [
              "   Latitude  Longitude  Altitude  Humidity  AmbientTemp  PolyPwr  Wind.Speed  \\\n",
              "0     47.11    -122.57        84  81.71997     12.86919  2.42769           5   \n",
              "1     47.11    -122.57        84  96.64917      9.66415  2.46273           0   \n",
              "2     47.11    -122.57        84  93.61572     15.44983  4.46836           5   \n",
              "3     47.11    -122.57        84  77.21558     10.36659  1.65364           5   \n",
              "4     47.11    -122.57        84  54.80347     16.85471  6.57939           3   \n",
              "\n",
              "   Visibility  Pressure  Cloud.Ceiling           Timestamp  \n",
              "0        10.0    1010.6            722 2017-12-03 11:45:00  \n",
              "1        10.0    1011.3             23 2017-12-03 13:15:00  \n",
              "2        10.0    1011.6             32 2017-12-03 13:30:00  \n",
              "3         2.0    1024.4              6 2017-12-04 12:30:00  \n",
              "4         3.0    1023.7              9 2017-12-04 14:15:00  "
            ],
            "text/html": [
              "\n",
              "  <div id=\"df-36b54101-5f47-448a-a867-6af90abfd1a4\">\n",
              "    <div class=\"colab-df-container\">\n",
              "      <div>\n",
              "<style scoped>\n",
              "    .dataframe tbody tr th:only-of-type {\n",
              "        vertical-align: middle;\n",
              "    }\n",
              "\n",
              "    .dataframe tbody tr th {\n",
              "        vertical-align: top;\n",
              "    }\n",
              "\n",
              "    .dataframe thead th {\n",
              "        text-align: right;\n",
              "    }\n",
              "</style>\n",
              "<table border=\"1\" class=\"dataframe\">\n",
              "  <thead>\n",
              "    <tr style=\"text-align: right;\">\n",
              "      <th></th>\n",
              "      <th>Latitude</th>\n",
              "      <th>Longitude</th>\n",
              "      <th>Altitude</th>\n",
              "      <th>Humidity</th>\n",
              "      <th>AmbientTemp</th>\n",
              "      <th>PolyPwr</th>\n",
              "      <th>Wind.Speed</th>\n",
              "      <th>Visibility</th>\n",
              "      <th>Pressure</th>\n",
              "      <th>Cloud.Ceiling</th>\n",
              "      <th>Timestamp</th>\n",
              "    </tr>\n",
              "  </thead>\n",
              "  <tbody>\n",
              "    <tr>\n",
              "      <th>0</th>\n",
              "      <td>47.11</td>\n",
              "      <td>-122.57</td>\n",
              "      <td>84</td>\n",
              "      <td>81.71997</td>\n",
              "      <td>12.86919</td>\n",
              "      <td>2.42769</td>\n",
              "      <td>5</td>\n",
              "      <td>10.0</td>\n",
              "      <td>1010.6</td>\n",
              "      <td>722</td>\n",
              "      <td>2017-12-03 11:45:00</td>\n",
              "    </tr>\n",
              "    <tr>\n",
              "      <th>1</th>\n",
              "      <td>47.11</td>\n",
              "      <td>-122.57</td>\n",
              "      <td>84</td>\n",
              "      <td>96.64917</td>\n",
              "      <td>9.66415</td>\n",
              "      <td>2.46273</td>\n",
              "      <td>0</td>\n",
              "      <td>10.0</td>\n",
              "      <td>1011.3</td>\n",
              "      <td>23</td>\n",
              "      <td>2017-12-03 13:15:00</td>\n",
              "    </tr>\n",
              "    <tr>\n",
              "      <th>2</th>\n",
              "      <td>47.11</td>\n",
              "      <td>-122.57</td>\n",
              "      <td>84</td>\n",
              "      <td>93.61572</td>\n",
              "      <td>15.44983</td>\n",
              "      <td>4.46836</td>\n",
              "      <td>5</td>\n",
              "      <td>10.0</td>\n",
              "      <td>1011.6</td>\n",
              "      <td>32</td>\n",
              "      <td>2017-12-03 13:30:00</td>\n",
              "    </tr>\n",
              "    <tr>\n",
              "      <th>3</th>\n",
              "      <td>47.11</td>\n",
              "      <td>-122.57</td>\n",
              "      <td>84</td>\n",
              "      <td>77.21558</td>\n",
              "      <td>10.36659</td>\n",
              "      <td>1.65364</td>\n",
              "      <td>5</td>\n",
              "      <td>2.0</td>\n",
              "      <td>1024.4</td>\n",
              "      <td>6</td>\n",
              "      <td>2017-12-04 12:30:00</td>\n",
              "    </tr>\n",
              "    <tr>\n",
              "      <th>4</th>\n",
              "      <td>47.11</td>\n",
              "      <td>-122.57</td>\n",
              "      <td>84</td>\n",
              "      <td>54.80347</td>\n",
              "      <td>16.85471</td>\n",
              "      <td>6.57939</td>\n",
              "      <td>3</td>\n",
              "      <td>3.0</td>\n",
              "      <td>1023.7</td>\n",
              "      <td>9</td>\n",
              "      <td>2017-12-04 14:15:00</td>\n",
              "    </tr>\n",
              "  </tbody>\n",
              "</table>\n",
              "</div>\n",
              "      <button class=\"colab-df-convert\" onclick=\"convertToInteractive('df-36b54101-5f47-448a-a867-6af90abfd1a4')\"\n",
              "              title=\"Convert this dataframe to an interactive table.\"\n",
              "              style=\"display:none;\">\n",
              "        \n",
              "  <svg xmlns=\"http://www.w3.org/2000/svg\" height=\"24px\"viewBox=\"0 0 24 24\"\n",
              "       width=\"24px\">\n",
              "    <path d=\"M0 0h24v24H0V0z\" fill=\"none\"/>\n",
              "    <path d=\"M18.56 5.44l.94 2.06.94-2.06 2.06-.94-2.06-.94-.94-2.06-.94 2.06-2.06.94zm-11 1L8.5 8.5l.94-2.06 2.06-.94-2.06-.94L8.5 2.5l-.94 2.06-2.06.94zm10 10l.94 2.06.94-2.06 2.06-.94-2.06-.94-.94-2.06-.94 2.06-2.06.94z\"/><path d=\"M17.41 7.96l-1.37-1.37c-.4-.4-.92-.59-1.43-.59-.52 0-1.04.2-1.43.59L10.3 9.45l-7.72 7.72c-.78.78-.78 2.05 0 2.83L4 21.41c.39.39.9.59 1.41.59.51 0 1.02-.2 1.41-.59l7.78-7.78 2.81-2.81c.8-.78.8-2.07 0-2.86zM5.41 20L4 18.59l7.72-7.72 1.47 1.35L5.41 20z\"/>\n",
              "  </svg>\n",
              "      </button>\n",
              "      \n",
              "  <style>\n",
              "    .colab-df-container {\n",
              "      display:flex;\n",
              "      flex-wrap:wrap;\n",
              "      gap: 12px;\n",
              "    }\n",
              "\n",
              "    .colab-df-convert {\n",
              "      background-color: #E8F0FE;\n",
              "      border: none;\n",
              "      border-radius: 50%;\n",
              "      cursor: pointer;\n",
              "      display: none;\n",
              "      fill: #1967D2;\n",
              "      height: 32px;\n",
              "      padding: 0 0 0 0;\n",
              "      width: 32px;\n",
              "    }\n",
              "\n",
              "    .colab-df-convert:hover {\n",
              "      background-color: #E2EBFA;\n",
              "      box-shadow: 0px 1px 2px rgba(60, 64, 67, 0.3), 0px 1px 3px 1px rgba(60, 64, 67, 0.15);\n",
              "      fill: #174EA6;\n",
              "    }\n",
              "\n",
              "    [theme=dark] .colab-df-convert {\n",
              "      background-color: #3B4455;\n",
              "      fill: #D2E3FC;\n",
              "    }\n",
              "\n",
              "    [theme=dark] .colab-df-convert:hover {\n",
              "      background-color: #434B5C;\n",
              "      box-shadow: 0px 1px 3px 1px rgba(0, 0, 0, 0.15);\n",
              "      filter: drop-shadow(0px 1px 2px rgba(0, 0, 0, 0.3));\n",
              "      fill: #FFFFFF;\n",
              "    }\n",
              "  </style>\n",
              "\n",
              "      <script>\n",
              "        const buttonEl =\n",
              "          document.querySelector('#df-36b54101-5f47-448a-a867-6af90abfd1a4 button.colab-df-convert');\n",
              "        buttonEl.style.display =\n",
              "          google.colab.kernel.accessAllowed ? 'block' : 'none';\n",
              "\n",
              "        async function convertToInteractive(key) {\n",
              "          const element = document.querySelector('#df-36b54101-5f47-448a-a867-6af90abfd1a4');\n",
              "          const dataTable =\n",
              "            await google.colab.kernel.invokeFunction('convertToInteractive',\n",
              "                                                     [key], {});\n",
              "          if (!dataTable) return;\n",
              "\n",
              "          const docLinkHtml = 'Like what you see? Visit the ' +\n",
              "            '<a target=\"_blank\" href=https://colab.research.google.com/notebooks/data_table.ipynb>data table notebook</a>'\n",
              "            + ' to learn more about interactive tables.';\n",
              "          element.innerHTML = '';\n",
              "          dataTable['output_type'] = 'display_data';\n",
              "          await google.colab.output.renderOutput(dataTable, element);\n",
              "          const docLink = document.createElement('div');\n",
              "          docLink.innerHTML = docLinkHtml;\n",
              "          element.appendChild(docLink);\n",
              "        }\n",
              "      </script>\n",
              "    </div>\n",
              "  </div>\n",
              "  "
            ]
          },
          "metadata": {},
          "execution_count": 45
        }
      ]
    },
    {
      "cell_type": "code",
      "source": [
        "cor = df_num.corr()\n",
        "plt.figure(figsize=(10,7))\n",
        "sns.heatmap(cor, annot=True, cmap=plt.cm.Reds)\n",
        "plt.show()\n",
        "\n",
        "#Have to choose which feature to drop between Pressure or Altitude -- both bimodal distributions"
      ],
      "metadata": {
        "colab": {
          "base_uri": "https://localhost:8080/",
          "height": 491
        },
        "id": "CRJO81BRAxfi",
        "outputId": "9db25394-3d42-4f63-cad5-60b2974792ef"
      },
      "execution_count": 46,
      "outputs": [
        {
          "output_type": "display_data",
          "data": {
            "text/plain": [
              "<Figure size 720x504 with 2 Axes>"
            ],
            "image/png": "[encoded data removed]"
          },
          "metadata": {
            "needs_background": "light"
          }
        }
      ]
    }
  ]
}