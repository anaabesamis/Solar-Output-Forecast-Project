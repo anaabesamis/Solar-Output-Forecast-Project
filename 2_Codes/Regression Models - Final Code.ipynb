{
 "cells": [
  {
   "cell_type": "code",
   "execution_count": 14,
   "id": "9ae4c5a9",
   "metadata": {},
   "outputs": [],
   "source": [
    "import pandas as pd\n",
    "import matplotlib\n",
    "import matplotlib.pyplot as plt\n",
    "import numpy as np\n",
    "import seaborn as sns\n",
    "\n",
    "from sklearn.model_selection import RepeatedKFold, cross_val_score\n",
    "from sklearn.metrics import mean_absolute_error, mean_squared_error, r2_score"
   ]
  },
  {
   "cell_type": "code",
   "execution_count": 15,
   "id": "391617ea",
   "metadata": {},
   "outputs": [
    {
     "data": {
      "text/html": [
       "<div>\n",
       "<style scoped>\n",
       "    .dataframe tbody tr th:only-of-type {\n",
       "        vertical-align: middle;\n",
       "    }\n",
       "\n",
       "    .dataframe tbody tr th {\n",
       "        vertical-align: top;\n",
       "    }\n",
       "\n",
       "    .dataframe thead th {\n",
       "        text-align: right;\n",
       "    }\n",
       "</style>\n",
       "<table border=\"1\" class=\"dataframe\">\n",
       "  <thead>\n",
       "    <tr style=\"text-align: right;\">\n",
       "      <th></th>\n",
       "      <th>Latitude</th>\n",
       "      <th>Longitude</th>\n",
       "      <th>Month</th>\n",
       "      <th>Hour</th>\n",
       "      <th>Humidity</th>\n",
       "      <th>AmbientTemp</th>\n",
       "      <th>PolyPwr</th>\n",
       "      <th>Wind.Speed</th>\n",
       "      <th>Visibility</th>\n",
       "      <th>Pressure</th>\n",
       "      <th>Cloud.Ceiling</th>\n",
       "      <th>Fall</th>\n",
       "      <th>Spring</th>\n",
       "      <th>Summer</th>\n",
       "      <th>Winter</th>\n",
       "    </tr>\n",
       "  </thead>\n",
       "  <tbody>\n",
       "    <tr>\n",
       "      <th>0</th>\n",
       "      <td>47.11</td>\n",
       "      <td>-122.57</td>\n",
       "      <td>12</td>\n",
       "      <td>11</td>\n",
       "      <td>81.71997</td>\n",
       "      <td>12.86919</td>\n",
       "      <td>0.886940</td>\n",
       "      <td>5</td>\n",
       "      <td>10.0</td>\n",
       "      <td>1010.6</td>\n",
       "      <td>722</td>\n",
       "      <td>0</td>\n",
       "      <td>0</td>\n",
       "      <td>0</td>\n",
       "      <td>1</td>\n",
       "    </tr>\n",
       "    <tr>\n",
       "      <th>1</th>\n",
       "      <td>47.11</td>\n",
       "      <td>-122.57</td>\n",
       "      <td>12</td>\n",
       "      <td>13</td>\n",
       "      <td>96.64917</td>\n",
       "      <td>9.66415</td>\n",
       "      <td>0.901270</td>\n",
       "      <td>0</td>\n",
       "      <td>10.0</td>\n",
       "      <td>1011.3</td>\n",
       "      <td>23</td>\n",
       "      <td>0</td>\n",
       "      <td>0</td>\n",
       "      <td>0</td>\n",
       "      <td>1</td>\n",
       "    </tr>\n",
       "    <tr>\n",
       "      <th>2</th>\n",
       "      <td>47.11</td>\n",
       "      <td>-122.57</td>\n",
       "      <td>12</td>\n",
       "      <td>13</td>\n",
       "      <td>93.61572</td>\n",
       "      <td>15.44983</td>\n",
       "      <td>1.497021</td>\n",
       "      <td>5</td>\n",
       "      <td>10.0</td>\n",
       "      <td>1011.6</td>\n",
       "      <td>32</td>\n",
       "      <td>0</td>\n",
       "      <td>0</td>\n",
       "      <td>0</td>\n",
       "      <td>1</td>\n",
       "    </tr>\n",
       "    <tr>\n",
       "      <th>3</th>\n",
       "      <td>47.11</td>\n",
       "      <td>-122.57</td>\n",
       "      <td>12</td>\n",
       "      <td>12</td>\n",
       "      <td>77.21558</td>\n",
       "      <td>10.36659</td>\n",
       "      <td>0.502979</td>\n",
       "      <td>5</td>\n",
       "      <td>2.0</td>\n",
       "      <td>1024.4</td>\n",
       "      <td>6</td>\n",
       "      <td>0</td>\n",
       "      <td>0</td>\n",
       "      <td>0</td>\n",
       "      <td>1</td>\n",
       "    </tr>\n",
       "    <tr>\n",
       "      <th>4</th>\n",
       "      <td>47.11</td>\n",
       "      <td>-122.57</td>\n",
       "      <td>12</td>\n",
       "      <td>14</td>\n",
       "      <td>54.80347</td>\n",
       "      <td>16.85471</td>\n",
       "      <td>1.883942</td>\n",
       "      <td>3</td>\n",
       "      <td>3.0</td>\n",
       "      <td>1023.7</td>\n",
       "      <td>9</td>\n",
       "      <td>0</td>\n",
       "      <td>0</td>\n",
       "      <td>0</td>\n",
       "      <td>1</td>\n",
       "    </tr>\n",
       "  </tbody>\n",
       "</table>\n",
       "</div>"
      ],
      "text/plain": [
       "   Latitude  Longitude  Month  Hour  Humidity  AmbientTemp   PolyPwr  \\\n",
       "0     47.11    -122.57     12    11  81.71997     12.86919  0.886940   \n",
       "1     47.11    -122.57     12    13  96.64917      9.66415  0.901270   \n",
       "2     47.11    -122.57     12    13  93.61572     15.44983  1.497021   \n",
       "3     47.11    -122.57     12    12  77.21558     10.36659  0.502979   \n",
       "4     47.11    -122.57     12    14  54.80347     16.85471  1.883942   \n",
       "\n",
       "   Wind.Speed  Visibility  Pressure  Cloud.Ceiling  Fall  Spring  Summer  \\\n",
       "0           5        10.0    1010.6            722     0       0       0   \n",
       "1           0        10.0    1011.3             23     0       0       0   \n",
       "2           5        10.0    1011.6             32     0       0       0   \n",
       "3           5         2.0    1024.4              6     0       0       0   \n",
       "4           3         3.0    1023.7              9     0       0       0   \n",
       "\n",
       "   Winter  \n",
       "0       1  \n",
       "1       1  \n",
       "2       1  \n",
       "3       1  \n",
       "4       1  "
      ]
     },
     "execution_count": 15,
     "metadata": {},
     "output_type": "execute_result"
    }
   ],
   "source": [
    "df = pd.read_csv('clean_dataset.csv', sep=',',index_col=0, header=0)\n",
    "df.head()"
   ]
  },
  {
   "cell_type": "markdown",
   "id": "411b896c",
   "metadata": {},
   "source": [
    "### Input/Target Variable Split"
   ]
  },
  {
   "cell_type": "code",
   "execution_count": 16,
   "id": "0385fda1",
   "metadata": {},
   "outputs": [
    {
     "data": {
      "text/plain": [
       "(21045, 14)"
      ]
     },
     "execution_count": 16,
     "metadata": {},
     "output_type": "execute_result"
    }
   ],
   "source": [
    "X = df.drop(['PolyPwr'], axis=1)\n",
    "X.shape"
   ]
  },
  {
   "cell_type": "code",
   "execution_count": 17,
   "id": "583abc91",
   "metadata": {},
   "outputs": [
    {
     "data": {
      "text/plain": [
       "(21045,)"
      ]
     },
     "execution_count": 17,
     "metadata": {},
     "output_type": "execute_result"
    }
   ],
   "source": [
    "y = df['PolyPwr']\n",
    "y.shape"
   ]
  },
  {
   "cell_type": "markdown",
   "id": "dad61106",
   "metadata": {},
   "source": [
    "### Train/Test Split"
   ]
  },
  {
   "cell_type": "code",
   "execution_count": 18,
   "id": "af7b2a44",
   "metadata": {},
   "outputs": [],
   "source": [
    "from sklearn.model_selection import train_test_split\n",
    "X_train, X_test, y_train, y_test = train_test_split(X, y, test_size=0.3, random_state=10)"
   ]
  },
  {
   "cell_type": "code",
   "execution_count": 19,
   "id": "5bfd93af",
   "metadata": {},
   "outputs": [
    {
     "data": {
      "text/html": [
       "<div>\n",
       "<style scoped>\n",
       "    .dataframe tbody tr th:only-of-type {\n",
       "        vertical-align: middle;\n",
       "    }\n",
       "\n",
       "    .dataframe tbody tr th {\n",
       "        vertical-align: top;\n",
       "    }\n",
       "\n",
       "    .dataframe thead th {\n",
       "        text-align: right;\n",
       "    }\n",
       "</style>\n",
       "<table border=\"1\" class=\"dataframe\">\n",
       "  <thead>\n",
       "    <tr style=\"text-align: right;\">\n",
       "      <th></th>\n",
       "      <th>Latitude</th>\n",
       "      <th>Longitude</th>\n",
       "      <th>Month</th>\n",
       "      <th>Hour</th>\n",
       "      <th>Humidity</th>\n",
       "      <th>AmbientTemp</th>\n",
       "      <th>Wind.Speed</th>\n",
       "      <th>Visibility</th>\n",
       "      <th>Pressure</th>\n",
       "      <th>Cloud.Ceiling</th>\n",
       "      <th>Fall</th>\n",
       "      <th>Spring</th>\n",
       "      <th>Summer</th>\n",
       "      <th>Winter</th>\n",
       "    </tr>\n",
       "  </thead>\n",
       "  <tbody>\n",
       "    <tr>\n",
       "      <th>13445</th>\n",
       "      <td>38.82</td>\n",
       "      <td>-104.71</td>\n",
       "      <td>8</td>\n",
       "      <td>14</td>\n",
       "      <td>12.55493</td>\n",
       "      <td>40.06035</td>\n",
       "      <td>7</td>\n",
       "      <td>10.0</td>\n",
       "      <td>814.8</td>\n",
       "      <td>230</td>\n",
       "      <td>0</td>\n",
       "      <td>0</td>\n",
       "      <td>1</td>\n",
       "      <td>0</td>\n",
       "    </tr>\n",
       "    <tr>\n",
       "      <th>12101</th>\n",
       "      <td>44.89</td>\n",
       "      <td>-93.20</td>\n",
       "      <td>9</td>\n",
       "      <td>10</td>\n",
       "      <td>60.29663</td>\n",
       "      <td>21.34125</td>\n",
       "      <td>7</td>\n",
       "      <td>10.0</td>\n",
       "      <td>986.6</td>\n",
       "      <td>722</td>\n",
       "      <td>1</td>\n",
       "      <td>0</td>\n",
       "      <td>0</td>\n",
       "      <td>0</td>\n",
       "    </tr>\n",
       "    <tr>\n",
       "      <th>1701</th>\n",
       "      <td>40.67</td>\n",
       "      <td>-86.15</td>\n",
       "      <td>5</td>\n",
       "      <td>10</td>\n",
       "      <td>73.46191</td>\n",
       "      <td>20.08240</td>\n",
       "      <td>13</td>\n",
       "      <td>10.0</td>\n",
       "      <td>990.8</td>\n",
       "      <td>170</td>\n",
       "      <td>0</td>\n",
       "      <td>1</td>\n",
       "      <td>0</td>\n",
       "      <td>0</td>\n",
       "    </tr>\n",
       "    <tr>\n",
       "      <th>20817</th>\n",
       "      <td>38.95</td>\n",
       "      <td>-104.83</td>\n",
       "      <td>8</td>\n",
       "      <td>10</td>\n",
       "      <td>46.88110</td>\n",
       "      <td>23.82118</td>\n",
       "      <td>17</td>\n",
       "      <td>10.0</td>\n",
       "      <td>803.7</td>\n",
       "      <td>722</td>\n",
       "      <td>0</td>\n",
       "      <td>0</td>\n",
       "      <td>1</td>\n",
       "      <td>0</td>\n",
       "    </tr>\n",
       "    <tr>\n",
       "      <th>5983</th>\n",
       "      <td>26.98</td>\n",
       "      <td>-80.11</td>\n",
       "      <td>12</td>\n",
       "      <td>11</td>\n",
       "      <td>39.95972</td>\n",
       "      <td>34.12613</td>\n",
       "      <td>7</td>\n",
       "      <td>10.0</td>\n",
       "      <td>1023.3</td>\n",
       "      <td>250</td>\n",
       "      <td>0</td>\n",
       "      <td>0</td>\n",
       "      <td>0</td>\n",
       "      <td>1</td>\n",
       "    </tr>\n",
       "  </tbody>\n",
       "</table>\n",
       "</div>"
      ],
      "text/plain": [
       "       Latitude  Longitude  Month  Hour  Humidity  AmbientTemp  Wind.Speed  \\\n",
       "13445     38.82    -104.71      8    14  12.55493     40.06035           7   \n",
       "12101     44.89     -93.20      9    10  60.29663     21.34125           7   \n",
       "1701      40.67     -86.15      5    10  73.46191     20.08240          13   \n",
       "20817     38.95    -104.83      8    10  46.88110     23.82118          17   \n",
       "5983      26.98     -80.11     12    11  39.95972     34.12613           7   \n",
       "\n",
       "       Visibility  Pressure  Cloud.Ceiling  Fall  Spring  Summer  Winter  \n",
       "13445        10.0     814.8            230     0       0       1       0  \n",
       "12101        10.0     986.6            722     1       0       0       0  \n",
       "1701         10.0     990.8            170     0       1       0       0  \n",
       "20817        10.0     803.7            722     0       0       1       0  \n",
       "5983         10.0    1023.3            250     0       0       0       1  "
      ]
     },
     "execution_count": 19,
     "metadata": {},
     "output_type": "execute_result"
    }
   ],
   "source": [
    "X_train.head()"
   ]
  },
  {
   "cell_type": "code",
   "execution_count": 20,
   "id": "11f7fe28",
   "metadata": {},
   "outputs": [
    {
     "data": {
      "text/plain": [
       "13445    2.977541\n",
       "12101    2.473713\n",
       "1701     1.135388\n",
       "20817    2.625887\n",
       "5983     2.990197\n",
       "Name: PolyPwr, dtype: float64"
      ]
     },
     "execution_count": 20,
     "metadata": {},
     "output_type": "execute_result"
    }
   ],
   "source": [
    "y_train.head()"
   ]
  },
  {
   "cell_type": "markdown",
   "id": "32643bb3",
   "metadata": {},
   "source": [
    "# Baseline Regression Models"
   ]
  },
  {
   "cell_type": "markdown",
   "id": "763b051c",
   "metadata": {},
   "source": [
    "### Decision Tree Regression "
   ]
  },
  {
   "cell_type": "code",
   "execution_count": 21,
   "id": "bc84ba02",
   "metadata": {},
   "outputs": [
    {
     "name": "stdout",
     "output_type": "stream",
     "text": [
      "Wall time: 9.15 s\n"
     ]
    }
   ],
   "source": [
    "%%time\n",
    "from sklearn.tree import DecisionTreeRegressor\n",
    "\n",
    "kfoldcv = RepeatedKFold(n_splits=10, n_repeats=10, random_state=12)\n",
    "power_dt = DecisionTreeRegressor().fit(X_train, y_train)\n",
    "dt_scores = cross_val_score(power_dt, X_train, y_train, scoring='r2', cv=kfoldcv)\n",
    "\n",
    "# Runtime = 9s"
   ]
  },
  {
   "cell_type": "code",
   "execution_count": 22,
   "id": "61b74bb9",
   "metadata": {},
   "outputs": [
    {
     "data": {
      "text/plain": [
       "array([0.23855723, 0.37461062, 0.33145153, 0.28960596, 0.28691863,\n",
       "       0.29192033, 0.31658369, 0.29123383, 0.30741764, 0.25087916,\n",
       "       0.27976961, 0.2869817 , 0.36683055, 0.30879064, 0.26702505,\n",
       "       0.18582782, 0.33966565, 0.27611407, 0.34076591, 0.24312834,\n",
       "       0.23930504, 0.32084317, 0.29048536, 0.27611632, 0.30238719,\n",
       "       0.30599911, 0.27515647, 0.35933663, 0.2409954 , 0.35595697,\n",
       "       0.31263381, 0.32545192, 0.34686205, 0.4060924 , 0.13043393,\n",
       "       0.37754965, 0.28389883, 0.28409136, 0.38025142, 0.2983773 ,\n",
       "       0.36022956, 0.27918708, 0.31001213, 0.31540559, 0.24101741,\n",
       "       0.31749426, 0.30813108, 0.19144015, 0.30862916, 0.25177263,\n",
       "       0.28828917, 0.34003375, 0.24694532, 0.21677116, 0.24313928,\n",
       "       0.20265049, 0.25593115, 0.32610572, 0.31985606, 0.29856917,\n",
       "       0.3187837 , 0.25488554, 0.29947124, 0.26416225, 0.32577965,\n",
       "       0.35470718, 0.35511388, 0.31680492, 0.3396352 , 0.27513221,\n",
       "       0.25085604, 0.29749745, 0.23764788, 0.29677315, 0.295745  ,\n",
       "       0.28411402, 0.30422576, 0.31353419, 0.35224174, 0.247486  ,\n",
       "       0.26180718, 0.34247547, 0.29276139, 0.34434878, 0.36051692,\n",
       "       0.290593  , 0.27683384, 0.3055135 , 0.33193262, 0.19235018,\n",
       "       0.36316496, 0.32997349, 0.31375311, 0.28699096, 0.34989672,\n",
       "       0.23959774, 0.29945452, 0.27895564, 0.19406074, 0.35755089])"
      ]
     },
     "execution_count": 22,
     "metadata": {},
     "output_type": "execute_result"
    }
   ],
   "source": [
    "dt_scores"
   ]
  },
  {
   "cell_type": "code",
   "execution_count": 23,
   "id": "73edf343",
   "metadata": {},
   "outputs": [
    {
     "data": {
      "image/png": "[encoded data removed]",
      "text/plain": [
       "<Figure size 2400x300 with 1 Axes>"
      ]
     },
     "metadata": {},
     "output_type": "display_data"
    }
   ],
   "source": [
    "plt.figure(figsize=(24,3))\n",
    "plt.hist(dt_scores, color='blue')\n",
    "plt.title(\"Distribution of R2 for Decision Tree Regressor\")\n",
    "plt.savefig('dtr1.png')\n",
    "plt.show()"
   ]
  },
  {
   "cell_type": "code",
   "execution_count": 24,
   "id": "5026ffe7",
   "metadata": {},
   "outputs": [],
   "source": [
    "dt_meanscore = np.mean(dt_scores)"
   ]
  },
  {
   "cell_type": "markdown",
   "id": "647dc1ce",
   "metadata": {},
   "source": [
    "### Random Forest Regression"
   ]
  },
  {
   "cell_type": "code",
   "execution_count": 25,
   "id": "9dcaae72",
   "metadata": {},
   "outputs": [
    {
     "name": "stdout",
     "output_type": "stream",
     "text": [
      "Wall time: 9min 59s\n"
     ]
    }
   ],
   "source": [
    "%%time\n",
    "from sklearn.ensemble import RandomForestRegressor\n",
    "\n",
    "power_rf = RandomForestRegressor().fit(X_train, y_train)\n",
    "rf_scores = cross_val_score(power_rf, X_train, y_train, scoring='r2', cv=kfoldcv)\n",
    "\n",
    "# Runtime = 9m 59s"
   ]
  },
  {
   "cell_type": "code",
   "execution_count": 26,
   "id": "b72b9459",
   "metadata": {},
   "outputs": [
    {
     "data": {
      "text/plain": [
       "array([0.63164937, 0.68048528, 0.65433672, 0.60038133, 0.63563267,\n",
       "       0.63382203, 0.64153402, 0.65462507, 0.66008134, 0.60498458,\n",
       "       0.62302188, 0.63379531, 0.66855421, 0.65019412, 0.62451725,\n",
       "       0.61521467, 0.62296551, 0.63497746, 0.65401319, 0.63366116,\n",
       "       0.61610826, 0.65215575, 0.6012833 , 0.68624721, 0.63235396,\n",
       "       0.6360014 , 0.64552206, 0.655309  , 0.61204972, 0.66357578,\n",
       "       0.64811364, 0.62196036, 0.64599526, 0.64548421, 0.57797536,\n",
       "       0.65711332, 0.64857158, 0.62230134, 0.65816701, 0.65890172,\n",
       "       0.61953654, 0.65902108, 0.66209068, 0.65182277, 0.64481249,\n",
       "       0.6127663 , 0.60401548, 0.63447743, 0.64856178, 0.61266391,\n",
       "       0.64476014, 0.66830059, 0.65084913, 0.58642093, 0.60593733,\n",
       "       0.63906568, 0.65333782, 0.60486546, 0.68474891, 0.64326864,\n",
       "       0.65946603, 0.62242122, 0.64843351, 0.60060866, 0.64740312,\n",
       "       0.6523594 , 0.63706254, 0.61982533, 0.65794424, 0.63276504,\n",
       "       0.62455482, 0.64899689, 0.59024273, 0.64100178, 0.61510855,\n",
       "       0.64474202, 0.64947518, 0.6390547 , 0.68157067, 0.63669836,\n",
       "       0.6398374 , 0.62661603, 0.66946986, 0.63845558, 0.6269059 ,\n",
       "       0.64972314, 0.61610997, 0.63987557, 0.63966837, 0.64394405,\n",
       "       0.65942192, 0.66395299, 0.62179429, 0.65549099, 0.65996684,\n",
       "       0.60020524, 0.6414106 , 0.64949468, 0.60421623, 0.62481058])"
      ]
     },
     "execution_count": 26,
     "metadata": {},
     "output_type": "execute_result"
    }
   ],
   "source": [
    "rf_scores"
   ]
  },
  {
   "cell_type": "code",
   "execution_count": 27,
   "id": "b2893755",
   "metadata": {},
   "outputs": [
    {
     "data": {
      "image/png": "[encoded data removed]",
      "text/plain": [
       "<Figure size 2400x300 with 1 Axes>"
      ]
     },
     "metadata": {},
     "output_type": "display_data"
    }
   ],
   "source": [
    "plt.figure(figsize=(24,3))\n",
    "plt.hist(rf_scores, color='blue')\n",
    "plt.title(\"Distribution of R2 for Random Forest Regressor\")\n",
    "plt.savefig('rfr1.png')\n",
    "plt.show()"
   ]
  },
  {
   "cell_type": "code",
   "execution_count": 28,
   "id": "1b71b5b3",
   "metadata": {},
   "outputs": [],
   "source": [
    "rf_meanscore = np.mean(rf_scores)"
   ]
  },
  {
   "cell_type": "markdown",
   "id": "17c2d62b",
   "metadata": {},
   "source": [
    "### Support Vector Regression"
   ]
  },
  {
   "cell_type": "code",
   "execution_count": 30,
   "id": "3a6fd319",
   "metadata": {},
   "outputs": [
    {
     "name": "stdout",
     "output_type": "stream",
     "text": [
      "Wall time: 17min 36s\n"
     ]
    }
   ],
   "source": [
    "%%time\n",
    "from sklearn.svm import SVR\n",
    "\n",
    "power_svr = SVR().fit(X_train, y_train)\n",
    "svr_scores = cross_val_score(power_svr, X_train, y_train, scoring='r2', cv=kfoldcv)\n",
    "\n",
    "# Runtime = 17m 36s"
   ]
  },
  {
   "cell_type": "code",
   "execution_count": 33,
   "id": "47d747c0",
   "metadata": {},
   "outputs": [
    {
     "data": {
      "text/plain": [
       "array([0.43353287, 0.45557418, 0.46151577, 0.40953165, 0.42671947,\n",
       "       0.4357254 , 0.42652673, 0.4373433 , 0.45835264, 0.43376752,\n",
       "       0.41682771, 0.43810608, 0.46384219, 0.43996571, 0.41735772,\n",
       "       0.45821788, 0.41374181, 0.42325327, 0.42145354, 0.48008007,\n",
       "       0.4210454 , 0.4674669 , 0.43886057, 0.45978914, 0.41495043,\n",
       "       0.439632  , 0.43643204, 0.45655768, 0.41019224, 0.43048089,\n",
       "       0.45813471, 0.43935703, 0.45355233, 0.38804249, 0.40604968,\n",
       "       0.4524158 , 0.43989185, 0.40891477, 0.48794312, 0.44006313,\n",
       "       0.41818702, 0.46922279, 0.42289729, 0.44350001, 0.44352057,\n",
       "       0.44511043, 0.40053293, 0.44413708, 0.45623395, 0.43270822,\n",
       "       0.4509607 , 0.44947522, 0.41395651, 0.40381828, 0.41942271,\n",
       "       0.42821766, 0.48765959, 0.40917285, 0.44098302, 0.47472373,\n",
       "       0.44602568, 0.43665393, 0.44885138, 0.40572361, 0.43677695,\n",
       "       0.42106663, 0.46255806, 0.41658398, 0.45785528, 0.44270382,\n",
       "       0.45324249, 0.4482138 , 0.39736113, 0.42997105, 0.41221064,\n",
       "       0.45684278, 0.42379429, 0.45746677, 0.46221465, 0.43061481,\n",
       "       0.4559806 , 0.42983859, 0.46667139, 0.4264358 , 0.43663028,\n",
       "       0.45353439, 0.42825616, 0.41321793, 0.42277322, 0.44493474,\n",
       "       0.44131273, 0.45824753, 0.4098081 , 0.44449403, 0.45325819,\n",
       "       0.40901199, 0.45165933, 0.44120687, 0.4369049 , 0.43186174])"
      ]
     },
     "execution_count": 33,
     "metadata": {},
     "output_type": "execute_result"
    }
   ],
   "source": [
    "svr_scores"
   ]
  },
  {
   "cell_type": "code",
   "execution_count": 31,
   "id": "71633d01",
   "metadata": {},
   "outputs": [
    {
     "data": {
      "image/png": "[encoded data removed]",
      "text/plain": [
       "<Figure size 2400x300 with 1 Axes>"
      ]
     },
     "metadata": {},
     "output_type": "display_data"
    }
   ],
   "source": [
    "plt.figure(figsize=(24,3))\n",
    "plt.hist(svr_scores, color='blue')\n",
    "plt.title(\"Distribution of R2 for Support Vector Regressor\")\n",
    "plt.savefig('svr1.png')\n",
    "plt.show()"
   ]
  },
  {
   "cell_type": "code",
   "execution_count": 32,
   "id": "823d1eea",
   "metadata": {},
   "outputs": [],
   "source": [
    "svr_meanscore = np.mean(svr_scores)"
   ]
  },
  {
   "cell_type": "markdown",
   "id": "297afcad",
   "metadata": {},
   "source": [
    "### K-Nearest Neighbors Regression "
   ]
  },
  {
   "cell_type": "code",
   "execution_count": 34,
   "id": "4a9ab37f",
   "metadata": {},
   "outputs": [
    {
     "name": "stdout",
     "output_type": "stream",
     "text": [
      "Wall time: 7.53 s\n"
     ]
    }
   ],
   "source": [
    "%%time\n",
    "from sklearn.neighbors import KNeighborsRegressor\n",
    "\n",
    "power_knn = KNeighborsRegressor(11).fit(X_train, y_train)\n",
    "knn_scores = cross_val_score(power_knn, X_train, y_train, scoring='r2', cv=kfoldcv)\n",
    "\n",
    "# Runtime = 8s"
   ]
  },
  {
   "cell_type": "code",
   "execution_count": 35,
   "id": "acf3ef59",
   "metadata": {},
   "outputs": [
    {
     "data": {
      "text/plain": [
       "array([0.55643159, 0.6039745 , 0.57400005, 0.5424044 , 0.54926928,\n",
       "       0.55005709, 0.55513075, 0.58497964, 0.58996029, 0.51890493,\n",
       "       0.52676248, 0.56980968, 0.58523717, 0.58371292, 0.55793359,\n",
       "       0.53069   , 0.55272127, 0.56247409, 0.56857669, 0.58127398,\n",
       "       0.54215138, 0.58217895, 0.5023569 , 0.59179498, 0.55577036,\n",
       "       0.55185722, 0.58578495, 0.60116241, 0.51866418, 0.57077815,\n",
       "       0.58596435, 0.55362978, 0.55557983, 0.55264779, 0.50659141,\n",
       "       0.5647733 , 0.57473573, 0.56875063, 0.59183946, 0.58214275,\n",
       "       0.53666518, 0.59493573, 0.56951606, 0.58936321, 0.57085644,\n",
       "       0.55593881, 0.54136685, 0.53909794, 0.57285775, 0.53578235,\n",
       "       0.58530382, 0.58233332, 0.56940313, 0.52096993, 0.56186691,\n",
       "       0.55313492, 0.58357734, 0.5249669 , 0.58579104, 0.56167008,\n",
       "       0.57655016, 0.55837041, 0.57536   , 0.54192577, 0.57973463,\n",
       "       0.57525598, 0.57556649, 0.52193221, 0.57262082, 0.5662034 ,\n",
       "       0.56380072, 0.58142725, 0.50978674, 0.55479361, 0.553635  ,\n",
       "       0.57166664, 0.54767159, 0.57554268, 0.61658189, 0.54627655,\n",
       "       0.56150233, 0.5683326 , 0.57873812, 0.56621282, 0.55273075,\n",
       "       0.59898578, 0.54752643, 0.52894969, 0.54607334, 0.57655871,\n",
       "       0.55825353, 0.58157291, 0.53670312, 0.57157891, 0.57275194,\n",
       "       0.54666298, 0.57476467, 0.57087779, 0.54546746, 0.55043085])"
      ]
     },
     "execution_count": 35,
     "metadata": {},
     "output_type": "execute_result"
    }
   ],
   "source": [
    "knn_scores"
   ]
  },
  {
   "cell_type": "code",
   "execution_count": 36,
   "id": "b11bbd25",
   "metadata": {},
   "outputs": [
    {
     "data": {
      "image/png": "[encoded data removed]",
      "text/plain": [
       "<Figure size 2400x300 with 1 Axes>"
      ]
     },
     "metadata": {},
     "output_type": "display_data"
    }
   ],
   "source": [
    "plt.figure(figsize=(24,3))\n",
    "plt.hist(knn_scores, color='blue')\n",
    "plt.title(\"Distribution of R2 for K-Nearest Neighbors Regressor\")\n",
    "plt.savefig('knn1.png')\n",
    "plt.show()"
   ]
  },
  {
   "cell_type": "code",
   "execution_count": 37,
   "id": "0a7a5ecb",
   "metadata": {},
   "outputs": [],
   "source": [
    "knn_meanscore = np.mean(knn_scores)"
   ]
  },
  {
   "cell_type": "markdown",
   "id": "84a774de",
   "metadata": {},
   "source": [
    "# Hyperparameter Tuning"
   ]
  },
  {
   "cell_type": "code",
   "execution_count": 38,
   "id": "9590c5e7",
   "metadata": {},
   "outputs": [],
   "source": [
    "from sklearn.model_selection import GridSearchCV\n",
    "\n",
    "dtr = DecisionTreeRegressor()\n",
    "rfr = RandomForestRegressor()\n",
    "svr = SVR()\n",
    "knn = KNeighborsRegressor()"
   ]
  },
  {
   "cell_type": "code",
   "execution_count": 39,
   "id": "fbe68b2b",
   "metadata": {},
   "outputs": [
    {
     "name": "stdout",
     "output_type": "stream",
     "text": [
      "Wall time: 11min 24s\n"
     ]
    },
    {
     "data": {
      "text/plain": [
       "{'max_depth': 12, 'max_features': 10, 'min_samples_leaf': 35}"
      ]
     },
     "execution_count": 39,
     "metadata": {},
     "output_type": "execute_result"
    }
   ],
   "source": [
    "%%time\n",
    "# Decision Tree\n",
    "dtr_params = {'max_depth':np.arange(1,20), 'max_features':np.arange(1,15), 'min_samples_leaf':np.arange(5,100,5)}\n",
    "hyp_dtr = GridSearchCV(dtr, param_grid=dtr_params, cv=5)\n",
    "hyp_dtr.fit(X_train, y_train)\n",
    "hyp_dtr.best_params_\n",
    "\n",
    "# Runtime = 11m 24s"
   ]
  },
  {
   "cell_type": "code",
   "execution_count": 40,
   "id": "800a0ecc",
   "metadata": {},
   "outputs": [
    {
     "name": "stdout",
     "output_type": "stream",
     "text": [
      "Wall time: 1h 6min 30s\n"
     ]
    },
    {
     "data": {
      "text/plain": [
       "{'max_features': 10, 'min_samples_leaf': 50, 'n_estimators': 50}"
      ]
     },
     "execution_count": 40,
     "metadata": {},
     "output_type": "execute_result"
    }
   ],
   "source": [
    "%%time\n",
    "# Random Forest\n",
    "rfr_params = {'max_features':np.arange(1,15), 'min_samples_leaf':np.arange(50,500,50), 'n_estimators':[50,100,150,200]}\n",
    "hyp_rfr = GridSearchCV(rfr, param_grid=rfr_params, cv=5)\n",
    "hyp_rfr.fit(X_train, y_train)\n",
    "hyp_rfr.best_params_\n",
    "\n",
    "# Runtime = 1h 6m 30s"
   ]
  },
  {
   "cell_type": "code",
   "execution_count": 41,
   "id": "b7691ee2",
   "metadata": {},
   "outputs": [
    {
     "name": "stdout",
     "output_type": "stream",
     "text": [
      "Wall time: 5min 25s\n"
     ]
    },
    {
     "data": {
      "text/plain": [
       "{'C': 1000}"
      ]
     },
     "execution_count": 41,
     "metadata": {},
     "output_type": "execute_result"
    }
   ],
   "source": [
    "%%time\n",
    "# Support Vector\n",
    "svr_params = {'C': [0.1, 1, 10, 100, 1000]}\n",
    "hyp_svr = GridSearchCV(svr, param_grid=svr_params, cv=5)\n",
    "hyp_svr.fit(X_train, y_train)\n",
    "hyp_svr.best_params_\n",
    "\n",
    "# Runtime = ~5m 25s"
   ]
  },
  {
   "cell_type": "code",
   "execution_count": 42,
   "id": "85af197e",
   "metadata": {},
   "outputs": [
    {
     "name": "stdout",
     "output_type": "stream",
     "text": [
      "Wall time: 2min 52s\n"
     ]
    },
    {
     "data": {
      "text/plain": [
       "{'n_neighbors': 18, 'p': 1, 'weights': 'distance'}"
      ]
     },
     "execution_count": 42,
     "metadata": {},
     "output_type": "execute_result"
    }
   ],
   "source": [
    "%%time\n",
    "# KNN\n",
    "knn_params = {'n_neighbors':np.arange(1, 50), 'p':[1,2], 'weights': ['uniform', 'distance']}\n",
    "hyp_knn = GridSearchCV(knn, param_grid=knn_params, cv=5)\n",
    "hyp_knn.fit(X_train, y_train)\n",
    "hyp_knn.best_params_\n",
    "\n",
    "# Runtime = 2m 52s"
   ]
  },
  {
   "cell_type": "markdown",
   "id": "53d02561",
   "metadata": {},
   "source": [
    "# New Model Iteration"
   ]
  },
  {
   "cell_type": "markdown",
   "id": "1f5bc401",
   "metadata": {},
   "source": [
    "### Decision Tree Regression"
   ]
  },
  {
   "cell_type": "code",
   "execution_count": 43,
   "id": "2f5e5cc8",
   "metadata": {},
   "outputs": [
    {
     "name": "stdout",
     "output_type": "stream",
     "text": [
      "Wall time: 3.81 s\n"
     ]
    }
   ],
   "source": [
    "%%time\n",
    "from sklearn.tree import DecisionTreeRegressor\n",
    "\n",
    "kfoldcv = RepeatedKFold(n_splits=10, n_repeats=10, random_state=12)\n",
    "power_hpdt = DecisionTreeRegressor(max_depth=12, max_features=8, min_samples_leaf=20).fit(X_train, y_train)\n",
    "hpdt_scores = cross_val_score(power_hpdt, X_train, y_train, scoring='r2', cv=kfoldcv)\n",
    "\n",
    "# Runtime = 4s"
   ]
  },
  {
   "cell_type": "code",
   "execution_count": 44,
   "id": "61fc6ddc",
   "metadata": {},
   "outputs": [
    {
     "data": {
      "text/plain": [
       "array([0.55395398, 0.57861574, 0.56572793, 0.55224841, 0.56290692,\n",
       "       0.57930121, 0.5654054 , 0.58169319, 0.60049441, 0.56236897,\n",
       "       0.54392414, 0.52524893, 0.60855545, 0.60321456, 0.54885723,\n",
       "       0.56415836, 0.56392373, 0.57034464, 0.55230639, 0.59806266,\n",
       "       0.54773005, 0.58466592, 0.55195251, 0.61468817, 0.57069535,\n",
       "       0.58297067, 0.58154226, 0.57743973, 0.54033516, 0.57552582,\n",
       "       0.57245901, 0.57919641, 0.60678236, 0.57741026, 0.53426178,\n",
       "       0.5881036 , 0.56625632, 0.5449352 , 0.60953322, 0.5745545 ,\n",
       "       0.55167188, 0.59441937, 0.56806685, 0.60138104, 0.5713408 ,\n",
       "       0.57350196, 0.5492456 , 0.57290491, 0.58517963, 0.54016277,\n",
       "       0.57411795, 0.59347574, 0.58505653, 0.54354618, 0.5520447 ,\n",
       "       0.56715704, 0.59384663, 0.55926257, 0.60630575, 0.57959273,\n",
       "       0.59572224, 0.57080818, 0.57571966, 0.52403368, 0.57249055,\n",
       "       0.55906318, 0.57200607, 0.5508136 , 0.59368054, 0.57784906,\n",
       "       0.57146984, 0.57982998, 0.49415218, 0.55240305, 0.56216956,\n",
       "       0.5708034 , 0.56448889, 0.56929037, 0.60699306, 0.55470612,\n",
       "       0.57062529, 0.57475813, 0.60163863, 0.58833667, 0.54525165,\n",
       "       0.58960985, 0.56289148, 0.56563914, 0.57947607, 0.5787974 ,\n",
       "       0.5831743 , 0.58323899, 0.53702229, 0.57887183, 0.58868214,\n",
       "       0.53381085, 0.57448278, 0.57366383, 0.55332663, 0.56557522])"
      ]
     },
     "execution_count": 44,
     "metadata": {},
     "output_type": "execute_result"
    }
   ],
   "source": [
    "hpdt_scores"
   ]
  },
  {
   "cell_type": "code",
   "execution_count": 45,
   "id": "131087b7",
   "metadata": {},
   "outputs": [],
   "source": [
    "hpdt_meanscore = np.mean(hpdt_scores)"
   ]
  },
  {
   "cell_type": "code",
   "execution_count": 46,
   "id": "e4123409",
   "metadata": {},
   "outputs": [
    {
     "data": {
      "image/png": "[encoded data removed]",
      "text/plain": [
       "<Figure size 2400x300 with 1 Axes>"
      ]
     },
     "metadata": {},
     "output_type": "display_data"
    }
   ],
   "source": [
    "plt.figure(figsize=(24,3))\n",
    "plt.hist(hpdt_scores, color='green')\n",
    "plt.title(\"Distribution of R2 for Random Forest Regressor\")\n",
    "plt.savefig('dtr2.png')\n",
    "plt.show()"
   ]
  },
  {
   "cell_type": "markdown",
   "id": "8f35311f",
   "metadata": {},
   "source": [
    "### Random Forest Regression"
   ]
  },
  {
   "cell_type": "code",
   "execution_count": 47,
   "id": "f5f786d2",
   "metadata": {},
   "outputs": [
    {
     "name": "stdout",
     "output_type": "stream",
     "text": [
      "Wall time: 7min 49s\n"
     ]
    }
   ],
   "source": [
    "%%time\n",
    "from sklearn.ensemble import RandomForestRegressor\n",
    "\n",
    "power_hprf = RandomForestRegressor(max_features=9, min_samples_leaf=50, n_estimators=200).fit(X_train, y_train)\n",
    "hprf_scores = cross_val_score(power_hprf, X_train, y_train, scoring='r2', cv=kfoldcv)\n",
    "\n",
    "# Runtime = 8m 55s"
   ]
  },
  {
   "cell_type": "code",
   "execution_count": 48,
   "id": "ae6cd78d",
   "metadata": {},
   "outputs": [
    {
     "data": {
      "text/plain": [
       "array([0.60746498, 0.6310848 , 0.60882577, 0.58056683, 0.60023116,\n",
       "       0.6030345 , 0.60495111, 0.61042684, 0.63423976, 0.58982505,\n",
       "       0.58498473, 0.59659114, 0.63941086, 0.61732156, 0.58583944,\n",
       "       0.61043456, 0.59163105, 0.6084887 , 0.6066329 , 0.62213404,\n",
       "       0.57885149, 0.6202147 , 0.58709983, 0.64845785, 0.59717662,\n",
       "       0.611823  , 0.60705213, 0.61692142, 0.57949197, 0.62137805,\n",
       "       0.62321929, 0.60316647, 0.61330264, 0.60017435, 0.56660154,\n",
       "       0.62195859, 0.60002411, 0.5719393 , 0.63628178, 0.62342462,\n",
       "       0.58582618, 0.63530392, 0.62243039, 0.62595775, 0.60752335,\n",
       "       0.58411313, 0.56476924, 0.61286379, 0.62141121, 0.59563789,\n",
       "       0.61880067, 0.62514136, 0.6004509 , 0.5663212 , 0.58169412,\n",
       "       0.60736706, 0.64269011, 0.57718075, 0.62842353, 0.62460127,\n",
       "       0.61626472, 0.60973538, 0.60997468, 0.5779606 , 0.61489555,\n",
       "       0.59646138, 0.62077041, 0.57776096, 0.62497441, 0.62260626,\n",
       "       0.60730319, 0.61896761, 0.55441808, 0.61364754, 0.58326806,\n",
       "       0.616213  , 0.6015276 , 0.61758011, 0.65502208, 0.59216901,\n",
       "       0.60220014, 0.60351407, 0.63619838, 0.61400702, 0.58298823,\n",
       "       0.62898262, 0.60306876, 0.59148615, 0.59629087, 0.60995284,\n",
       "       0.62496148, 0.62590851, 0.58814738, 0.61625035, 0.62657362,\n",
       "       0.57631889, 0.61231169, 0.61979715, 0.59361677, 0.58871932])"
      ]
     },
     "execution_count": 48,
     "metadata": {},
     "output_type": "execute_result"
    }
   ],
   "source": [
    "hprf_scores"
   ]
  },
  {
   "cell_type": "code",
   "execution_count": 49,
   "id": "1b3eca6b",
   "metadata": {},
   "outputs": [],
   "source": [
    "hprf_meanscore = np.mean(hprf_scores)"
   ]
  },
  {
   "cell_type": "code",
   "execution_count": 50,
   "id": "f88c00ce",
   "metadata": {},
   "outputs": [
    {
     "data": {
      "image/png": "[encoded data removed]",
      "text/plain": [
       "<Figure size 2400x300 with 1 Axes>"
      ]
     },
     "metadata": {},
     "output_type": "display_data"
    }
   ],
   "source": [
    "plt.figure(figsize=(24,3))\n",
    "plt.hist(hprf_scores, color='green')\n",
    "plt.title(\"Distribution of R2 for Random Forest Regressor\")\n",
    "plt.savefig('rfr2.png')\n",
    "plt.show()"
   ]
  },
  {
   "cell_type": "markdown",
   "id": "80fbe7ae",
   "metadata": {},
   "source": [
    "### Support Vector Regression"
   ]
  },
  {
   "cell_type": "code",
   "execution_count": 51,
   "id": "71251fc3",
   "metadata": {},
   "outputs": [
    {
     "name": "stdout",
     "output_type": "stream",
     "text": [
      "Wall time: 26min 55s\n"
     ]
    }
   ],
   "source": [
    "%%time\n",
    "from sklearn.svm import SVR\n",
    "\n",
    "power_hpsvr = SVR(C=1000).fit(X_train, y_train)\n",
    "hpsvr_scores = cross_val_score(power_hpsvr, X_train, y_train, scoring='r2', cv=kfoldcv)\n",
    "\n",
    "# Runtime = 26m 55s"
   ]
  },
  {
   "cell_type": "code",
   "execution_count": 52,
   "id": "2a9eef1a",
   "metadata": {},
   "outputs": [
    {
     "data": {
      "text/plain": [
       "array([0.54257892, 0.56550197, 0.55606864, 0.50123358, 0.5290404 ,\n",
       "       0.52797658, 0.54386631, 0.55531688, 0.56308019, 0.54166411,\n",
       "       0.51401851, 0.52913358, 0.56715446, 0.54604965, 0.52103942,\n",
       "       0.55319523, 0.53060669, 0.54898636, 0.53947816, 0.57098171,\n",
       "       0.50704623, 0.57035902, 0.54115065, 0.57305806, 0.52475885,\n",
       "       0.56078322, 0.54765974, 0.5511189 , 0.51984382, 0.53149767,\n",
       "       0.55780693, 0.53630263, 0.55047733, 0.52882156, 0.5053545 ,\n",
       "       0.55558968, 0.5385568 , 0.50794688, 0.57849854, 0.56080903,\n",
       "       0.53351034, 0.57502881, 0.5492774 , 0.55765206, 0.55269625,\n",
       "       0.52474043, 0.50280958, 0.54733342, 0.55731521, 0.52191552,\n",
       "       0.55827758, 0.55320329, 0.52380789, 0.49715724, 0.52745039,\n",
       "       0.53407461, 0.58133598, 0.51095012, 0.54973812, 0.58872357,\n",
       "       0.54712465, 0.55101579, 0.55210007, 0.50990082, 0.55362502,\n",
       "       0.53082123, 0.55378875, 0.50817371, 0.5667118 , 0.55035481,\n",
       "       0.54411043, 0.55750439, 0.49272128, 0.54542238, 0.51171903,\n",
       "       0.56027938, 0.53608585, 0.55946601, 0.58182122, 0.53373187,\n",
       "       0.55557376, 0.53508624, 0.56032923, 0.52276895, 0.53249562,\n",
       "       0.57515294, 0.52511656, 0.52727814, 0.52916216, 0.56149291,\n",
       "       0.54933462, 0.55341323, 0.50965104, 0.55656705, 0.56149117,\n",
       "       0.50910567, 0.55097749, 0.55524057, 0.54366737, 0.5358538 ])"
      ]
     },
     "execution_count": 52,
     "metadata": {},
     "output_type": "execute_result"
    }
   ],
   "source": [
    "hpsvr_scores"
   ]
  },
  {
   "cell_type": "code",
   "execution_count": 53,
   "id": "1fe10cec",
   "metadata": {},
   "outputs": [],
   "source": [
    "hpsvr_meanscore = np.mean(hpsvr_scores)"
   ]
  },
  {
   "cell_type": "code",
   "execution_count": 54,
   "id": "fffdc804",
   "metadata": {},
   "outputs": [
    {
     "data": {
      "image/png": "[encoded data removed]",
      "text/plain": [
       "<Figure size 2400x300 with 1 Axes>"
      ]
     },
     "metadata": {},
     "output_type": "display_data"
    }
   ],
   "source": [
    "plt.figure(figsize=(24,3))\n",
    "plt.hist(hpsvr_scores, color='green')\n",
    "plt.title(\"Distribution of R2 for Support Vector Regressor\")\n",
    "plt.savefig('svr2.png')\n",
    "plt.show()"
   ]
  },
  {
   "cell_type": "markdown",
   "id": "fe0621cc",
   "metadata": {},
   "source": [
    "### K-Nearest Neighbors Regression"
   ]
  },
  {
   "cell_type": "code",
   "execution_count": 55,
   "id": "f901a573",
   "metadata": {},
   "outputs": [
    {
     "name": "stdout",
     "output_type": "stream",
     "text": [
      "Wall time: 8.2 s\n"
     ]
    }
   ],
   "source": [
    "%%time\n",
    "from sklearn.neighbors import KNeighborsRegressor\n",
    "\n",
    "power_hpknn = KNeighborsRegressor(n_neighbors=18, p=1, weights='distance').fit(X_train, y_train)\n",
    "hpknn_scores = cross_val_score(power_hpknn, X_train, y_train, scoring='r2', cv=kfoldcv)\n",
    "\n",
    "# Runtime = 9s"
   ]
  },
  {
   "cell_type": "code",
   "execution_count": 56,
   "id": "730c431c",
   "metadata": {},
   "outputs": [
    {
     "data": {
      "text/plain": [
       "array([0.59200908, 0.63845258, 0.61033611, 0.56982968, 0.58518831,\n",
       "       0.58629452, 0.60151665, 0.61976607, 0.63552464, 0.56575955,\n",
       "       0.57585305, 0.59649413, 0.62051276, 0.61614704, 0.58259278,\n",
       "       0.5771494 , 0.58751787, 0.60768887, 0.60380595, 0.61924993,\n",
       "       0.57870332, 0.61940848, 0.55086973, 0.63255406, 0.58634286,\n",
       "       0.59313486, 0.61762921, 0.62437658, 0.57739531, 0.60853329,\n",
       "       0.61076555, 0.59484353, 0.60170247, 0.60166202, 0.54803643,\n",
       "       0.6013195 , 0.60769421, 0.59573575, 0.63009926, 0.6245135 ,\n",
       "       0.56918695, 0.63061039, 0.61600073, 0.62944124, 0.6053986 ,\n",
       "       0.58377082, 0.57932328, 0.58076761, 0.61283405, 0.57325916,\n",
       "       0.6176729 , 0.62323587, 0.60202622, 0.56926929, 0.59569477,\n",
       "       0.59240149, 0.61925427, 0.56560243, 0.62156131, 0.60992087,\n",
       "       0.62123457, 0.59615526, 0.60745413, 0.58401511, 0.61924818,\n",
       "       0.59805271, 0.61052045, 0.57160296, 0.61381656, 0.59719064,\n",
       "       0.5947553 , 0.60778167, 0.55389796, 0.60005773, 0.58568405,\n",
       "       0.61605763, 0.60023916, 0.60484937, 0.64745352, 0.58098152,\n",
       "       0.60257963, 0.60008361, 0.61885293, 0.6089992 , 0.592584  ,\n",
       "       0.6291821 , 0.58471728, 0.56842727, 0.58975687, 0.61343935,\n",
       "       0.60164648, 0.61621599, 0.56774844, 0.61235618, 0.61459906,\n",
       "       0.57612771, 0.60829634, 0.61673369, 0.58607625, 0.59499566])"
      ]
     },
     "execution_count": 56,
     "metadata": {},
     "output_type": "execute_result"
    }
   ],
   "source": [
    "hpknn_scores"
   ]
  },
  {
   "cell_type": "code",
   "execution_count": 57,
   "id": "f49a5fef",
   "metadata": {},
   "outputs": [],
   "source": [
    "hpknn_meanscore = np.mean(hpknn_scores)"
   ]
  },
  {
   "cell_type": "code",
   "execution_count": 58,
   "id": "5cc2c0fa",
   "metadata": {},
   "outputs": [
    {
     "data": {
      "image/png": "[encoded data removed]",
      "text/plain": [
       "<Figure size 2400x300 with 1 Axes>"
      ]
     },
     "metadata": {},
     "output_type": "display_data"
    }
   ],
   "source": [
    "plt.figure(figsize=(24,3))\n",
    "plt.hist(hpknn_scores, color='green')\n",
    "plt.title(\"Distribution of R2 for KNN Regressor\")\n",
    "plt.savefig('knn2.png')\n",
    "plt.show()"
   ]
  },
  {
   "cell_type": "markdown",
   "id": "239235c6",
   "metadata": {},
   "source": [
    "### Comparison of Baseline Models and Tuned Models"
   ]
  },
  {
   "cell_type": "code",
   "execution_count": 59,
   "id": "d1979771",
   "metadata": {},
   "outputs": [
    {
     "data": {
      "text/html": [
       "<div>\n",
       "<style scoped>\n",
       "    .dataframe tbody tr th:only-of-type {\n",
       "        vertical-align: middle;\n",
       "    }\n",
       "\n",
       "    .dataframe tbody tr th {\n",
       "        vertical-align: top;\n",
       "    }\n",
       "\n",
       "    .dataframe thead th {\n",
       "        text-align: right;\n",
       "    }\n",
       "</style>\n",
       "<table border=\"1\" class=\"dataframe\">\n",
       "  <thead>\n",
       "    <tr style=\"text-align: right;\">\n",
       "      <th></th>\n",
       "      <th>Model</th>\n",
       "      <th>Baseline</th>\n",
       "      <th>Hyperparametric Tuned</th>\n",
       "    </tr>\n",
       "  </thead>\n",
       "  <tbody>\n",
       "    <tr>\n",
       "      <th>0</th>\n",
       "      <td>Decision Tree Regression</td>\n",
       "      <td>0.296050</td>\n",
       "      <td>0.570720</td>\n",
       "    </tr>\n",
       "    <tr>\n",
       "      <th>1</th>\n",
       "      <td>Random Forest Regression</td>\n",
       "      <td>0.637961</td>\n",
       "      <td>0.606640</td>\n",
       "    </tr>\n",
       "    <tr>\n",
       "      <th>2</th>\n",
       "      <td>Support Vector Regression</td>\n",
       "      <td>0.437584</td>\n",
       "      <td>0.542376</td>\n",
       "    </tr>\n",
       "    <tr>\n",
       "      <th>3</th>\n",
       "      <td>KNN Regression</td>\n",
       "      <td>0.562182</td>\n",
       "      <td>0.600087</td>\n",
       "    </tr>\n",
       "  </tbody>\n",
       "</table>\n",
       "</div>"
      ],
      "text/plain": [
       "                       Model  Baseline  Hyperparametric Tuned\n",
       "0   Decision Tree Regression  0.296050               0.570720\n",
       "1   Random Forest Regression  0.637961               0.606640\n",
       "2  Support Vector Regression  0.437584               0.542376\n",
       "3             KNN Regression  0.562182               0.600087"
      ]
     },
     "execution_count": 59,
     "metadata": {},
     "output_type": "execute_result"
    }
   ],
   "source": [
    "power_compare = pd.DataFrame({\n",
    "    'Model':['Decision Tree Regression', 'Random Forest Regression', 'Support Vector Regression', 'KNN Regression'],\n",
    "    'Baseline':[dt_meanscore, rf_meanscore, svr_meanscore, knn_meanscore],\n",
    "    'Hyperparametric Tuned':[hpdt_meanscore, hprf_meanscore, hpsvr_meanscore, hpknn_meanscore]\n",
    "})\n",
    "\n",
    "power_compare"
   ]
  },
  {
   "cell_type": "markdown",
   "id": "cb7c85bd",
   "metadata": {},
   "source": [
    "# Prediction on test set with best performing model"
   ]
  },
  {
   "cell_type": "code",
   "execution_count": 68,
   "id": "0f938d66",
   "metadata": {},
   "outputs": [
    {
     "name": "stdout",
     "output_type": "stream",
     "text": [
      "Wall time: 320 ms\n"
     ]
    }
   ],
   "source": [
    "%%time\n",
    "y_pred = power_rf.predict(X_test)"
   ]
  },
  {
   "cell_type": "code",
   "execution_count": 69,
   "id": "8a8da2fa",
   "metadata": {},
   "outputs": [],
   "source": [
    "predictions = pd.DataFrame({'Actual':y_test, 'Predicted':y_pred})"
   ]
  },
  {
   "cell_type": "code",
   "execution_count": 71,
   "id": "88b05127",
   "metadata": {},
   "outputs": [
    {
     "data": {
      "text/html": [
       "<div>\n",
       "<style scoped>\n",
       "    .dataframe tbody tr th:only-of-type {\n",
       "        vertical-align: middle;\n",
       "    }\n",
       "\n",
       "    .dataframe tbody tr th {\n",
       "        vertical-align: top;\n",
       "    }\n",
       "\n",
       "    .dataframe thead th {\n",
       "        text-align: right;\n",
       "    }\n",
       "</style>\n",
       "<table border=\"1\" class=\"dataframe\">\n",
       "  <thead>\n",
       "    <tr style=\"text-align: right;\">\n",
       "      <th></th>\n",
       "      <th>Actual</th>\n",
       "      <th>Predicted</th>\n",
       "    </tr>\n",
       "  </thead>\n",
       "  <tbody>\n",
       "    <tr>\n",
       "      <th>5538</th>\n",
       "      <td>3.315285</td>\n",
       "      <td>3.104755</td>\n",
       "    </tr>\n",
       "    <tr>\n",
       "      <th>1124</th>\n",
       "      <td>1.965618</td>\n",
       "      <td>1.838612</td>\n",
       "    </tr>\n",
       "    <tr>\n",
       "      <th>15612</th>\n",
       "      <td>2.123391</td>\n",
       "      <td>2.201996</td>\n",
       "    </tr>\n",
       "    <tr>\n",
       "      <th>5398</th>\n",
       "      <td>3.208179</td>\n",
       "      <td>2.896573</td>\n",
       "    </tr>\n",
       "    <tr>\n",
       "      <th>100</th>\n",
       "      <td>0.481475</td>\n",
       "      <td>0.509808</td>\n",
       "    </tr>\n",
       "    <tr>\n",
       "      <th>16712</th>\n",
       "      <td>1.332970</td>\n",
       "      <td>1.498533</td>\n",
       "    </tr>\n",
       "    <tr>\n",
       "      <th>20047</th>\n",
       "      <td>2.328569</td>\n",
       "      <td>2.913947</td>\n",
       "    </tr>\n",
       "    <tr>\n",
       "      <th>5729</th>\n",
       "      <td>2.334629</td>\n",
       "      <td>2.340823</td>\n",
       "    </tr>\n",
       "    <tr>\n",
       "      <th>1229</th>\n",
       "      <td>1.727887</td>\n",
       "      <td>1.858999</td>\n",
       "    </tr>\n",
       "    <tr>\n",
       "      <th>17422</th>\n",
       "      <td>0.236526</td>\n",
       "      <td>0.065932</td>\n",
       "    </tr>\n",
       "  </tbody>\n",
       "</table>\n",
       "</div>"
      ],
      "text/plain": [
       "         Actual  Predicted\n",
       "5538   3.315285   3.104755\n",
       "1124   1.965618   1.838612\n",
       "15612  2.123391   2.201996\n",
       "5398   3.208179   2.896573\n",
       "100    0.481475   0.509808\n",
       "16712  1.332970   1.498533\n",
       "20047  2.328569   2.913947\n",
       "5729   2.334629   2.340823\n",
       "1229   1.727887   1.858999\n",
       "17422  0.236526   0.065932"
      ]
     },
     "execution_count": 71,
     "metadata": {},
     "output_type": "execute_result"
    }
   ],
   "source": [
    "predictions.head(10)"
   ]
  },
  {
   "cell_type": "code",
   "execution_count": 72,
   "id": "cf822c24",
   "metadata": {},
   "outputs": [
    {
     "name": "stdout",
     "output_type": "stream",
     "text": [
      "R2: 0.6351817211308615\n",
      "MAE: 0.5570463865620227\n",
      "RMSE: 0.4903051293803285\n"
     ]
    }
   ],
   "source": [
    "print('R2:', r2_score(y_test, y_pred))\n",
    "print('MAE:', np.sqrt(mean_absolute_error(y_test, y_pred)))\n",
    "print('RMSE:', np.sqrt(mean_squared_error(y_test, y_pred)))"
   ]
  },
  {
   "cell_type": "code",
   "execution_count": 67,
   "id": "3d38f6ce",
   "metadata": {},
   "outputs": [
    {
     "name": "stderr",
     "output_type": "stream",
     "text": [
      "C:\\Users\\anaab\\anaconda3\\lib\\site-packages\\seaborn\\distributions.py:2619: FutureWarning: `distplot` is a deprecated function and will be removed in a future version. Please adapt your code to use either `displot` (a figure-level function with similar flexibility) or `kdeplot` (an axes-level function for kernel density plots).\n",
      "  warnings.warn(msg, FutureWarning)\n",
      "C:\\Users\\anaab\\anaconda3\\lib\\site-packages\\seaborn\\distributions.py:2619: FutureWarning: `distplot` is a deprecated function and will be removed in a future version. Please adapt your code to use either `displot` (a figure-level function with similar flexibility) or `kdeplot` (an axes-level function for kernel density plots).\n",
      "  warnings.warn(msg, FutureWarning)\n"
     ]
    },
    {
     "data": {
      "image/png": "[encoded data removed]",
      "text/plain": [
       "<Figure size 500x700 with 1 Axes>"
      ]
     },
     "metadata": {},
     "output_type": "display_data"
    }
   ],
   "source": [
    "plt.figure(figsize=(5, 7))\n",
    "\n",
    "ax = sns.distplot(y_test, hist=False, color='g', label='Actual Value')\n",
    "sns.distplot(y_pred, hist=False, color='r', label='Fitted Values', ax=ax)\n",
    "\n",
    "plt.title('Actual vs Fitted Values for Power Output')\n",
    "plt.show()"
   ]
  }
 ],
 "metadata": {
  "kernelspec": {
   "display_name": "Python 3 (ipykernel)",
   "language": "python",
   "name": "python3"
  },
  "language_info": {
   "codemirror_mode": {
    "name": "ipython",
    "version": 3
   },
   "file_extension": ".py",
   "mimetype": "text/x-python",
   "name": "python",
   "nbconvert_exporter": "python",
   "pygments_lexer": "ipython3",
   "version": "3.9.13"
  }
 },
 "nbformat": 4,
 "nbformat_minor": 5
}
